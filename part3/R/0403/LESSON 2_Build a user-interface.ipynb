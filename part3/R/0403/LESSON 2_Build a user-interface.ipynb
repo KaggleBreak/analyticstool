{
 "cells": [
  {
   "cell_type": "markdown",
   "metadata": {},
   "source": [
    "## Shiny Tutorial \n",
    "### (R 중급) Layout the user interface - 4/3(월) 파트3 2회차 캐글즐기기"
   ]
  },
  {
   "cell_type": "code",
   "execution_count": 11,
   "metadata": {
    "collapsed": true
   },
   "outputs": [],
   "source": [
    "library(shiny)"
   ]
  },
  {
   "cell_type": "code",
   "execution_count": 1,
   "metadata": {
    "collapsed": false
   },
   "outputs": [],
   "source": [
    "#runExample(\"01_hello\")"
   ]
  },
  {
   "cell_type": "markdown",
   "metadata": {},
   "source": [
    "#### Shiny apps have two components:\n",
    "\n",
    "- a user-interface script\n",
    "- a server script\n",
    "\n",
    "- The user-interface (ui) script controls the layout and appearance of your app. It is defined in a source script named ui.R. Here is the ui.R script for the Hello Shiny example."
   ]
  },
  {
   "cell_type": "code",
   "execution_count": 6,
   "metadata": {
    "collapsed": false
   },
   "outputs": [
    {
     "data": {
      "text/plain": [
       "<div class=\"container-fluid\">\n",
       "  <h2>Hello Shiny!</h2>\n",
       "  <div class=\"row\">\n",
       "    <div class=\"col-sm-4\">\n",
       "      <form class=\"well\">\n",
       "        <div class=\"form-group shiny-input-container\">\n",
       "          <label class=\"control-label\" for=\"bins\">Number of bins:</label>\n",
       "          <input class=\"js-range-slider\" id=\"bins\" data-min=\"1\" data-max=\"50\" data-from=\"30\" data-step=\"1\" data-grid=\"true\" data-grid-num=\"9.8\" data-grid-snap=\"false\" data-keyboard=\"true\" data-keyboard-step=\"2.04081632653061\" data-drag-interval=\"true\" data-data-type=\"number\" data-prettify-separator=\",\"/>\n",
       "        </div>\n",
       "      </form>\n",
       "    </div>\n",
       "    <div class=\"col-sm-8\">\n",
       "      <div id=\"distPlot\" class=\"shiny-plot-output\" style=\"width: 100% ; height: 400px\"></div>\n",
       "    </div>\n",
       "  </div>\n",
       "</div>"
      ]
     },
     "metadata": {},
     "output_type": "display_data"
    }
   ],
   "source": [
    "#ui.R\n",
    "\n",
    "library(shiny)\n",
    "\n",
    "# Define UI for application that draws a histogram\n",
    "shinyUI(fluidPage(\n",
    "\n",
    "  # Application title\n",
    "  titlePanel(\"Hello Shiny!\"),\n",
    "\n",
    "  # Sidebar with a slider input for the number of bins\n",
    "  sidebarLayout(\n",
    "    sidebarPanel(\n",
    "      sliderInput(\"bins\",\n",
    "                  \"Number of bins:\",\n",
    "                  min = 1,\n",
    "                  max = 50,\n",
    "                  value = 30)\n",
    "    ),\n",
    "\n",
    "    # Show a plot of the generated distribution\n",
    "    mainPanel(\n",
    "      plotOutput(\"distPlot\")\n",
    "    )\n",
    "  )\n",
    "))"
   ]
  },
  {
   "cell_type": "code",
   "execution_count": 8,
   "metadata": {
    "collapsed": true
   },
   "outputs": [],
   "source": [
    "#The server.R script contains the instructions that your computer needs to build your app. \n",
    "#Here is the server.R script for the Hello Shiny example.\n",
    "\n",
    "#server.R\n",
    "library(shiny)\n",
    "\n",
    "# Define server logic required to draw a histogram\n",
    "shinyServer(function(input, output) {\n",
    "\n",
    "  # Expression that generates a histogram. The expression is\n",
    "  # wrapped in a call to renderPlot to indicate that:\n",
    "  #\n",
    "  #  1) It is \"reactive\" and therefore should re-execute automatically\n",
    "  #     when inputs change\n",
    "  #  2) Its output type is a plot\n",
    "\n",
    "  output$distPlot <- renderPlot({\n",
    "    x    <- faithful[, 2]  # Old Faithful Geyser data\n",
    "    bins <- seq(min(x), max(x), length.out = input$bins + 1)\n",
    "\n",
    "    # draw the histogram with the specified number of bins\n",
    "    hist(x, breaks = bins, col = 'darkgray', border = 'white')\n",
    "  })\n",
    "})"
   ]
  },
  {
   "cell_type": "markdown",
   "metadata": {},
   "source": [
    "- 한 단계에서 Hello Shiny server.R 스크립트는 매우 간단합니다. 스크립트는 몇 가지 계산을 수행 한 다음 요청 된 수의 빈으로 막대 그래프를 그립니다.\n",
    "\n",
    "- 그러나 대부분의 스크립트는 renderPlot에 대한 호출로 묶여 있음을 알 수 있습니다. 함수 위에있는 주석은 이것에 대해 조금 설명하지만, 혼란 스럽다면 걱정하지 마십시오. 우리는이 개념을 훨씬 더 자세하게 다룰 것입니다.\n",
    "\n",
    "- Hello Shiny 앱으로 재생하고 소스 코드를 검토하십시오. 앱의 작동 방식을 느껴보십시오.\n",
    "\n",
    "- Hello Shiny 앱이 활성화되어있을 때 R 세션이 사용 중이므로 R 명령을 실행할 수 없습니다. R은 앱을 모니터링하고 앱의 반응을 실행합니다. R 세션을 다시 얻으려면, 탈출구를 치거나 정지 신호 아이콘 (RStudio 콘솔 패널의 오른쪽 위 모서리에 있음)을 클릭하십시오."
   ]
  },
  {
   "cell_type": "markdown",
   "metadata": {},
   "source": [
    "### 앱 실행하기\n",
    "\n",
    "- 모든 Shiny 앱은 동일한 구조를 가지고 있습니다 : 디렉토리에 함께 저장된 두 개의 R 스크립트. Shiny 앱에는 최소한 ui.R 및 server.R 파일이 있습니다.\n",
    "\n",
    "- 참고 : 버전 0.10.2부터 Shiny는 단일 파일 응용 프로그램을 지원합니다. 더 이상 별도의 server.R 및 ui.R 파일을 앱에 구축 할 필요가 없습니다. 서버와 UI 구성 요소를 모두 포함하는 app.R이라는 파일을 만들면됩니다. 여기서 하나의 파일로 Shiny 앱을 만드는 방법에 대해 자세히 배울 수 있지만이 튜토리얼에서는 Shiny 앱을 빌드하는 두 파일 구조에 중점을 둘 것입니다.\n",
    "\n",
    "- 새로운 디렉토리를 만들고 그 안에 ui.R 및 server.R 파일을 저장하여 Shiny 응용 프로그램을 만들 수 있습니다. 각 앱마다 고유 한 디렉토리가 필요합니다.\n",
    "\n",
    "- RunApp 함수에 디렉토리 이름을 지정하여 Shiny 응용 프로그램을 실행할 수 있습니다. 예를 들어, Shiny 앱이 my_app라는 디렉토리에 있다면 다음 코드로 실행하십시오 :"
   ]
  },
  {
   "cell_type": "markdown",
   "metadata": {},
   "source": [
    "### 앱 실행하기\n",
    "\n",
    "- 모든 반짝이는 응용 프로그램이 있습니다. 반짝이는 애플 리케이션, 그리고 서버 .R 파일이 있습니다.\n",
    "\n",
    "- 참고 : 버전 0.10.2에서 Shiny는 싱글 파일 응용 프로그램을 지원합니다. 더 이상 별도의 서버 .R 및 ui.R 파일을 응용 프로그램을 구축 할 필요가 없습니다. 서버 및 UI 구성 요소를 모두 포함하는 응용 프로그램. 하나의 파일 반짝 이는 애플 리케이션을 만드는 방법에 빛나는 애플 리케이션을 반짝 이는 애플 리케이션은 두 파일 구조를 중점에 있습니다.\n",
    "\n",
    "- 새로운 디렉토리를 만들자. 서버와 파일. Shiny 응용 프로그램을 저장하는 프로그램. 각 애플 리케이션 단 하나의 필요가있다.\n",
    "\n",
    "- RunApp의 Shiny 응용 프로그램에서 실행 파일을 찾을 수 있습니다. 예를 들어, Shiny App이 항목에 적용 할 수 없습니다."
   ]
  },
  {
   "cell_type": "code",
   "execution_count": 12,
   "metadata": {
    "collapsed": false
   },
   "outputs": [],
   "source": [
    "#https://shiny.rstudio.com/articles/single-file.html\n",
    "#print(source(\"test.R\"))"
   ]
  },
  {
   "cell_type": "code",
   "execution_count": 16,
   "metadata": {
    "collapsed": false
   },
   "outputs": [],
   "source": [
    "#https://support.rstudio.com/hc/en-us/articles/200711843-Working-Directories-and-Workspaces\n",
    "#runApp(\"test\")"
   ]
  },
  {
   "cell_type": "code",
   "execution_count": 10,
   "metadata": {
    "collapsed": false
   },
   "outputs": [
    {
     "ename": "ERROR",
     "evalue": "Error in eval(expr, envir, enclos): 함수 \"runApp\"를 찾을 수 없습니다\n",
     "output_type": "error",
     "traceback": [
      "Error in eval(expr, envir, enclos): 함수 \"runApp\"를 찾을 수 없습니다\nTraceback:\n"
     ]
    }
   ],
   "source": [
    "#runApp(\"test\", display.mode = \"showcase\")"
   ]
  },
  {
   "cell_type": "code",
   "execution_count": null,
   "metadata": {
    "collapsed": false
   },
   "outputs": [
    {
     "name": "stderr",
     "output_type": "stream",
     "text": [
      "\n",
      "Listening on http://127.0.0.1:7827\n"
     ]
    }
   ],
   "source": [
    "#runApp(\"test4\", display.mode = \"showcase\")"
   ]
  },
  {
   "cell_type": "markdown",
   "metadata": {},
   "source": [
    "```\n",
    "system.file(\"examples\", package=\"shiny\")\n",
    "\n",
    "runExample(\"01_hello\") # a histogram\n",
    "runExample(\"02_text\") # tables and data frames\n",
    "runExample(\"03_reactivity\") # a reactive expression\n",
    "runExample(\"04_mpg\") # global variables\n",
    "runExample(\"05_sliders\") # slider bars\n",
    "runExample(\"06_tabsets\") # tabbed panels\n",
    "runExample(\"07_widgets\") # help text and submit buttons\n",
    "runExample(\"08_html\") # Shiny app built from HTML\n",
    "runExample(\"09_upload\") # file upload wizard\n",
    "runExample(\"10_download\") # file download wizard\n",
    "runExample(\"11_timer\") # an automated timer\n",
    "```"
   ]
  },
  {
   "cell_type": "markdown",
   "metadata": {},
   "source": [
    "### 사용자 인터페이스 만들기\n",
    "- 이제 Shiny 앱의 구조를 이해 했으므로 첫 번째 앱을 처음부터 제작할 차례입니다.\n",
    "\n",
    "- 이 강의는 앱의 사용자 인터페이스를 만드는 방법을 보여줍니다. 사용자 인터페이스를 배치 한 다음 텍스트, 이미지 및 기타 HTML 요소를 Shiny 응용 프로그램에 추가하는 방법을 배우게됩니다.\n",
    "\n",
    "- 1 단원에서 작성한 App-1 앱을 사용합니다. 시작하려면 server.R 및 ui.R 파일을 엽니 다. 아래 스크립트와 일치하도록 스크립트를 편집하십시오."
   ]
  },
  {
   "cell_type": "code",
   "execution_count": 22,
   "metadata": {
    "collapsed": false
   },
   "outputs": [
    {
     "data": {
      "text/plain": [
       "<div class=\"container-fluid\"></div>"
      ]
     },
     "metadata": {},
     "output_type": "display_data"
    }
   ],
   "source": [
    "#ui.R\n",
    "shinyUI(fluidPage())"
   ]
  },
  {
   "cell_type": "code",
   "execution_count": 24,
   "metadata": {
    "collapsed": true
   },
   "outputs": [],
   "source": [
    "#server.R\n",
    "shinyServer(function(input, output) {})\n",
    "\n",
    "#This code is the bare minimum needed to create a Shiny app. \n",
    "#The result is an empty app with a blank user-interface, an appropriate starting point for this lesson."
   ]
  },
  {
   "cell_type": "markdown",
   "metadata": {},
   "source": [
    "### 레이아웃\n",
    "- Shiny ui.R 스크립트는 fluidPage 함수를 사용하여 사용자의 브라우저 창의 크기에 맞게 자동으로 조정되는 디스플레이를 만듭니다. fluidPage 함수에 요소를 배치하여 앱을 배치합니다.\n",
    "\n",
    "- 예를 들어 아래의 ui.R 스크립트는 제목 패널과 사이드 바 레이아웃을 포함하는 사용자 인터페이스를 만듭니다. 여기에는 사이드 바 패널과 메인 패널이 포함됩니다. 이러한 요소는 fluidPage 함수 내에 배치됩니다."
   ]
  },
  {
   "cell_type": "code",
   "execution_count": 25,
   "metadata": {
    "collapsed": false
   },
   "outputs": [
    {
     "data": {
      "text/plain": [
       "<div class=\"container-fluid\">\n",
       "  <h2>title panel</h2>\n",
       "  <div class=\"row\">\n",
       "    <div class=\"col-sm-4\">\n",
       "      <form class=\"well\">sidebar panel</form>\n",
       "    </div>\n",
       "    <div class=\"col-sm-8\">main panel</div>\n",
       "  </div>\n",
       "</div>"
      ]
     },
     "metadata": {},
     "output_type": "display_data"
    }
   ],
   "source": [
    "# ui.R\n",
    "\n",
    "shinyUI(fluidPage(\n",
    "  titlePanel(\"title panel\"),\n",
    "\n",
    "  sidebarLayout(\n",
    "    sidebarPanel( \"sidebar panel\"),\n",
    "    mainPanel(\"main panel\")\n",
    "  )\n",
    "))\n"
   ]
  },
  {
   "cell_type": "markdown",
   "metadata": {},
   "source": [
    "<img src =\"https://shiny.rstudio.com/tutorial/lesson2/images/sidebar-layout1.png\">"
   ]
  },
  {
   "cell_type": "markdown",
   "metadata": {},
   "source": [
    "- titlePanel과 sidebarLayout은 fluidPage에 추가 할 가장 인기있는 두 요소입니다. 사이드 바를 사용하여 기본 Shiny 앱을 만듭니다.\n",
    "\n",
    "- sidebarLayout은 항상 두 개의 인수를 취합니다.\n",
    "\n",
    "- sidebarPanel 함수 출력\n",
    "\n",
    "- mainPanel 함수 출력\n",
    "\n",
    "- 이러한 기능은 사이드 바 또는 기본 패널에 내용을 배치합니다. 사이드 바 패널은 기본적으로 앱의 왼쪽에 표시됩니다. sidebarLayout에 선택적 인수 인 position = \"right\"를 지정하여 오른쪽으로 이동할 수 있습니다."
   ]
  },
  {
   "cell_type": "code",
   "execution_count": 26,
   "metadata": {
    "collapsed": false
   },
   "outputs": [
    {
     "data": {
      "text/plain": [
       "<div class=\"container-fluid\">\n",
       "  <h2>title panel</h2>\n",
       "  <div class=\"row\">\n",
       "    <div class=\"col-sm-8\">main panel</div>\n",
       "    <div class=\"col-sm-4\">\n",
       "      <form class=\"well\">sidebar panel</form>\n",
       "    </div>\n",
       "  </div>\n",
       "</div>"
      ]
     },
     "metadata": {},
     "output_type": "display_data"
    }
   ],
   "source": [
    "# ui.R\n",
    "\n",
    "shinyUI(fluidPage(\n",
    "  titlePanel(\"title panel\"),\n",
    "\n",
    "  sidebarLayout(position = \"right\",\n",
    "    sidebarPanel( \"sidebar panel\"),\n",
    "    mainPanel(\"main panel\")\n",
    "  )\n",
    "))"
   ]
  },
  {
   "cell_type": "markdown",
   "metadata": {},
   "source": [
    "<img src =\"https://shiny.rstudio.com/tutorial/lesson2/images/sidebar-layout2.png\">\n",
    "\n",
    "- titlePanel 및 sidebarLayout은 Shiny 앱의 기본 레이아웃을 만들지 만보다 고급 레이아웃을 만들 수도 있습니다.\n",
    "\n",
    "- navbarPage를 사용하여 내비게이션 막대가 포함 된 다중 페이지 사용자 인터페이스를 앱에 제공 할 수 있습니다.\n",
    "- 또는 fluidRow 및 column을 사용하여 그리드 시스템에서 레이아웃을 빌드 할 수 있습니다. \n",
    "- 이러한 고급 옵션에 대한 자세한 내용은 Shiny Application Layout Guide를 참조하십시오. \n",
    "(https://shiny.rstudio.com/articles/layout-guide.html)\n",
    "- 우리는 사이드 바 레이아웃을이 튜토리얼의 레이아웃에 맞출 것이다."
   ]
  },
  {
   "cell_type": "markdown",
   "metadata": {},
   "source": [
    "### HTML Content\n",
    "- Panel 기능 내에 Shiny 앱을 삽입하여 컨텐츠를 추가 할 수 있습니다. 예를 들어 위의 앱은 각 패널에 문자열을 표시합니다. sidebarPanel ( \"sidebar panel\")과 같은 sidebarPanel 함수에 문자열을 추가 했으므로 \"sidebar panel\"이라는 단어가 사이드 바 패널에 나타납니다. 제목 패널 및 기본 패널의 텍스트도 마찬가지입니다.\n",
    "\n",
    "- 고급 컨텐트를 추가하려면 Shiny의 HTML 태그 기능 중 하나를 사용하십시오. 이러한 함수는 일반적인 HTML5 태그와 유사합니다. 그들 중 몇 가지를 시험해 봅시다.\n",
    "\n",
    "```\n",
    "shiny function\tHTML5 equivalent\tcreates\n",
    "p\t<p>\tA paragraph of text\n",
    "h1\t<h1>\tA first level header\n",
    "h2\t<h2>\tA second level header\n",
    "h3\t<h3>\tA third level header\n",
    "h4\t<h4>\tA fourth level header\n",
    "h5\t<h5>\tA fifth level header\n",
    "h6\t<h6>\tA sixth level header\n",
    "a\t<a>\tA hyper link\n",
    "br\t<br>\tA line break (e.g. a blank line)\n",
    "div\t<div>\tA division of text with a uniform style\n",
    "span\t<span>\tAn in-line division of text with a uniform style\n",
    "pre\t<pre>\tText ‘as is’ in a fixed width font\n",
    "code\t<code>\tA formatted block of code\n",
    "img\t<img>\tAn image\n",
    "strong\t<strong>\tBold text\n",
    "em\t<em>\tItalicized text\n",
    "HTML\t \tDirectly passes a character string as HTML code\n",
    "```\n",
    "\n",
    "### Headers\n",
    "\n",
    "- 머리글 요소를 만들려면 :\n",
    "\n",
    "- 헤더 기능 (예 : h1 또는 h5)을 선택하십시오.\n",
    "\n",
    "- 헤더에 표시 할 텍스트를 지정하십시오.\n",
    "\n",
    "- 예를 들어, \"내 제목\"이라는 h1 ( \"내 제목\")이라는 첫 번째 수준의 머리글을 만들 수 있습니다. 명령 행에서 명령을 실행하면 HTML 코드가 생성됩니다."
   ]
  },
  {
   "cell_type": "code",
   "execution_count": 27,
   "metadata": {
    "collapsed": false
   },
   "outputs": [
    {
     "data": {
      "text/plain": [
       "<h1>My title</h1>"
      ]
     },
     "metadata": {},
     "output_type": "display_data"
    }
   ],
   "source": [
    "h1(\"My title\")"
   ]
  },
  {
   "cell_type": "markdown",
   "metadata": {},
   "source": [
    "- 앱에 요소를 배치하려면 다음을 수행하십시오.\n",
    "- titlePanel, sidebarPanel 또는 mainPanel의 인수로 h1 ( \"My title\")을 전달합니다.\n",
    "- 텍스트는 웹 페이지의 해당 패널에 표시됩니다. 쉼표로 구분하면 동일한 패널에 여러 요소를 배치 할 수 있습니다.\n",
    "- 이것을 시도하십시오. 아래의 새 스크립트는 6 가지 레벨의 헤더를 모두 사용합니다. ui.R을 업데이트하여 스크립트와 일치시키고 앱을 다시 시작하십시오. RunApp ( \"App-1\")을 실행하거나, 앱 실행 버튼을 클릭하거나 키보드 단축키를 사용할 수있는 Shiny 앱을 다시 실행하십시오."
   ]
  },
  {
   "cell_type": "code",
   "execution_count": 28,
   "metadata": {
    "collapsed": false
   },
   "outputs": [
    {
     "data": {
      "text/plain": [
       "<div class=\"container-fluid\">\n",
       "  <h2>My Shiny App</h2>\n",
       "  <div class=\"row\">\n",
       "    <div class=\"col-sm-4\">\n",
       "      <form class=\"well\"></form>\n",
       "    </div>\n",
       "    <div class=\"col-sm-8\">\n",
       "      <h1>First level title</h1>\n",
       "      <h2>Second level title</h2>\n",
       "      <h3>Third level title</h3>\n",
       "      <h4>Fourth level title</h4>\n",
       "      <h5>Fifth level title</h5>\n",
       "      <h6>Sixth level title</h6>\n",
       "    </div>\n",
       "  </div>\n",
       "</div>"
      ]
     },
     "metadata": {},
     "output_type": "display_data"
    }
   ],
   "source": [
    "# ui.R\n",
    "\n",
    "shinyUI(fluidPage(\n",
    "  titlePanel(\"My Shiny App\"),\n",
    "  sidebarLayout(\n",
    "    sidebarPanel(),\n",
    "    mainPanel(\n",
    "      h1(\"First level title\"),\n",
    "      h2(\"Second level title\"),\n",
    "      h3(\"Third level title\"),\n",
    "      h4(\"Fourth level title\"),\n",
    "      h5(\"Fifth level title\"),\n",
    "      h6(\"Sixth level title\")\n",
    "    )\n",
    "  )\n",
    "))"
   ]
  },
  {
   "cell_type": "markdown",
   "metadata": {},
   "source": [
    "<img src =\"https://shiny.rstudio.com/tutorial/lesson2/images/headers.png\">\n",
    "\n",
    "- 이 효과는 h6 ( \"Episode IV\", align = \"center\")에서와 같이 align = \"center\"로 만들 수 있습니다. 일반적으로 모든 HTML 태그 속성은 임의의 Shiny 태그 함수에서 인수로 설정할 수 있습니다.\n",
    "\n",
    "- HTML 태그 속성에 익숙하지 않은 사용자는 w3school과 같은 많은 무료 온라인 HTML 자원 중 하나에서 속성을 찾을 수 있습니다.\n",
    "\n",
    "- 다음은 Star Wars에서 영감을 얻은 사용자 인터페이스를 작성한 코드입니다."
   ]
  },
  {
   "cell_type": "code",
   "execution_count": 29,
   "metadata": {
    "collapsed": false
   },
   "outputs": [
    {
     "data": {
      "text/plain": [
       "<div class=\"container-fluid\">\n",
       "  <h2>My Shiny App</h2>\n",
       "  <div class=\"row\">\n",
       "    <div class=\"col-sm-4\">\n",
       "      <form class=\"well\"></form>\n",
       "    </div>\n",
       "    <div class=\"col-sm-8\">\n",
       "      <h6 align=\"center\">Episode IV</h6>\n",
       "      <h6 align=\"center\">A NEW HOPE</h6>\n",
       "      <h5 align=\"center\">It is a period of civil war.</h5>\n",
       "      <h4 align=\"center\">Rebel spaceships, striking</h4>\n",
       "      <h3 align=\"center\">from a hidden base, have won</h3>\n",
       "      <h2 align=\"center\">their first victory against the</h2>\n",
       "      <h1>evil Galactic Empire.</h1>\n",
       "    </div>\n",
       "  </div>\n",
       "</div>"
      ]
     },
     "metadata": {},
     "output_type": "display_data"
    }
   ],
   "source": [
    "# ui.R\n",
    "\n",
    "shinyUI(fluidPage(\n",
    "  titlePanel(\"My Shiny App\"),\n",
    "  sidebarLayout(\n",
    "    sidebarPanel(),\n",
    "    mainPanel(\n",
    "        h6(\"Episode IV\", align = \"center\"),\n",
    "        h6(\"A NEW HOPE\", align = \"center\"),\n",
    "        h5(\"It is a period of civil war.\", align = \"center\"),\n",
    "        h4(\"Rebel spaceships, striking\", align = \"center\"),\n",
    "        h3(\"from a hidden base, have won\", align = \"center\"),\n",
    "        h2(\"their first victory against the\", align = \"center\"),\n",
    "        h1(\"evil Galactic Empire.\")\n",
    "    )\n",
    "  )\n",
    "))"
   ]
  },
  {
   "cell_type": "markdown",
   "metadata": {},
   "source": [
    "### Formatted text\n",
    "- Shiny는 텍스트 서식 지정을위한 많은 태그 기능을 제공합니다. 이를 설명하는 가장 쉬운 방법은 예제를 통해 실행하는 것입니다.\n",
    "\n",
    "- ui.R 파일에 아래의 ui.R 스크립트를 붙여넣고 저장하십시오. Shiny 앱이 아직 실행중인 경우 웹 페이지 또는 미리보기 창을 새로 고칠 수 있으며 변경 사항이 표시됩니다. 앱이 종료 된 경우 앱을 다시 실행하십시오.\n",
    "\n",
    "- 표시된 응용 프로그램과 업데이트 된 ui.R 스크립트를 비교하여 Shiny 응용 프로그램에서 텍스트의 서식을 지정하는 방법을 찾습니다."
   ]
  },
  {
   "cell_type": "code",
   "execution_count": 31,
   "metadata": {
    "collapsed": false
   },
   "outputs": [
    {
     "data": {
      "text/plain": [
       "<div class=\"container-fluid\">\n",
       "  <h2>My Shiny App</h2>\n",
       "  <div class=\"row\">\n",
       "    <div class=\"col-sm-4\">\n",
       "      <form class=\"well\"></form>\n",
       "    </div>\n",
       "    <div class=\"col-sm-8\">\n",
       "      <p>p creates a paragraph of text.</p>\n",
       "      <p style=\"font-family: &#39;times&#39;; font-si16pt\">A new p() command starts a new paragraph. Supply a style attribute to change the format of the entire paragraph.</p>\n",
       "      <strong>strong() makes bold text.</strong>\n",
       "      <em>em() creates italicized (i.e, emphasized) text.</em>\n",
       "      <br/>\n",
       "      <code>code displays your text similar to computer code</code>\n",
       "      <div style=\"color:blue\">div creates segments of text with a similar style. This division of text is all blue because I passed the argument 'style = color:blue' to div</div>\n",
       "      <br/>\n",
       "      <p>\n",
       "        span does the same thing as div, but it works with\n",
       "        <span style=\"color:blue\">groups of words</span>\n",
       "        that appear inside a paragraph.\n",
       "      </p>\n",
       "    </div>\n",
       "  </div>\n",
       "</div>"
      ]
     },
     "metadata": {},
     "output_type": "display_data"
    }
   ],
   "source": [
    "# ui.R\n",
    "\n",
    "shinyUI(fluidPage(\n",
    "  titlePanel(\"My Shiny App\"),\n",
    "  sidebarLayout(\n",
    "    sidebarPanel(),\n",
    "    mainPanel(\n",
    "      p(\"p creates a paragraph of text.\"),\n",
    "      p(\"A new p() command starts a new paragraph. Supply a style attribute to change the format of the entire paragraph.\", style = \"font-family: 'times'; font-si16pt\"),\n",
    "      strong(\"strong() makes bold text.\"),\n",
    "      em(\"em() creates italicized (i.e, emphasized) text.\"),\n",
    "      br(),\n",
    "      code(\"code displays your text similar to computer code\"),\n",
    "      div(\"div creates segments of text with a similar style. This division of text is all blue because I passed the argument 'style = color:blue' to div\", style = \"color:blue\"),\n",
    "      br(),\n",
    "      p(\"span does the same thing as div, but it works with\",\n",
    "        span(\"groups of words\", style = \"color:blue\"),\n",
    "        \"that appear inside a paragraph.\")\n",
    "    )\n",
    "  )\n",
    "))\n"
   ]
  },
  {
   "cell_type": "code",
   "execution_count": 33,
   "metadata": {
    "collapsed": false
   },
   "outputs": [],
   "source": [
    "#runApp(\"test2\")"
   ]
  },
  {
   "cell_type": "markdown",
   "metadata": {},
   "source": [
    "### Images\n",
    "- 이미지는 앱의 모양을 향상시키고 사용자가 콘텐츠를 이해하도록 도와줍니다. Shiny는 앱에 이미지 파일을 저장하는 img 함수를 찾습니다.\n",
    "\n",
    "- 이미지를 삽입하려면 img 함수에 이미지 파일 이름을 src 인수로 지정하십시오 (예 : img (src = \"my_image.png\")). img는 입력을 HTML 태그에 전달하고 src는 태그가 예상하는 내용이므로이 인수를 설명해야합니다.\n",
    "\n",
    "- 높이와 너비와 같은 다른 HTML 친숙한 매개 변수를 포함 할 수도 있습니다. 높이 및 너비 숫자는 픽셀을 나타냅니다.\n",
    "\n",
    "- img 함수는 특정 위치에서 이미지 파일을 찾습니다. 파일은 ui.R 스크립트와 동일한 디렉토리에 www라는 폴더에 있어야합니다. \n",
    "\n",
    "- Shiny는이 디렉토리를 특별한 방법으로 취급합니다. Shiny는 여기에 배치 된 모든 파일을 사용자의 웹 브라우저와 공유합니다. www가 이미지, 스타일 시트 및 Shiny 응용 프로그램의 wep 구성 요소를 작성하는 데 필요한 다른 것들을 넣을 수있는 좋은 장소가됩니다."
   ]
  },
  {
   "cell_type": "code",
   "execution_count": 35,
   "metadata": {
    "collapsed": false
   },
   "outputs": [
    {
     "data": {
      "text/plain": [
       "<img src=\"my_image.png\" height=\"72\" width=\"72\"/>"
      ]
     },
     "metadata": {},
     "output_type": "display_data"
    }
   ],
   "source": [
    "img(src = \"my_image.png\", height = 72, width = 72)"
   ]
  },
  {
   "cell_type": "code",
   "execution_count": 37,
   "metadata": {
    "collapsed": false
   },
   "outputs": [],
   "source": [
    "#runApp(\"test3\")"
   ]
  },
  {
   "cell_type": "markdown",
   "metadata": {},
   "source": [
    "### Other tags\n",
    "- 이 레슨은 가장 인기있는 Shiny 태그 기능을 다루지 만 더 많은 태그 기능을 사용할 수 있습니다. HTML 및 반짝이는 HTML 태그 용어집으로 UI 사용자 정의에서 추가 태그 기능에 대해 배울 수 있습니다.\n",
    "\n",
    "- Shiny의 레이아웃, HTML 및 img 기능을 사용하여 매우 매력적이고 유용한 사용자 인터페이스를 만들 수 있습니다. 아래에 설명 된 Shiny 앱을 다시 제작하여 이러한 기능을 얼마나 잘 이해하고 있는지 확인하십시오. 이 자습서의 예제를 사용하여 작업 한 다음 테스트 해보십시오.\n",
    "\n",
    "- 우리의 ui.R 스크립트는 모델 응답 단추 아래에 있지만 복사하고 붙여 넣기 만하면 안됩니다. 계속 진행하기 전에 코드가 어떻게 작동하는지 이해하십시오.\n",
    "\n",
    "\n",
    "#### Recap\n",
    "- 새로운 기술을 통해 다음을 수행 할 수 있습니다.\n",
    "\n",
    "- fluidPage, titlePanel 및 sidebarLayout을 사용하여 사용자 인터페이스를 만듭니다.\n",
    "\n",
    "- Shiny의 태그 함수 중 하나를 사용하여 HTML 요소 만들기\n",
    "\n",
    "- 각 태그 함수의 인수에 HTML 태그 속성 설정\n",
    "\n",
    "- titlePanel, sidebarPanel 또는 mainPanel에 전달하여 요소를 웹 페이지에 추가하십시오.\n",
    "\n",
    "- 쉼표로 구분하여 여러 요소를 각 패널에 추가하십시오.\n",
    "\n",
    "- Shiny app 디렉토리 내의 www로 표시된 폴더에 이미지를 놓은 다음 img 함수를 호출하여 이미지를 추가하십시오.\n",
    "\n",
    "- 이제 사용자 인터페이스에 단순한 컨텐츠를 배치 할 수있게되었으므로 위젯과 같이 더 복잡한 컨텐츠를 배치하는 방법을 살펴 보겠습니다. 위젯은 사용자가 앱을 제어하는 ​​데 사용할 수있는 양방향 웹 요소입니다. 그것들은 제 3 과목의 주제이기도합니다."
   ]
  },
  {
   "cell_type": "markdown",
   "metadata": {},
   "source": [
    "### Quiz\n",
    "\n",
    "<img src=\"https://shiny.rstudio.com/tutorial/lesson2/images/my-shiny-app.png\">"
   ]
  }
 ],
 "metadata": {
  "kernelspec": {
   "display_name": "R",
   "language": "R",
   "name": "ir"
  },
  "language_info": {
   "codemirror_mode": "r",
   "file_extension": ".r",
   "mimetype": "text/x-r-source",
   "name": "R",
   "pygments_lexer": "r",
   "version": "3.3.3"
  }
 },
 "nbformat": 4,
 "nbformat_minor": 2
}
