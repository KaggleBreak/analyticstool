{
 "cells": [
  {
   "cell_type": "markdown",
   "metadata": {},
   "source": [
    "# Chapter VI Models"
   ]
  },
  {
   "cell_type": "code",
   "execution_count": null,
   "metadata": {
    "collapsed": false
   },
   "outputs": [],
   "source": [
    "%pylab inline"
   ]
  },
  {
   "cell_type": "markdown",
   "metadata": {},
   "source": [
    "### The [Fibonacci sequence](http://en.wikipedia.org/wiki/Fibonacci_number) is a sequence in math that starts with 0 and 1, and then each successive entry is the sum of the previous two. Thus, the sequence goes 0,1,1,2,3,5,8,13,21,34,55,89,...\n",
    "\n",
    "### Let's compute the Fibonacci sequence up to some number **n**:"
   ]
  },
  {
   "cell_type": "code",
   "execution_count": null,
   "metadata": {
    "collapsed": false
   },
   "outputs": [],
   "source": [
    "def fibonacci(sequence_length):\n",
    "    \"Return the Fibonacci sequence of length *sequence_length*\"\n",
    "    sequence = [0,1]\n",
    "    if sequence_length < 1:\n",
    "        print \"Fibonacci sequence only defined for length 1 \\\n",
    "               or greater\"\n",
    "        return\n",
    "    if 0 < sequence_length < 3:\n",
    "        return sequence[:sequence_length]\n",
    "    for i in range(2,sequence_length): \n",
    "        sequence.append(sequence[i-1]+sequence[i-2])\n",
    "    return sequence\n",
    "\n",
    "fibonacci(12)"
   ]
  },
  {
   "cell_type": "markdown",
   "metadata": {},
   "source": [
    "### Lotka-Volterra differntial equations"
   ]
  },
  {
   "cell_type": "code",
   "execution_count": null,
   "metadata": {
    "collapsed": false
   },
   "outputs": [],
   "source": [
    "from sympy import *"
   ]
  },
  {
   "cell_type": "code",
   "execution_count": null,
   "metadata": {
    "collapsed": false
   },
   "outputs": [],
   "source": [
    "#defining the variables and parameters\n",
    "var('y z')\n",
    "var('alfa beta gamma delta', positive=True)"
   ]
  },
  {
   "cell_type": "code",
   "execution_count": null,
   "metadata": {
    "collapsed": false
   },
   "outputs": [],
   "source": [
    "#defining the equations\n",
    "dy = alfa*z*y - beta*y\n",
    "dz = gamma*z - delta*z*y"
   ]
  },
  {
   "cell_type": "code",
   "execution_count": null,
   "metadata": {
    "collapsed": false
   },
   "outputs": [],
   "source": [
    "#solving the Lotka Volterra equations\n",
    "(y0, z0), (y1, z1) = solve([dy, dz], (y, z))\n",
    "A = Matrix((dy, dz))\n",
    "print A"
   ]
  },
  {
   "cell_type": "code",
   "execution_count": null,
   "metadata": {
    "collapsed": false,
    "scrolled": true
   },
   "outputs": [],
   "source": [
    "#computing the Jacobian\n",
    "Jacobian = A.jacobian((y, z)); Jacobian\n",
    "B = Jacobian.subs(y, y0).subs(z, z0)\n",
    "C = Jacobian.subs(y, y1).subs(z, z1)\n",
    "print B,C"
   ]
  },
  {
   "cell_type": "code",
   "execution_count": null,
   "metadata": {
    "collapsed": false
   },
   "outputs": [],
   "source": [
    "#stability of the fixed points\n",
    "solutionB=B.eigenvals()\n",
    "solutionC=C.eigenvals()\n",
    "print solutionB,solutionC"
   ]
  },
  {
   "cell_type": "markdown",
   "metadata": {},
   "source": [
    "### Generating Random Networks (Erdos-Renyi)"
   ]
  },
  {
   "cell_type": "code",
   "execution_count": null,
   "metadata": {
    "collapsed": false
   },
   "outputs": [],
   "source": [
    "import networkx as nx\n",
    "import random\n",
    "\n",
    "Number_of_nodes=10\n",
    "p=0.4\n",
    "\n",
    "G=nx.Graph()\n",
    "for n in range(Number_of_nodes): \n",
    "    G.add_node(n)\n",
    "\n",
    "node_list=G.nodes()\n",
    "\n",
    "#generate the graph adding ad edge for each possible couple of nodes\n",
    "for i1 in range(len(node_list)-1):\n",
    "    for i2 in range(i1+1,len(node_list)):\n",
    "        if random.random()<p:\n",
    "            G.add_edge(node_list[i1],node_list[i2])\n",
    "\n",
    "pos=nx.circular_layout(G)   \n",
    "nx.draw(G, pos,with_labels=True)\n",
    " "
   ]
  },
  {
   "cell_type": "markdown",
   "metadata": {},
   "source": [
    "### Randomizing Graphs"
   ]
  },
  {
   "cell_type": "code",
   "execution_count": null,
   "metadata": {
    "collapsed": false
   },
   "outputs": [],
   "source": [
    "number_of_swaps=2\n",
    "\n",
    "while number_of_swaps>0:\n",
    "    #pick at random a couple of edges and verify \n",
    "    #they don't share nodes\n",
    "    edges_to_swap=random.sample(G.edges(),2)\n",
    "    e0=edges_to_swap[0]\n",
    "    e1=edges_to_swap[1]\n",
    "\n",
    "    if len(set([e0[0],e0[1],e1[0],e1[1]]))<4: continue\n",
    "\n",
    "    #check if the edge already exists and eventually add it\n",
    "    if not G.has_edge(e0[0],e1[1]):\n",
    "        G.add_edge(e0[0],e1[1])\n",
    "    G.remove_edge(e0[0], e0[1])\n",
    "    if not G.has_edge(e0[1],e1[0]):\n",
    "        G.add_edge(e0[1],e1[0])\n",
    "    G.remove_edge(e1[0], e1[1])\n",
    "\n",
    "    number_of_swaps-=1\n",
    "\n",
    "pos=nx.circular_layout(G)   \n",
    "nx.draw(G, pos,with_labels=True)"
   ]
  },
  {
   "cell_type": "markdown",
   "metadata": {},
   "source": [
    "### Configuration model"
   ]
  },
  {
   "cell_type": "code",
   "execution_count": null,
   "metadata": {
    "collapsed": false
   },
   "outputs": [],
   "source": [
    "degree_sequence=[6, 4, 3, 2, 1, 1, 1]\n",
    "\n",
    "#this generate the list of uppercast chars as labels for the nodes\n",
    "uppercase_char_list=[chr(i) for i in xrange(65,91)]\n",
    "\n",
    "degree_sequence.sort(reverse=True)\n",
    "#degree sequence\n",
    "print \"degree sequence:\",degree_sequence\n",
    "\n",
    "stub_list=[]\n",
    "\n",
    "for deg in degree_sequence:\n",
    "    label=uppercase_char_list.pop(0)\n",
    "    for stub in range(deg):\n",
    "        stub_list.append(label)\n",
    "\n",
    "\n",
    "print \"ordered stub labels\",stub_list\n",
    "\n",
    "random.shuffle(stub_list)\n",
    "\n",
    "print \"shuffled stub labels\",stub_list\n",
    "\n",
    "MG = nx.MultiGraph()\n",
    "\n",
    "while stub_list!=[]:\n",
    "    node1=stub_list.pop(0)\n",
    "    node2=stub_list.pop(0)\n",
    "    MG.add_edge(node1,node2)\n",
    "\n",
    "print \"graph edge list:\",MG.edges()"
   ]
  },
  {
   "cell_type": "markdown",
   "metadata": {},
   "source": [
    "### Gravity Model"
   ]
  },
  {
   "cell_type": "code",
   "execution_count": null,
   "metadata": {
    "collapsed": false
   },
   "outputs": [],
   "source": [
    "import scipy.optimize as optimization\n",
    "import numpy\n",
    "\n",
    "# Generate artificial data = straight line with a=0 and b=1\n",
    "# plus some noise.\n",
    "xdata = numpy.array([0.0,1.0,2.0,3.0,4.0,5.0])\n",
    "ydata = numpy.array([0.1,0.9,2.2,2.8,3.9,5.1])\n",
    "\n",
    "sigma = numpy.array([1.0,1.0,1.0,1.0,1.0,1.0])\n",
    "\n",
    "# Initial guess.\n",
    "x0    = numpy.array([0.0, 0.0, 0.0])\n",
    "\n",
    "#defining the gravitational function\n",
    "def func(x, a, b, c):\n",
    "    return a + b*x + c*x*x\n",
    "\n",
    "#optimization\n",
    "import scipy.optimize as optimization\n",
    "\n",
    "print optimization.curve_fit(func, xdata, ydata, x0, sigma)"
   ]
  },
  {
   "cell_type": "markdown",
   "metadata": {},
   "source": [
    "### Fitness Model"
   ]
  },
  {
   "cell_type": "code",
   "execution_count": null,
   "metadata": {
    "collapsed": false
   },
   "outputs": [],
   "source": [
    "import math\n",
    "\n",
    "G=nx.Graph()\n",
    "\n",
    "#this is our z(N)\n",
    "ave_value=1.0\n",
    "N=5000\n",
    "    \n",
    "def fitness_function():\n",
    "    return random.expovariate(4.0/ave_value)\n",
    "\n",
    "def generate_function(x1,x2):\n",
    "    if x1+x2-ave_value<0.0:\n",
    "        return 0\n",
    "    else:\n",
    "        return 1\n",
    "    \n",
    "for n in range(N):\n",
    "    G.add_node(n,fitness=fitness_function())\n",
    "\n",
    "node_list=G.nodes()\n",
    "    \n",
    "#generate the graph adding ad edge for each possible couple of nodes\n",
    "for i1 in range(len(node_list)-1):\n",
    "    for i2 in range(i1+1,len(node_list)):\n",
    "        x1=G.node[node_list[i1]]['fitness']\n",
    "        x2=G.node[node_list[i2]]['fitness']\n",
    "        if generate_function(x1,x2)==1:\n",
    "            G.add_edge(node_list[i1],node_list[i2])\n",
    "\n",
    "degree_sequence=sorted(nx.degree(G).values(),reverse=True)\n",
    "\n",
    "hist(degree_sequence,bins=15)"
   ]
  },
  {
   "cell_type": "markdown",
   "metadata": {
    "collapsed": true
   },
   "source": [
    "### Barabasi-Albert Model"
   ]
  },
  {
   "cell_type": "code",
   "execution_count": null,
   "metadata": {
    "collapsed": false,
    "scrolled": true
   },
   "outputs": [],
   "source": [
    "N0=6\n",
    "p=0.6\n",
    "new_nodes=1000\n",
    "\n",
    "G=nx.gnp_random_graph(N0, p)\n",
    "\n",
    "for eti in range(new_nodes):\n",
    "    m=3\n",
    "    new_eti=\"_\"+str(eti)\n",
    "    target_nodes=[]\n",
    "    while m!=0:\n",
    "        part_sum=0.0\n",
    "        rn=random.random()\n",
    "        for n in G.nodes():\n",
    "            base=part_sum\n",
    "            step=part_sum+G.degree(n)/(G.number_of_edges()*2.0)\n",
    "            part_sum=part_sum+G.degree(n)/(G.number_of_edges()*2.0)\n",
    "            if rn>=base and rn<step:\n",
    "                if n in target_nodes: break\n",
    "                target_nodes.append(n)\n",
    "                m=m-1\n",
    "                break\n",
    "                \n",
    "    for n_tar in target_nodes:\n",
    "        G.add_edge(new_eti,n_tar)\n",
    "\n",
    "degree_sequence=sorted(nx.degree(G).values(),reverse=True)\n",
    "\n",
    "hist(degree_sequence,bins=15)"
   ]
  },
  {
   "cell_type": "code",
   "execution_count": null,
   "metadata": {
    "collapsed": true
   },
   "outputs": [],
   "source": []
  }
 ],
 "metadata": {
  "kernelspec": {
   "display_name": "Python 2",
   "language": "python",
   "name": "python2"
  },
  "language_info": {
   "codemirror_mode": {
    "name": "ipython",
    "version": 2
   },
   "file_extension": ".py",
   "mimetype": "text/x-python",
   "name": "python",
   "nbconvert_exporter": "python",
   "pygments_lexer": "ipython2",
   "version": "2.7.6"
  }
 },
 "nbformat": 4,
 "nbformat_minor": 0
}
