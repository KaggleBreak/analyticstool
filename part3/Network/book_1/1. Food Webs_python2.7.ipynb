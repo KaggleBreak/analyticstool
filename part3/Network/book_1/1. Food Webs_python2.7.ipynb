{
 "cells": [
  {
   "cell_type": "markdown",
   "metadata": {},
   "source": [
    "## Data Science & Complex Networks\n",
    "### 캐글즐기기 이상열 2017/04/17(월)\n",
    "\n",
    "#### Introduction\n",
    "#### 1. Food Webs\n",
    "#### 2. International Trade networks and World Trade Web\n",
    "#### 3. The Internet Network\n",
    "#### 4. World Wide Web, Wikipedia, and Social Networks\n",
    "#### 5. Financial Networks\n",
    "#### 6. Modeling\n",
    "\n",
    "### http://book.complexnetworks.net\n",
    "\n",
    "\n",
    "### Introduction\n",
    "\n",
    "#### [1]\n",
    "- 복잡한 네트워크는 직관적이고 학제적으로 이루어져 과학자와 실무자 사이에서 점점 더 인기를 얻고 있습니다 (Albert and Barabási, 2002; Catanzaro and Caldarelli, 2012). 기본 모델링은 이해하기가 비교적 간단할뿐만 아니라 정도 또는 클러스터링과 같은 \"로컬\"네트워크 속성 (즉 단일 정점 / 노드와 관련)을 즉시 시각화하고 계산할 수 있습니다. \n",
    "\n",
    "- 첫 번째 접근 방식은 즉각적인 결과를 산출 할 수 있으며 측정 값은 더 적고 기술적 인 지식이 더 필요합니다. 특히 로컬 그래프 수량에서부터 글로벌 최적화 (예 : 최적화) 및 2 개 및 3 개의 꼭짓점 속성 통과 (예 : reèip'rocity 및 네트워크 이론의 성공과 병행하여 데이터 저장소의 수와 크기가 증가하는 또 다른 현상이 목격되고 있으며 매일 매일 증가하는 뉴스, 미디어, 소셜 네트워크에서 블로그, 좋아요 및 공유 형식의 의견을 작성하고 저장합니다. \n",
    "\n",
    "- 간단하고 정교한 알고리즘 및 기술이 귀중한 정보를 추출하는 데 필요합니다. 이 데이터 양의 정보.\n",
    "\n",
    "- 이 책의 목적은 네트워크 이론이 이러한 데이터 생성 시스템에서 정보를 모델링하고 필터링하는 데 중요한 도구임을 보여주는 것입니다. 이 정신에서 우리는 이 매력적인 필드를 통해 독자들을 안내하고 싶습니다.\n",
    "\n",
    "- 네트워크 개념. 개념은 개념을 시작하여 더 정교한 전자적 양으로 이동하고 독자가 연구를 계속하기 위해 도구 (특히 소프트웨어)를 제공하는 것입니다. 이러한 목적을 달성하기 위해 최근의 복잡한 네트워크의 성공에 따라 (Dorogovtsev and Mendes, 2003, Caldarelli, 2007, Barrat et, 2008, Dorogovtsev, 2010, Newman, 2010) \n",
    "\n",
    "- 다양한 검토와 검토를 고려한 입문 과정과 고급 과정 사이의 간행물 (Newman, 2003, Barabási and Bonabeau, 2003, Boccaletti et Estrada et al., 2010) 이제 과학자와 실무자가 이용할 수있는 중요한 저작집이 생겼다. 원시 데이터에 직접 작업하여 활동이 시작되는 다른 접근 방식 제시\n",
    "\n",
    "- 사실, 이론적 서적으로 쓰여진 개념은 실제 상황, 즉 대부분의 경우 소프트웨어로 번역되어야 할 필요가있다. 실제 상황에서 우리가 관심을 갖는 데이터는 흔히 원시 및 형식이없는 형식 (교과서 및 출판물에서 볼 수있는 것과 매우 다름)에 있기 때문에 강력한 코드 조각이 없으면 연구자의 작업에 지장을 초래합니다. \n",
    "\n",
    "- 복잡한 네트워크의 기본 개념을 빠르고 쉽게 구현해야하는 필요성이 생물학, 생태학, 금융 및 경제 등 다양한 분야에서 커지고 있기 때문에 이러한 상황은 다소 일반적입니다. 단순한 제조업체, 이해 관계자 및 실무자의 관심은 말할 것도 없습니다 . 이 책에서 우리는 일련의 주제들을 선택했고, 우리는 그것들에 대해 이용 가능한 데이터를 보여 주었다.\n",
    "\n",
    "#### [2]\n",
    "\n",
    "- 이러한 \"물리적 문제\"분석을 통해 우리는 네트워크 이론의 이론적 개념과 파이썬에서의 코딩 이론을 소개합니다. 많은 소프트웨어가 이미 이러한 목적으로 개발되었으므로 가장 성공적인 것 중 하나를 고려해야합니다 (적어도 네트워크, 즉 네트워크 (Networkx). 정도, 정도 순서, 클러스터링, 공동체 탐지, 호혜성, 중심성 및 / 또는 그 다음에는 구체적인 예와 관련된 코드와 함께 한 장씩 소개됩니다.\n",
    "\n",
    "- 그러한 접근은 잘 알려진 결과를 보여주는 다른 방법 일뿐만 아니라 데이터 홍수의 현재 과학적 상황을 반영한다는 점에서 우리의 주목을 피하지 못했습니다. 데이터로 시작하여 이론을 도입하는 것은 우리가 살고있는 세상을 이해하는 방법 일뿐만 아니라 숙련 된 과학자에게 좋은 습관입니다. 이 선택은 또한 복잡한 네트워크를 기술적, 사회적 및 재정적 데이터를 파악하는 중요한 도구로 사용하는 데 도움이됩니다. \n",
    "\n",
    "- 최소 스패닝 트리 (또는 포리스트) 및 최대 평면 그래프와 같은 계측기는 가장 중요한 기능을 나타내는 방식으로 정보를 필터링합니다. 이는 특히 최소 스패닝 트리 기술이 유사한 분야의 클러스터링 주식에 특히 유용한 금융 네트워크를 고려할 때 분명합니다. 과학은 결과의 재생산에도 관심이 있으며 설명에뿐만 아니라 모델링에 대한 마지막 부분을 추가했습니다. 실제로 복잡한 네트워크 분야에서 여러 모델이 제시되고 있습니다. 이 책에서 설명하는 것과 동일한 데이터 세트 및 주제를 사용하여 우리는이 모든 것을 소개 할 수 있습니다.\n",
    "\n",
    "- 개요 된 작업 계획은 지역 수량의 정의에서 시작하여 지역 사회 구조 및 모델링에 대한보다 일반적인 개념으로 진행됩니다.\n",
    "\n",
    "** 1장에서는 푸드 웹 (food web)으로 시작하여 인접 행렬을 사용하여 그래프를 표현하는 방법을 보여주고 단일 꼭지점의 속성과 정도 및 클러스터링 정도 시퀀스와 같은 이웃에 대한 개념을 소개합니다.\n",
    "\n",
    "** 2장에서는 월드 웹을 다양한 집계로 분석하여 조합 성 및 호혜성과 같은 두 개의 버텍스 속성으로 이동하고 특히 소셜 네트워크 분석에 특히 유용한 두 종류의 그래프, 즉 이원 그래프를 소개합니다.\n",
    "\n",
    "** 3 장에서는 인터넷의 구조를 연구하고 구조의 견고성을 평가하는 데 사용되는 중심성의 다양한 척도를 소개합니다.\n",
    "\n",
    "** 4 장에서는 WWW와 Wikipedia를 연구하여 PageRank가 제공하는 또 다른 중심 척도를 소개합니다. 우리는 Wikipedia를 지역 사회 분석을위한 경쟁의 장으로 연구하고, 특히 우리는 betweenness에 기초한 Girvan-Newman 공동체 탐지 방법을 소개합니다\n",
    "\n",
    "** 제 5 장에서는 금융 네트워크의 일부 사례를 고려합니다. 이 데이터 세트의 분석을 통해 우리는 중심 대책을 DebtRank로 정의 할 수 있습니다.\n",
    "\n",
    "** 6 장에서는 무작위 그래프 모델, 구성 모델, 중력 모델, 피트니스 모델, Barabasi-Albert 모델, 동적 피트니스 모델, 누락 된 정보에 대한 네트워크를 재구성하는 방법 등 일련의 모델을 제시합니다.\n",
    "\n",
    "#### [3]\n",
    "- 코딩을 시작하려면 Python 2.7. *을 다운로드하여 설치해야합니다 (Linux 및 Mac은 기본적으로 운영 체제에 있음). 그리고 아마도 Anaconda 팩에는이 설명서에 제시된 코드에 대한 모든 과학 라이브러리 (https : jjwww.continuum.iojdownloads). 우리는 Numpy, Scipy, Matplotlib 및 NetworkX 도서관을 거의 모든 곳에서 웹에서 쉽게 검색하고 Anaconda에 포함시킬 것입니다. 특정 종속성은 라이브러리에 대한 것입니다.\n",
    "\n",
    "```\n",
    "• BeautifulSosup (in Chap 3)\n",
    "• Twython (in Chap. 4)\n",
    "• yahoo_finance (in Chap. 5)\n",
    "• sympy (in Chap. 6)\n",
    "```\n",
    "\n",
    "- 모든 장에서 상자 안에 입력 된 코드를 찾을 수 있습니다. 어쨌든 터미널에 복사 할 필요는 없습니다. 우리는 웹 사이트를 개설하여 Jupyter Notebooks (http://jupyter.org/)의 형태로 이들 모두를 다운로드 할 수 있으며 관련 데이터를 통해 책에 표시된 결과를 얻을 수 있습니다. \n",
    "\n",
    "- 같은 장소에서 필요한 소프트웨어를 올바르게 설치하기위한 모든 지침을 찾을 수 있습니다. 우리는 오타 및 코드 버그에 대한 텍스트를 확인하는 데 모든 노력을 기울였습니다. 그 중 일부가 예고되지 않은 경우 업데이트 된 버전이 출시되는 즉시 참조 할 웹 사이트를 참조하십시오.\n",
    "\n",
    "\n",
    "#### 1.1 서론\n",
    "- 푸드 웹은 같은 종에 사는 종들 사이의 포식 관계를 모아 놓은 것입니다. 그림 1.1에서 볼 수 있듯이, 그러한 컬렉션은 시각화하기가 어렵고 (그리고 실제로는) 매우 까다 롭고 환원론적 접근법은 기능 설명의 요점을 놓칩니다 (미래의 예측은 말할 것도 없습니다 행동).\n",
    "\n",
    "- 포괄적 접근법의 필요성은 식품 웹을 복잡계 시스템의 가장 중요한 사례로 만든다 (Havens, 1992, Solé and Montoya, 2001, Montoya and 2002, Stouffer et al., 2005). 1991 년에 이미 식품 웹은 포식자와 기생충의 공동체로서 \"복잡하지만 절망적이지는 않은\"것으로 묘사되어왔다. (Pimm 외., 1991) 더 구체적으로, 전통적 접근 (Cohen, 1977)에 따르면 생태 학자들은\n",
    "\n",
    "```\n",
    "• 같은 서식지 (또는 서식지 세트)에서 그들의 포식 관계에 의해 연결된 종의 그룹을 선택하여 정의 된 공동체 웹;\n",
    "• 하나 이상의 육식 동물이 먹는 모든 먹이를 수집하고이 먹이의 먹이를 재귀 적으로 수집하여 싱크대를 가라.\n",
    "• 한 종 또는 그 이상의 종의 모든 포식자를 수집하고 그러한 포식자의 포식자를 재귀 적으로 수집하여 만든 출처 웹.\n",
    "```\n",
    "\n",
    "- 이 거미줄에서 먹이 또는 포식자가 반드시 별개의 종에 해당하는 것은 아닙니다. 오히려, 동일한 종은 상이한 역할 (즉, 생물의 생애주기 중 다른 단계)에서 두 번 이상 나타날 수 있습니다.\n",
    "\n",
    "- 또한 식인 풍습이 존재하기 때문에 (한 개인과 다른 성장 단계 모두에서) 단일 종은 먹이와 육식 동물이 될 수 있습니다. 첫째, 커뮤니티 웹의 정의를 고려할 때 두 가지 문제가 발생합니다. 특히 희귀 한 사건을 발견하기 위해서는 오히려 복잡하고 일반적으로 수년 간의 관찰이 필요합니다. \n",
    "\n",
    "- 둘째, 주어진 서식지에서 1 종의 종 (Willis and Yu1e, 1922)을 사용하면 유사 박테리아 종 사이의 차이점이없는 한 마리의 독수리 (독수리 또는 호랑이의 색의 차이) 사이에 아주 작은 차이를 발견 할 수 있습니다. 첫 번째 문제와 관련하여 수집 된 데이터의 품질을 향상시키기 위해 열심히 노력하는 것 외에는 다른 해결책이 없습니다. 실제로 우리는 관찰의 부족이 포식의 부분적인 부분으로 이어질 수 있다는 것을 이해하고 있으며, 이로 인해 환경에서 특정 종의 순환을 과소 평가할 수 있다 (Martinez, 1991; Martinez et al., 1999). 두 번째 이슈에서는 영양 종 (trophic species)의 개념을 도입함으로써 관측 바이어스를 감소시키는 것이 일반적이다 (Memmott et al., 2000). 그것들은 거친 나뭇 가지 형태의 종이며, 동일한 먹이를 먹을 때 다른 유기체를 함께 덩어리로 만들어 먹을 수 있습니다.\n",
    "\n",
    "<img src ='http://www.southernfriedscience.com/wp-content/uploads/2012/02/Cod.jpg'>\n",
    "Fig. 1.1 An example of a partial marine food web.\n",
    "\n",
    "- 푸드 웹은 네트워크의 형태로 자연적 특성을 발견하는 시스템의 전형적인 예입니다. 지시 된 가장자리 (먹이 • 포식자)는 다양한 정점 (영양 종)을 연결합니다. 놀랍지도 않게 많은 생태 학적 양은 그래프 이론에 대응한다.\n",
    "\n",
    "```\n",
    "* 정점 수 (그래프 측정 값) 인 영양 종 S의 수;\n",
    "\n",
    "* 가장자리 수 (그래프의 크기) 인 링크 수 L;\n",
    "\n",
    "* 완전 지향 그래프의 크기에 상응하는 가능한 포식 S ^ 2의 수 (식인 풍습 = S ^ 2, = S (S-1) 제외);\n",
    "\n",
    "* 주어진 서식지의 연결 C ~ L / S ^ 2, 즉 가능한 것 (이전 참조)과 관련하여 존재하는 가장자리의 수 사이의 비율;\n",
    "\n",
    "* 종 당 먹이의 수, 즉 정점의 도수와 유사하게 종 당 포식자의 수, 즉 정점의 아웃도 (out-degree)입니다.\n",
    "\n",
    "* 종간의 삼각 측량 수 (Huxham et al., 1996). 유향 그래프에서는 모티프 구조와 관련이 있으며 클러스터링이있는 무향 그래프의 단순화 된 형태로되어 있습니다.\n",
    "```\n",
    "\n",
    "- 특히 푸드 웹은 다른 분야에서 흔히 볼 수없는 특정 행동을 보여줍니다. 꼭지점은 자연스럽게 레벨의 등급에 따라 정렬 될 수 있습니다 (그림 1.2 참조). 첫 번째 단계의 꼭지점은 물, 광물 및 햇빛 에너지만을 \"선행하는\"종입니다. \n",
    "\n",
    "- 생태학에서는 \"기초 종\"또는 일차 생산자로 알려져 있습니다. 두 번째 단계의 종은 첫 번째 단계 이전의 종 (다른 종보다 선행 할 수 있다는 사실과 무관 함)입니다. 이 개념은 반복 될 수 있으며 일반적으로 한 종의 수준은 \"기초 종\"에 대한 최소 경로와 관련이 있습니다. 이렇게하면 영양 종을 세 가지 간단한 클래스로 묶을 수 있습니다.\n",
    "\n",
    "```\n",
    "• 포식자 만있는 기초 종 B;\n",
    "• 먹이가있는 상위 종 T;\n",
    "• 둘 다 가지고있는 중간 종 I.\n",
    "```\n",
    "\n",
    "- 이것은 우리가 여러 가지 먹이 그물을 묘사하는 데 사용할 수있는 몇 가지 양을 정의 할 수있게 해줍니다:\n",
    "\n",
    "```\n",
    "1. 첫째, 그러한 계급의 비율 (Pimm et al., 1991);\n",
    "2. 둘째, 클래스 들간의 서로 다른 링크의 비율 (BI, BT, II, IT);\n",
    "3. 마지막으로, 먹이 / 포식자 비율 (Cohen, 1977) = (# B + # 1) / (# 1 + # T).\n",
    "```\n",
    "\n",
    "- 이 장의 코드, 데이터 및 / 또는 링크는 http://book.complexnetworks.net에서 구할 수 있습니다.\n",
    "\n",
    "\n",
    "### 1.2 Data from EcoWeb and foodweb.org\n",
    "\n",
    "<img src = 'img/network_1_1.png'>\n",
    "Fig. 1.2 Structure of a food web the distinction in levels and classes of species.\n",
    "\n",
    "- 종에 대한 전통적인 데이터 소스는 기계 가독성 데이터 세트 EcoWeb에 의해 주어지며 181 개의 작은 푸드 웹을 제공합니다. 비록 최근의 데이터 세트에 종의 수가 다소 더 많더라도 종의 수는 다소 적습니다.\n",
    "\n",
    "```\n",
    "• 42 종의 영양 종으로 이루어진 St Martin Island (Goldwasser and Roughgarden, 1993);\n",
    "• St Marks Seagrass (Christian and Luczkovich, 1999) 46 종의 영양 종;\n",
    "• 63 개의 영양 종을 가진 다른 초원 (Martinez et al., 1999);\n",
    "• 81 종의 영양 종을 가진 Silwood Park (Memmott et 2000);\n",
    "• Ythan 강어귀 (기생충없이) (Hall and Raffaelli, 1991) 81 종의 영양 종;\n",
    "• 93 개의 영양 종으로 구성된 Little Rock Lake 웹 (Martinez, 1991);\n",
    "• Ythan 강어귀 (기생충과 함께) (Huxham 외., 1996) 126 종의 영양 종. 우리는이 책자에 첨부 된 자료에 이러한 식품 웹을 나열했습니다. 다른 데이터 세트는 다음 위치에서 다운로드 할 수 있습니다.\n",
    "```\n",
    "\n",
    "- 출판물, 소프트웨어 도구 및 데이터를 다운로드 할 수있는 훌륭한 공공 자원은 http://foodwebs.org의 기본 PEaCE 연구소 웹 사이트입니다.\n",
    "\n",
    "<img src = 'img/network_1_2.png'>\n",
    "\n",
    "### 1.3. Store and measure a graph: size, measure, and degree\n",
    "### 1.3.1 The Adjacency matrix\n",
    "\n",
    "- 그래프는 그림으로 나타낼 수 있거나 (그림 1과 같이) \n",
    "\n",
    "- \"인접 행렬\"이라고하는 수학적 표현을 통해 그림으로 그려 질 수 있습니다. 그림은 그림을 즉시 시각화하는 데 유용하지만 그래프의 속성 (일반적으로 지역의 것), matricial 양식은 다른 것 (일반적으로 전역)을 계산하는 데 매우 유용합니다. \n",
    "\n",
    "- 인접성 행렬 A는 숫자의 정사각형 테이블 (nxn, 여기서 n은 그래프의 정점 수)입니다. 행 i와 열 j의 요소는 꼭짓점 i와 j 사이에 모서리가 있으면 1과 같고 그렇지 않으면 0과 같습니다. 이러한 구조는 컴퓨터에서 저장할 수 있으며이 표현은 큰 데이터 집합을 처리 할 때 특히 유용합니다 .\n",
    "\n",
    "- 행렬이 그래프의 컴퓨터 표현으로 만 유용하다고 믿는 것은 불충분합니다. 그래프의 스펙트럼 속성 (matricial form과 관련된)은 커뮤니티 구조에서부터 시작하여 많은 속성을 나타낼 수 있습니다. 이 책의 뒷부분에서이 점을 자세히 살펴볼 것입니다.\n",
    "\n",
    "- 지향성이없는 그래프의 가장 간단한 경우는 대칭 행렬 A를 제공합니다. i와 j 사이에 모서리가있는 경우 j와 i를 결합하는 반대 방향의 모서리도 있습니다. aij = aji.\n",
    "\n",
    "- 대신 링크에 방향이 있다면 우리는 노드 i에서 노드 j를 가리키는 호를가집니다. 그러나 반대는 반드시 그런 것은 아닙니다. 이런 식으로 aij! = aji와 행렬은 더 이상 대칭이 아닙니다.\n",
    "\n",
    "- 우회 경로는 우리가 처리 할 수있는 가장 간단한 그래프 형태입니다. 대칭 행렬은 두 개의 꼭지점을 연결하는 링크가 하나뿐임을 나타냅니다. 인터넷의 경우 이것은 두 개의 서버를 연결하는 케이블이 첫 번째에서 두 번째로 메일의 일부를 전송하고 두 번째에서 첫 번째로 메일에 응답하는 데 사용될 수 있음을 의미합니다.\n",
    "\n",
    "- 비대칭 행렬은 경로를 역으로 따라갈 수없는 상황을 나타냅니다. 웹 페이지의 링크를 좋아하는 풋볼 팀이나 할리우드 배우의 웹 페이지에 연결하면 페이지로 연결되는 링크가 반드시 제공되는 것은 아닙니다. 지향형 네트워크는 다양한 상황에서 발생합니다. \n",
    "\n",
    "- 우리가 전자 메일을 가지고있는 소셜 네트워크의 웹 사이트에서 Facebook 게시물에 \"좋아요\"를 표시하고 대칭이 아닌 Twitter에서 리트 윗, 돈을 빌려주지 않는 금융, 국가 간 무역이있는 경제, 마침내 식품 웹에서의 포식 관계가 전형적으로 상호 적이 지 않은 생물학에서\n",
    "\n",
    "- 이 섹션에서는 그래프를 설명하는 데 사용되는 기본 수량 (일부는 이미 언급 했음)과 파이썬 코드의 예를 제시합니다."
   ]
  },
  {
   "cell_type": "markdown",
   "metadata": {},
   "source": [
    "### Read the adjacency matrix\n",
    "\n",
    "- 이 공식을 시작으로 파이썬 코드로 변환하는 것이 상대적으로 쉽습니다. 우리는 그래프의 매트릭스 표현으로 시작하거나 Networkx 라이브러리의 노드와 에지의 직접적인 표현으로 시작할 수 있습니다.\n",
    "\n",
    "- 첫 번째 경우에는 먼저 기본 목록 데이터 유형 (이 경우 목록 목록)을 사용하여 다음과 같이 인접성 행렬을 통해 그래프를 나타냅니다."
   ]
  },
  {
   "cell_type": "code",
   "execution_count": 1,
   "metadata": {
    "collapsed": true
   },
   "outputs": [],
   "source": [
    "adjacency_matrix=[\n",
    "                  [0,1,0,1],\n",
    "                  [1,0,1,1],\n",
    "                  [0,1,0,0],\n",
    "                  [1,1,0,0]\n",
    "                  ]"
   ]
  },
  {
   "cell_type": "code",
   "execution_count": 3,
   "metadata": {
    "collapsed": false
   },
   "outputs": [
    {
     "name": "stdout",
     "output_type": "stream",
     "text": [
      "1\n",
      "2\n",
      "3\n",
      "4\n",
      "5\n"
     ]
    }
   ],
   "source": [
    "#반복주기에 대한 기본적인 파이썬 문장은 Fortran, C/C ++ 등과 같은 일반적인 프로그래밍 언어와 조금 다릅니다. \n",
    "#반복은 목록을 통해 실행되어야합니다. 예를 들어, 1에서 5까지 실행되는 인덱스의 간단한 경우에 구문은 다음과 같습니다.\n",
    "\n",
    "for i in [1,2,3,4,5]: \n",
    "    print (i)"
   ]
  },
  {
   "cell_type": "code",
   "execution_count": 4,
   "metadata": {
    "collapsed": false
   },
   "outputs": [
    {
     "name": "stdout",
     "output_type": "stream",
     "text": [
      "[0, 1, 0, 1]\n",
      "[1, 0, 1, 1]\n",
      "[0, 1, 0, 0]\n",
      "[1, 1, 0, 0]\n"
     ]
    }
   ],
   "source": [
    "for row in adjacency_matrix:\n",
    "    print (row)"
   ]
  },
  {
   "cell_type": "code",
   "execution_count": 5,
   "metadata": {
    "collapsed": false
   },
   "outputs": [
    {
     "name": "stdout",
     "output_type": "stream",
     "text": [
      "0\n",
      "1\n",
      "0\n",
      "1\n",
      "\r\n",
      "1\n",
      "0\n",
      "1\n",
      "1\n",
      "\r\n",
      "0\n",
      "1\n",
      "0\n",
      "0\n",
      "\r\n",
      "1\n",
      "1\n",
      "0\n",
      "0\n",
      "\r\n"
     ]
    }
   ],
   "source": [
    "#\"print\"문장의 들여 쓰기는 파이썬에서 필수입니다. 길이가 고정되어 있지 않아도 마찬가지입니다.\n",
    "# 각 단일 행렬 요소를 얻으려면 행의 각 요소를 추출하기 위해 사이클링을 중첩합니다.\n",
    "for row in adjacency_matrix:\n",
    "    for a_ij in row:\n",
    "        print (a_ij)\n",
    "    print (\"\\r\")"
   ]
  },
  {
   "cell_type": "code",
   "execution_count": 6,
   "metadata": {
    "collapsed": true
   },
   "outputs": [],
   "source": [
    "#in the case of directed networks the adjacency matrix is not symetric, like for Food Wes\n",
    "#if a non zero element is present in row 2, column 3, this means there is an arc (directed edge)\n",
    "#from node 2 toward node 3\n",
    "adjacency_matrix_directed=[\n",
    "                  [0,1,0,1],\n",
    "                  [0,0,1,0],\n",
    "                  [0,0,0,1],\n",
    "                  [0,0,0,0]\n",
    "                  ]"
   ]
  },
  {
   "cell_type": "code",
   "execution_count": 7,
   "metadata": {
    "collapsed": false
   },
   "outputs": [
    {
     "data": {
      "text/plain": [
       "list"
      ]
     },
     "execution_count": 7,
     "metadata": {},
     "output_type": "execute_result"
    }
   ],
   "source": [
    "type(adjacency_matrix_directed)"
   ]
  },
  {
   "cell_type": "markdown",
   "metadata": {},
   "source": [
    "### 1.3.2 크기, 측정, 연결\n",
    "\n",
    "- 제목에 정의 된 가장 간단한 스칼라 수량은이 경우 쉽게 계산할 수 있습니다 다양한 식품 웹의 우리는 그것들을 여기서 기억합니다 :\n",
    "-  그래프 이론에서 종의 수는 그래프의 꼭지점 수에 해당합니다.\n",
    "- 그래프 이론에서 그래프의 크기 인 모서리 수 m에 해당하는 포식의 수 L;\n",
    "- 이 경우 정점 (즉, B, I, T)의 각기 다른 특성을 구별 할 수 있기 때문에 종의 비율과 그 사이의 링크를 측정 할 수 있습니다.\n",
    "- 그래프의 밀도에 상응하는 연결 C ~ L / S ^ 2 (실제 가능한 가장자리를 가능한 최대 수로 나눈 값)."
   ]
  },
  {
   "cell_type": "code",
   "execution_count": 8,
   "metadata": {
    "collapsed": false
   },
   "outputs": [
    {
     "data": {
      "text/plain": [
       "4"
      ]
     },
     "execution_count": 8,
     "metadata": {},
     "output_type": "execute_result"
    }
   ],
   "source": [
    "#the number of species is the number of rows or columns of \n",
    "#the adjacency matrix\n",
    "num_species=len(adjacency_matrix_directed[0])\n",
    "num_species"
   ]
  },
  {
   "cell_type": "code",
   "execution_count": 9,
   "metadata": {
    "collapsed": true
   },
   "outputs": [],
   "source": [
    "#the number of links or predations is the non zero elements \n",
    "#of the adjacency matrix (this holds for directed graphs\n",
    "num_predations=0\n",
    "for i in range(num_species):\n",
    "    for j in range(num_species):\n",
    "        if adjacency_matrix_directed[i][j]!=0:\n",
    "            num_predations=num_predations+1"
   ]
  },
  {
   "cell_type": "code",
   "execution_count": 10,
   "metadata": {
    "collapsed": false
   },
   "outputs": [
    {
     "data": {
      "text/plain": [
       "4"
      ]
     },
     "execution_count": 10,
     "metadata": {},
     "output_type": "execute_result"
    }
   ],
   "source": [
    "num_predations"
   ]
  },
  {
   "cell_type": "code",
   "execution_count": 11,
   "metadata": {
    "collapsed": true
   },
   "outputs": [],
   "source": [
    "#to check if a specie is a Basal (B), an Intermediate (I) or\n",
    "#a Top (T) one  we have to check the presence of 1s both in \n",
    "#the row and in the column of each specie\n",
    "row_count=[0,0,0,0]\n",
    "column_count=[0,0,0,0]\n",
    "for i in range(num_species):\n",
    "    for j in range(num_species):\n",
    "        row_count[i]=row_count[i]+adjacency_matrix_directed[i][j]\n",
    "        column_count[j]=column_count[j]+ \\\n",
    "        adjacency_matrix_directed[i][j]"
   ]
  },
  {
   "cell_type": "code",
   "execution_count": 13,
   "metadata": {
    "collapsed": false
   },
   "outputs": [
    {
     "data": {
      "text/plain": [
       "[2, 1, 1, 0]"
      ]
     },
     "execution_count": 13,
     "metadata": {},
     "output_type": "execute_result"
    }
   ],
   "source": [
    "row_count"
   ]
  },
  {
   "cell_type": "code",
   "execution_count": 14,
   "metadata": {
    "collapsed": false
   },
   "outputs": [
    {
     "data": {
      "text/plain": [
       "[0, 1, 1, 2]"
      ]
     },
     "execution_count": 14,
     "metadata": {},
     "output_type": "execute_result"
    }
   ],
   "source": [
    "column_count"
   ]
  },
  {
   "cell_type": "code",
   "execution_count": 15,
   "metadata": {
    "collapsed": true
   },
   "outputs": [],
   "source": [
    "number_B=0\n",
    "number_I=0\n",
    "number_T=0"
   ]
  },
  {
   "cell_type": "code",
   "execution_count": 16,
   "metadata": {
    "collapsed": true
   },
   "outputs": [],
   "source": [
    "for n in range(num_species):\n",
    "    if row_count[n]==0:\n",
    "        number_T+=1\n",
    "        continue\n",
    "    if column_count[n]==0:\n",
    "        number_B+=1\n",
    "        continue\n",
    "    else:\n",
    "        number_I+=1"
   ]
  },
  {
   "cell_type": "code",
   "execution_count": 17,
   "metadata": {
    "collapsed": false
   },
   "outputs": [
    {
     "name": "stdout",
     "output_type": "stream",
     "text": [
      "('number of species', 4)\n",
      "('number of predations', 4)\n",
      "('classes Basal, Top, Intermediate: ', 1, 1, 2)\n",
      "('connectance', 0.25)\n"
     ]
    }
   ],
   "source": [
    "print (\"number of species\", num_species)\n",
    "print (\"number of predations\", num_predations)\n",
    "print (\"classes Basal, Top, Intermediate: \",number_B,number_T,number_I)\n",
    "print (\"connectance\", float(num_predations)/float(num_species**2))"
   ]
  },
  {
   "cell_type": "markdown",
   "metadata": {},
   "source": [
    "### 1.3.3 Degree\n",
    "\n",
    "- 버텍스를 특징 짓는 가장 간단한 양은 연결 수입니다. \n",
    "\n",
    "- 이 양을 Degree라고 부르는데, 때로는 (물리학 자에 의해) \"연결성\"이라고 불리는 경우도 있습니다.이 정점의 연결 정도는이 정점의 연결을 닫습니다. \n",
    "\n",
    "- 따라서 Degree는 \"로컬\"양입니다 (하나의 정점 만 검사하여 정도). 그 다음에 우리는 두 개 이상의 정점 이웃을 포함하는 그래프의 비경 측정을 볼 것이고 또한 \"전역\"이며 계산할 전체 시스템의 검사 (즉, 중간 정도)를 필요로하는 측정을 볼 것입니다.\n",
    "\n",
    "- 이 양의 빈도 분포 긴 꼬리 (또는 스케일이없는 분포)의 존재가 시스템에서 장거리 상관 관계의 서명으로 해석된다는 의미에서 전통적으로 \"복잡성\"의 서명으로 사용됩니다. 그래프가 지향 될 때 우리는 in-degree와 out-degree를 구별 할 수 있습니다. \n",
    "\n",
    "- 전자가 다른 생물체를 먹을 때 우리가받는 에너지와 같은 링크를 생성하는 계정은 나가는 링크 (예를 들어 웹 페이지에서 우리가 좋아하는 다른 페이지로 연결하는 하이퍼 링크)를 설명합니다. 일단 우리가 그래프의 행렬을 가지면, 정도를 쉽게 계산할 수 있습니다. 정점 i의 차수 ki를 알고 싶으면, 다양한 열 j에 대한 다양한 요소, 즉\n",
    "\n",
    "- 그래프가 지향되면 (비대칭) 행렬 A의 행을 따른 합계가 열을 따르는 합계와 다릅니다 (행렬이 대칭이고 그래프가 방향이 지정되지 않은 경우는 아닙니다). 하나의 경우에 우리는 out-degree kPof 노드를 얻는다. 반대의 경우에 우리는 노드의 in-degree를 얻는다. \n",
    "\n",
    "- 공식에서, 그래프에 가중치가 부여되면 연결 수 (도)와 가중치 또는 강도를 구별하여 이전 정의를 확장 할 수 있습니다. t hat은 해당 링크의 상대 가중치의 합입니다. 그의 경우에는 행렬 표현을 사용할 수 있습니다. 이제 모든 요소 aij는 i와 j 사이의 가중치를 취합니다.\n",
    "\n",
    "- 전형적으로 실제 상황에서는 힘과 정도 사이에 힘과의 관계가있다 (Barrat et al., 2004)"
   ]
  },
  {
   "cell_type": "code",
   "execution_count": 18,
   "metadata": {
    "collapsed": false
   },
   "outputs": [
    {
     "name": "stdout",
     "output_type": "stream",
     "text": [
      "('degree of node 2:', 3)\n"
     ]
    }
   ],
   "source": [
    "#for the undirected network\n",
    "degree_node_2=0\n",
    "for j in adjacency_matrix[1]:\n",
    "    degree_node_2=degree_node_2+j\n",
    "print (\"degree of node 2:\",degree_node_2)"
   ]
  },
  {
   "cell_type": "code",
   "execution_count": 19,
   "metadata": {
    "collapsed": true
   },
   "outputs": [],
   "source": [
    "#and for the directed case we already calculated the sum over \n",
    "#the rows and columns for the adjacency_matrix_directed\n",
    "out_degree_node_3=row_count[2]\n",
    "in_degree_node_4=column_count[3]"
   ]
  },
  {
   "cell_type": "code",
   "execution_count": 20,
   "metadata": {
    "collapsed": false
   },
   "outputs": [
    {
     "data": {
      "text/plain": [
       "[0, 1, 1, 2]"
      ]
     },
     "execution_count": 20,
     "metadata": {},
     "output_type": "execute_result"
    }
   ],
   "source": [
    "column_count"
   ]
  },
  {
   "cell_type": "code",
   "execution_count": 21,
   "metadata": {
    "collapsed": false
   },
   "outputs": [
    {
     "name": "stdout",
     "output_type": "stream",
     "text": [
      "('out_degree node 3:', 1)\n",
      "('in_degree node 4:', 2)\n"
     ]
    }
   ],
   "source": [
    "print (\"out_degree node 3:\",out_degree_node_3)\n",
    "print (\"in_degree node 4:\",in_degree_node_4)"
   ]
  },
  {
   "cell_type": "code",
   "execution_count": 23,
   "metadata": {
    "collapsed": false
   },
   "outputs": [
    {
     "name": "stdout",
     "output_type": "stream",
     "text": [
      "3\n"
     ]
    }
   ],
   "source": [
    "import networkx as nx\n",
    "\n",
    "#generate an empty graph\n",
    "G=nx.Graph()\n",
    "\n",
    "#define the nodes\n",
    "G.add_node(1)\n",
    "G.add_node(2)\n",
    "G.add_node(3)\n",
    "G.add_node(4)\n",
    "\n",
    "#link the nodes\n",
    "G.add_edge(1,2)\n",
    "G.add_edge(1,4)\n",
    "G.add_edge(2,3)\n",
    "G.add_edge(2,4)\n",
    "\n",
    "#degree of the node 2\n",
    "print (G.degree(2))"
   ]
  },
  {
   "cell_type": "code",
   "execution_count": 25,
   "metadata": {
    "collapsed": false
   },
   "outputs": [
    {
     "name": "stdout",
     "output_type": "stream",
     "text": [
      "Populating the interactive namespace from numpy and matplotlib\n"
     ]
    },
    {
     "name": "stderr",
     "output_type": "stream",
     "text": [
      "/System/Library/Frameworks/Python.framework/Versions/2.7/Extras/lib/python/matplotlib/collections.py:548: FutureWarning: elementwise comparison failed; returning scalar instead, but in the future will perform elementwise comparison\n",
      "  if self._edgecolors == 'face':\n"
     ]
    },
    {
     "data": {
      "image/png": "[encoded data removed]",
      "text/plain": [
       "<matplotlib.figure.Figure at 0x1041e99d0>"
      ]
     },
     "metadata": {},
     "output_type": "display_data"
    }
   ],
   "source": [
    "# this command is to activate the graphic interface\n",
    "%pylab inline\n",
    "\n",
    "nx.draw(G)"
   ]
  },
  {
   "cell_type": "markdown",
   "metadata": {},
   "source": [
    "### 1.4 Degree 순서\n",
    "\n",
    "- 대형 네트워크를 다룰 때는 그래프의 다양한 각도의 목록 인 차수 순서를 제공하여 연결에 대한 정보를 거칠게 처리해야합니다. \n",
    "\n",
    "- 이러한 정보는 학위 순서에 대한 히스토그램을 작성하여 요약 할 수 있습니다 (복잡한 네트워크에 대한 전형적인 분석 및 전통적 분석은 다양한 네트워크 성장 모델의 적합성을 설명하는 벤치 마크 역할을합니다). 모든 그래프의 차수 순서는 분명히 모든 수열이 그래프를 생성 할 수있는 것은 아닙니다 (6.4 절 참조). 예를 들어, 방향이 지정되지 않은 그래프의 모든 각도의 합은 짝수 여야합니다 (모든 가장자리를 두 번 계산하면 학위 순서의 요소 합계가 2E입니다. 여기서 E는 가장자리의 총 개수입니다). \n",
    "\n",
    "- 결과적으로 합이 홀수 인 모든 차수 시퀀스는 그래프를 형성 할 수 없습니다. 게다가 degree sequence의 원소들의 합이 짝수 일지라도, 대부분의 배열은 불가능합니다 (존재하는 vertex의 수보다 더 큰 정도를 상상해보십시오). 경험적으로 그래프가 많은 수의 꼭지점에서 만들어 질 때마다 주어진도 시퀀스가 ​​실제로 그래프를 설명하는지 아닌지를 확인하는 것이 점점 더 어려워집니다.\n",
    "\n",
    "- 6 장에서이 주제들에 대해 더 많이 보게 될 것입니다. 잠깐 동안 그래프에서도 순서에 이르기까지만 초점을 맞추도록하겠습니다. 이전 파이썬 공식에서 시작하여 학위 서열을 얻는 간단한 방법은 다음과 같이 코드를 일반화하여 각 행의 학위를 계산하는 것입니다."
   ]
  },
  {
   "cell_type": "code",
   "execution_count": 26,
   "metadata": {
    "collapsed": false
   },
   "outputs": [
    {
     "name": "stdout",
     "output_type": "stream",
     "text": [
      "[2, 3, 1, 2]\n"
     ]
    }
   ],
   "source": [
    "degree_sequence=[]\n",
    "for row in range(len(adjacency_matrix)):\n",
    "    degree=0\n",
    "    for j in adjacency_matrix[row]:\n",
    "        degree=degree+j\n",
    "    degree_sequence.append(degree)\n",
    "\n",
    "print (degree_sequence)"
   ]
  },
  {
   "cell_type": "markdown",
   "metadata": {},
   "source": [
    "### 1.4.1 차수 순서, 히스토그램 그리기\n",
    "\n",
    "- 앞에서 언급했듯이 네트워크가 클 경우 그래프를 설명하는 데 도움이되는 단일 플롯 또는 이미지가 필요합니다. \n",
    "\n",
    "- 히스토그램은 이러한 목적을위한 최선의 선택이며 원시 데이터 분석을 통해 이러한 객체를 그리는 방법을 배우는 것이 중요합니다. \n",
    "\n",
    "- 실제적으로 우리는 degree가 1,2 등의 정점을 몇 번해야하는지 계산해야합니다.이 수치는 그림 1과 같이 degree 값에 대해 플롯됩니다. 1.4.\n",
    "\n",
    "<img src = 'img/network_1_3.png'>"
   ]
  },
  {
   "cell_type": "code",
   "execution_count": 27,
   "metadata": {
    "collapsed": false
   },
   "outputs": [
    {
     "data": {
      "image/png": "[encoded data removed]",
      "text/plain": [
       "<matplotlib.figure.Figure at 0x10892c750>"
      ]
     },
     "metadata": {},
     "output_type": "display_data"
    }
   ],
   "source": [
    "import matplotlib.pyplot as plt\n",
    "\n",
    "plt.hist([1,1,1,1,1,1,1,2,2,2,3,3,4,5],bins=5)\n",
    "plt.show()"
   ]
  },
  {
   "cell_type": "markdown",
   "metadata": {},
   "source": [
    "### 1.5 클러스터링 계수 및 모티프\n",
    "\n",
    "- 클러스터링 계수는 지역 규모에서 지역 사회 구조의 표준, 기본 척도입니다. 사람 (꼭지점) 간의 우정의 네트워크 (가장자리로 시각화)를 상상해보십시오. \n",
    "\n",
    "- 클러스터링 계수는 Frank가 John과 Charlie의 친구 인 경우 John과 Charlie도 서로 친구가 될 가능성을 제공합니다. 그래프의 경우 다른 꼭지점에 연결된 특정 꼭지점 i에 초점을 맞추면 클러스터링 계수 ci는 이러한 꼭지점의 대상도 링크로 연결될 확률을 측정한다는 것을 의미합니다. \n",
    "\n",
    "- 모든 연결이 균등 한 경우, 우리는 단지 이러한 연결의 빈도를 계산합니다. 즉, 그림 3과 같이 특정 꼭지점을 주장하는 삼각형의 수를 측정합니다. 1.5 a, 또 다른 측정 값은 정도가 k 인 꼭지점의 클러스터 계수 c (k)이다. 이것은 차수가 k 인 모든 정점으로 만들어진 클러스터링 계수의 모든 값의 평균입니다.\n",
    "\n",
    "- 여기서 Nk는 차수가 k이고 Ók 인 꼭지점의 수이고, ki = k이면 k = 1이고 그렇지 않으면 0입니다.\n",
    "\n",
    "- 실제 네트워크는 일련의 무작위로 연결된 꼭지점에서 예상보다 큰 클러스터링을 특징으로합니다. 음식 웹과 같이 방향성이있는 네트워크의 경우 가장자리가 방향을 가지기 때문에 어느 삼각형을 고려해야하는지 결정하기가 다소 어렵다는 점을 알아 두는 것이 중요합니다. \n",
    "\n",
    "- 이 정도의 자유도를 고려하여 간단한 삼각형 구조가 다양한 모양의 다양한 (9 가지) 가정을 할 수 있습니다. 그러한 모양을 모티프 (motifs) 라 부르며 그 통계는 지역 규모에서 시스템의 밀도에 대해 뭔가를 나타낼 수 있습니다.\n",
    "\n",
    "- 예를 들어, 먹이 그물은 그림 1.5b와 같이 \"피드 - 포워드\"루프의 순 지배력을 특징으로한다. 유사하게, 모티프는 금융 네트워크의 특정 사례에서 붕괴의 조기 신호를 감지하는 데 사용될 수있다 (Squartini et al., 2013).\n",
    "\n",
    "<img src ='https://lsy5518.files.wordpress.com/2014/02/cclocal1.png'>\n",
    "\n",
    "```\n",
    "클러스터링\n",
    "이전에 정의 된 노드도에 관해서는 특정 노드에 대한 클러스터링 계수를 코딩 할 수 있습니다. 예를 들어, Fig. 1.5와 노드 \"2\"에서 우리는 노드 \"2\"의 이웃들 사이의 연결을 계산하고 그들 사이의 가능한 모든 연결 (정도 * (degree-1) / 2)으로 나누는 클러스터링 계수를 나타낼 수 있습니다. 먼저 \"2\"의 이웃리스트 인덱스를 계산합니다.\n",
    "```\n",
    "\n",
    "<img src = 'img/network_1_4.png'>"
   ]
  },
  {
   "cell_type": "code",
   "execution_count": 28,
   "metadata": {
    "collapsed": false
   },
   "outputs": [
    {
     "name": "stdout",
     "output_type": "stream",
     "text": [
      "\r\n",
      "[0, 2, 3]\n"
     ]
    }
   ],
   "source": [
    "row=1 #stands for the node 2\n",
    "node_index_count=0\n",
    "node_index_list=[]\n",
    "for a_ij in adjacency_matrix[row]:\n",
    "    if a_ij==1:\n",
    "        node_index_list.append(node_index_count)\n",
    "    node_index_count=node_index_count+1    \n",
    "print (\"\\r\")\n",
    "print (node_index_list)"
   ]
  },
  {
   "cell_type": "code",
   "execution_count": 29,
   "metadata": {
    "collapsed": true
   },
   "outputs": [],
   "source": [
    "neighb_conn=0\n",
    "for n1 in node_index_list:\n",
    "    for n2 in node_index_list:\n",
    "        if adjacency_matrix[n1][n2]==1:\n",
    "            neighb_conn=neighb_conn+1"
   ]
  },
  {
   "cell_type": "code",
   "execution_count": 30,
   "metadata": {
    "collapsed": false
   },
   "outputs": [
    {
     "name": "stdout",
     "output_type": "stream",
     "text": [
      "1.0\n",
      "0.333333333333\n"
     ]
    }
   ],
   "source": [
    "#we have indeed counted them twice...\n",
    "neighb_conn=neighb_conn/2.0\n",
    "print (neighb_conn)\n",
    "\n",
    "#Finally the clustering coefficient for node '2' is given by the expression:\n",
    "clustering_coefficient=neighb_conn/ \\\n",
    "(degree_node_2*(degree_node_2-1)/2.0) \n",
    "print (clustering_coefficient)"
   ]
  },
  {
   "cell_type": "markdown",
   "metadata": {},
   "source": [
    "### 1.5.1 종간의 생태 학적 수준과 범주, bowtie\n",
    "\n",
    "- 음식 웹 데이터의 특징 중 하나는 환경과의 거리로 정의 된 여러 레벨의 꼭지점을 배열 할 수 있다는 것입니다 (평소와 같이 그래프의 거리는 두 꼭지점 사이를 이동하는 최소 가장자리 수에 해당합니다). 결과적으로 우리는 포식과 관련된 in / out 링크에 따라 카테고리를 정의 할 수 있습니다. \n",
    "\n",
    "- 포식자가없는 모든 종은 상위 (T)로 표시되고, 먹이가없는 종 (환경과는 별도로)은 모두 기초 (B)로 표시됩니다. 나머지는 모두 중급 (I)입니다. 기초 종 외에도 중간 종 또는 상위 종은 환경과 다소간 떨어져있을 수 있습니다. 아마도 (반드시 그런 것은 아니지만!) \n",
    "\n",
    "- 10 세기 수준의 종은 기초가 될 것 같지만 최고 수준의 종은 최고 수준의 종일 수 있습니다. 수준과 구성의 보편성에 대한 연구는 식품 웹 보편성 추구의 전통적인 양적 생태 분석 중 하나입니다. \n",
    "\n",
    "- 푸드 웹 네트워크의 다양한 레벨을 식별하기 위해 모든 노드 쌍 사이의 거리를 계산할 수있는 알고리즘이 필요합니다. level과 노드 클래스의 개념에 대한 일반화는 월드 와이드 웹 (Broder et al., 2000)에서 최초로 발견 된 구조 인 bowtie의 개념과 경제 후반기 (Vitali et al., 2011 ) 및 금융 시스템. 하나의 방향성이있는 네트워크라면 서로 도달 할 수있는 노드 집합을 결정할 수 있습니다. \n",
    "\n",
    "- 그들은 강하게 연결된 구성 요소 (SCC)를 형성합니다. SCC에 도착한 사람은 IN 구성 요소입니다. SCC에서 도달 가능한 요소는 OUT 구성 요소를 형성합니다. 최고 종과 OUT 구성 요소 사이의 기술적 차이에도 불구하고 두 구조는 약간의 유사점을 갖는다 (그림 1.6 참조)."
   ]
  },
  {
   "cell_type": "code",
   "execution_count": 31,
   "metadata": {
    "collapsed": true
   },
   "outputs": [],
   "source": [
    "#loading the network\n",
    "file_name=\"book_code/Notebook_Chapter_I_FoodWebs/data/Ythan_Estuary.txt\""
   ]
  },
  {
   "cell_type": "code",
   "execution_count": 41,
   "metadata": {
    "collapsed": true
   },
   "outputs": [],
   "source": [
    "DG = nx.DiGraph()"
   ]
  },
  {
   "cell_type": "code",
   "execution_count": 42,
   "metadata": {
    "collapsed": true
   },
   "outputs": [],
   "source": [
    "in_file=open(file_name,'r')\n",
    "while True:\n",
    "    next_line=in_file.readline()\n",
    "    if not next_line:\n",
    "        break\n",
    "    next_line_fields=next_line[:-2].split(' ')\n",
    "    node_a=next_line_fields[1] #there is a space in the beginning \n",
    "                               #of each edge\n",
    "    node_b=next_line_fields[2]\n",
    "    DG.add_edge(node_a, node_b)"
   ]
  },
  {
   "cell_type": "code",
   "execution_count": 43,
   "metadata": {
    "collapsed": true
   },
   "outputs": [],
   "source": [
    "#deleting the environment\n",
    "DG.remove_node('0')"
   ]
  },
  {
   "cell_type": "code",
   "execution_count": 44,
   "metadata": {
    "collapsed": true
   },
   "outputs": [],
   "source": [
    "#getting the biggest strongly connected component\n",
    "scc=[(len(c),c) for c in sorted( nx.strongly_connected_components \\\n",
    "                               (DG), key=len, reverse=True)][0][1]\n"
   ]
  },
  {
   "cell_type": "code",
   "execution_count": 46,
   "metadata": {
    "collapsed": false
   },
   "outputs": [
    {
     "data": {
      "text/plain": [
       "{'89', '90'}"
      ]
     },
     "execution_count": 46,
     "metadata": {},
     "output_type": "execute_result"
    }
   ],
   "source": [
    "scc"
   ]
  },
  {
   "cell_type": "code",
   "execution_count": 47,
   "metadata": {
    "collapsed": true
   },
   "outputs": [],
   "source": [
    "#preparing the IN and OUT component\n",
    "IN_component=[]\n",
    "for n in scc:\n",
    "    for s in DG.predecessors(n):\n",
    "        if s in scc: continue\n",
    "        if not s in IN_component:\n",
    "            IN_component.append(s)\n"
   ]
  },
  {
   "cell_type": "code",
   "execution_count": 48,
   "metadata": {
    "collapsed": false
   },
   "outputs": [
    {
     "data": {
      "text/plain": [
       "['132',\n",
       " '133',\n",
       " '98',\n",
       " '116',\n",
       " '125',\n",
       " '101',\n",
       " '105',\n",
       " '124',\n",
       " '131',\n",
       " '122',\n",
       " '123',\n",
       " '97']"
      ]
     },
     "execution_count": 48,
     "metadata": {},
     "output_type": "execute_result"
    }
   ],
   "source": [
    "IN_component"
   ]
  },
  {
   "cell_type": "code",
   "execution_count": 50,
   "metadata": {
    "collapsed": false
   },
   "outputs": [],
   "source": [
    "OUT_component=[]\n",
    "for n in scc:\n",
    "    for s in DG.successors(n):\n",
    "        if s in scc: continue\n",
    "        if not s in OUT_component:\n",
    "            OUT_component.append(s)"
   ]
  },
  {
   "cell_type": "code",
   "execution_count": 51,
   "metadata": {
    "collapsed": false
   },
   "outputs": [
    {
     "data": {
      "text/plain": [
       "['61',\n",
       " '62',\n",
       " '80',\n",
       " '86',\n",
       " '87',\n",
       " '84',\n",
       " '85',\n",
       " '47',\n",
       " '77',\n",
       " '76',\n",
       " '74',\n",
       " '72',\n",
       " '79',\n",
       " '78',\n",
       " '59',\n",
       " '58',\n",
       " '55',\n",
       " '54',\n",
       " '57',\n",
       " '56',\n",
       " '51',\n",
       " '50',\n",
       " '53',\n",
       " '52',\n",
       " '88',\n",
       " '63',\n",
       " '64',\n",
       " '66',\n",
       " '68',\n",
       " '69',\n",
       " '81',\n",
       " '49',\n",
       " '45',\n",
       " '6',\n",
       " '75',\n",
       " '11',\n",
       " '14']"
      ]
     },
     "execution_count": 51,
     "metadata": {},
     "output_type": "execute_result"
    }
   ],
   "source": [
    "OUT_component"
   ]
  },
  {
   "cell_type": "code",
   "execution_count": 52,
   "metadata": {
    "collapsed": false
   },
   "outputs": [
    {
     "ename": "TypeError",
     "evalue": "unsupported operand type(s) for +: 'set' and 'list'",
     "output_type": "error",
     "traceback": [
      "\u001b[0;31m---------------------------------------------------------------------------\u001b[0m",
      "\u001b[0;31mTypeError\u001b[0m                                 Traceback (most recent call last)",
      "\u001b[0;32m<ipython-input-52-d4d74e246f92>\u001b[0m in \u001b[0;36m<module>\u001b[0;34m()\u001b[0m\n\u001b[1;32m      1\u001b[0m \u001b[0;31m#generating the subgraph\u001b[0m\u001b[0;34m\u001b[0m\u001b[0;34m\u001b[0m\u001b[0m\n\u001b[0;32m----> 2\u001b[0;31m \u001b[0mbowtie\u001b[0m\u001b[0;34m=\u001b[0m\u001b[0mscc\u001b[0m\u001b[0;34m+\u001b[0m\u001b[0mIN_component\u001b[0m\u001b[0;34m+\u001b[0m\u001b[0mOUT_component\u001b[0m\u001b[0;34m\u001b[0m\u001b[0m\n\u001b[0m\u001b[1;32m      3\u001b[0m \u001b[0mDG_bowtie\u001b[0m \u001b[0;34m=\u001b[0m \u001b[0mDG\u001b[0m\u001b[0;34m.\u001b[0m\u001b[0msubgraph\u001b[0m\u001b[0;34m(\u001b[0m\u001b[0mbowtie\u001b[0m\u001b[0;34m)\u001b[0m\u001b[0;34m\u001b[0m\u001b[0m\n",
      "\u001b[0;31mTypeError\u001b[0m: unsupported operand type(s) for +: 'set' and 'list'"
     ]
    }
   ],
   "source": [
    "#generating the subgraph\n",
    "bowtie=scc+IN_component+OUT_component\n",
    "DG_bowtie = DG.subgraph(bowtie)\n"
   ]
  },
  {
   "cell_type": "code",
   "execution_count": 53,
   "metadata": {
    "collapsed": true
   },
   "outputs": [],
   "source": [
    "#defining the proper layout\n",
    "pos={}\n",
    "in_y=100.\n",
    "pos['89']=(150.,in_y)\n",
    "\n",
    "in_step=700.\n",
    "for in_n in IN_component:\n",
    "    pos[in_n]=(100.,in_y)\n",
    "    in_y=in_y+in_step\n"
   ]
  },
  {
   "cell_type": "code",
   "execution_count": 54,
   "metadata": {
    "collapsed": true
   },
   "outputs": [],
   "source": [
    "out_y=100.\n",
    "out_step=500.   \n",
    "for out_n in OUT_component:\n",
    "    pos[out_n]=(200,out_y)\n",
    "    out_y=out_y+out_step\n",
    "\n",
    "pos['90']=(150.,out_y)\n"
   ]
  },
  {
   "cell_type": "code",
   "execution_count": 55,
   "metadata": {
    "collapsed": false
   },
   "outputs": [
    {
     "ename": "NameError",
     "evalue": "name 'DG_bowtie' is not defined",
     "output_type": "error",
     "traceback": [
      "\u001b[0;31m---------------------------------------------------------------------------\u001b[0m",
      "\u001b[0;31mNameError\u001b[0m                                 Traceback (most recent call last)",
      "\u001b[0;32m<ipython-input-55-cecbed2564d8>\u001b[0m in \u001b[0;36m<module>\u001b[0;34m()\u001b[0m\n\u001b[1;32m      1\u001b[0m \u001b[0;31m#plot the bowtie structure\u001b[0m\u001b[0;34m\u001b[0m\u001b[0;34m\u001b[0m\u001b[0m\n\u001b[0;32m----> 2\u001b[0;31m \u001b[0mnx\u001b[0m\u001b[0;34m.\u001b[0m\u001b[0mdraw\u001b[0m\u001b[0;34m(\u001b[0m\u001b[0mDG_bowtie\u001b[0m\u001b[0;34m,\u001b[0m \u001b[0mpos\u001b[0m\u001b[0;34m,\u001b[0m \u001b[0mnode_size\u001b[0m\u001b[0;34m=\u001b[0m\u001b[0;36m50\u001b[0m\u001b[0;34m)\u001b[0m\u001b[0;34m\u001b[0m\u001b[0m\n\u001b[0m\u001b[1;32m      3\u001b[0m \u001b[0;34m\u001b[0m\u001b[0m\n\u001b[1;32m      4\u001b[0m \u001b[0mnx\u001b[0m\u001b[0;34m.\u001b[0m\u001b[0mdraw_networkx_nodes\u001b[0m\u001b[0;34m(\u001b[0m\u001b[0mDG_bowtie\u001b[0m\u001b[0;34m,\u001b[0m \u001b[0mpos\u001b[0m\u001b[0;34m,\u001b[0m \u001b[0mIN_component\u001b[0m\u001b[0;34m,\u001b[0m                        \u001b[0mnode_size\u001b[0m\u001b[0;34m=\u001b[0m\u001b[0;36m100\u001b[0m\u001b[0;34m,\u001b[0m \u001b[0mnode_color\u001b[0m\u001b[0;34m=\u001b[0m\u001b[0;34m'Black'\u001b[0m\u001b[0;34m)\u001b[0m\u001b[0;34m\u001b[0m\u001b[0m\n\u001b[1;32m      5\u001b[0m \u001b[0mnx\u001b[0m\u001b[0;34m.\u001b[0m\u001b[0mdraw_networkx_nodes\u001b[0m\u001b[0;34m(\u001b[0m\u001b[0mDG_bowtie\u001b[0m\u001b[0;34m,\u001b[0m \u001b[0mpos\u001b[0m\u001b[0;34m,\u001b[0m \u001b[0mOUT_component\u001b[0m\u001b[0;34m,\u001b[0m                        \u001b[0mnode_size\u001b[0m\u001b[0;34m=\u001b[0m\u001b[0;36m100\u001b[0m\u001b[0;34m,\u001b[0m \u001b[0mnode_color\u001b[0m\u001b[0;34m=\u001b[0m\u001b[0;34m'White'\u001b[0m\u001b[0;34m)\u001b[0m\u001b[0;34m\u001b[0m\u001b[0m\n",
      "\u001b[0;31mNameError\u001b[0m: name 'DG_bowtie' is not defined"
     ]
    }
   ],
   "source": [
    "#plot the bowtie structure\n",
    "nx.draw(DG_bowtie, pos, node_size=50)\n",
    "\n",
    "nx.draw_networkx_nodes(DG_bowtie, pos, IN_component, \\\n",
    "                       node_size=100, node_color='Black')\n",
    "nx.draw_networkx_nodes(DG_bowtie, pos, OUT_component, \\\n",
    "                       node_size=100, node_color='White')\n",
    "nx.draw_networkx_nodes(DG_bowtie, pos, scc, \\\n",
    "                       node_size=200, node_color='Grey')\n"
   ]
  },
  {
   "cell_type": "markdown",
   "metadata": {},
   "source": [
    "<img src = 'img/network_1_5.png'>\n",
    "Fig. 1.7 The procedure of the Breadth First Search (BFS) algorithm. Starting from a root node at distance d 0 at successive time steps we explore the neighbours at increasing distances."
   ]
  },
  {
   "cell_type": "code",
   "execution_count": 56,
   "metadata": {
    "collapsed": false
   },
   "outputs": [
    {
     "name": "stdout",
     "output_type": "stream",
     "text": [
      "['C', 'B']\n"
     ]
    },
    {
     "data": {
      "image/png": "[encoded data removed]",
      "text/plain": [
       "<matplotlib.figure.Figure at 0x10887f390>"
      ]
     },
     "metadata": {},
     "output_type": "display_data"
    }
   ],
   "source": [
    "#creating the graph\n",
    "G=nx.Graph()\n",
    "G.add_edges_from([('A','B'),('A','C'),('C','D'),('C','E'),('D','F'),\n",
    "('D','H'),('D','G'),('E','H'),('E','I')])\n",
    "\n",
    "#printing the neighbors of the node 'A'\n",
    "print(G.neighbors('A'))\n",
    "\n",
    "nx.draw(G)"
   ]
  },
  {
   "cell_type": "code",
   "execution_count": 57,
   "metadata": {
    "collapsed": false
   },
   "outputs": [
    {
     "name": "stdout",
     "output_type": "stream",
     "text": [
      "['A']\n",
      "('A', 0)\n",
      "('C', 1)\n",
      "('B', 1)\n",
      "('E', 2)\n",
      "('D', 2)\n",
      "('G', 3)\n",
      "('F', 3)\n",
      "('I', 3)\n",
      "('H', 3)\n"
     ]
    }
   ],
   "source": [
    "root_node='A'\n",
    "queue=[]\n",
    "queue.append('A')\n",
    "print(queue);\n",
    "G.node['A'][\"distance\"]=0\n",
    "while len(queue):\n",
    "    working_node=queue.pop(0)\n",
    "    for n in G.neighbors(working_node):\n",
    "        if len(G.node[n])==0:\n",
    "            G.node[n][\"distance\"]=G.node[working_node][\"distance\"]+1\n",
    "            queue.append(n)\n",
    "for n in G.nodes():\n",
    "    print (n,G.node[n][\"distance\"])   "
   ]
  },
  {
   "cell_type": "markdown",
   "metadata": {},
   "source": [
    "- 앞에서 언급했듯이 식품 웹에서 치수 편향을 제거하기 위해 영양가있는 종 (trophic species)이 필요합니다. 이는 단일 노드에서 모든 노드를 동일한 먹이 / 육식 동물 패턴으로 집중시킴으로써 수행됩니다. \n",
    "\n",
    "- 표 1.1에서 우리는이 장의 시작 부분에서 제시 한 음식 웹 데이터 세트의 영양 상태와 기본 조치 (Dunne et al., 2002; Caldarelli et al., 1998)를 보여준다. 다음에서는 간단한 파이썬 코드를 사용하여 단계별로 계산해 보겠습니다.\n",
    "\n",
    "- 가장 먼저해야 할 일은 데이터 집합을 네트워크 모양으로 로드하는 것입니다."
   ]
  },
  {
   "cell_type": "code",
   "execution_count": 58,
   "metadata": {
    "collapsed": true
   },
   "outputs": [],
   "source": [
    "file_name=\"book_code/Notebook_Chapter_I_FoodWebs/data/Little_Rock_Lake.txt\"\n",
    "\n",
    "DG = nx.DiGraph()\n",
    "\n",
    "in_file=open(file_name,'r')\n",
    "while True:\n",
    "    next_line=in_file.readline()\n",
    "    if not next_line:\n",
    "        break\n",
    "    next_line_fields=next_line[:-2].split(' ')\n",
    "    node_a=next_line_fields[1] #there is a space in the beginning \n",
    "                               #of each edge\n",
    "    node_b=next_line_fields[2]\n",
    "    DG.add_edge(node_a, node_b)"
   ]
  },
  {
   "cell_type": "markdown",
   "metadata": {},
   "source": [
    "- 특정 식품 웹이 Networkx 구조에로드되면 작업 할 수 있습니다. 가장 먼저 할 일은이 네트워크의 트로피 버전을 생성하는 것입니다. \n",
    "\n",
    "- 사전 키의 속성을 복잡한 데이터 구조로 광범위하게 사용할 것입니다. 현재의 경우 우리는 목록 / 튜플을 패턴으로 사용하여 특정 영양 종을 식별합니다."
   ]
  },
  {
   "cell_type": "code",
   "execution_count": 59,
   "metadata": {
    "collapsed": true
   },
   "outputs": [],
   "source": [
    "# Trophic Species\n",
    "# Defining the trophic pattern key\n",
    "# 이것은 노드에 붙어있는 먹이와 포식자의 순서가 지정된 목록에서 시작하는 고유 한 키를 생성하는 방법입니다\n",
    "\n",
    "def get_node_key(node):\n",
    "    out_list=[]\n",
    "    for out_edge in DG.out_edges(node):\n",
    "        out_list.append(out_edge[1])\n",
    "    in_list=[]\n",
    "    for in_edge in DG.in_edges(node):\n",
    "        in_list.append(in_edge[0])\n",
    "    out_list.sort()\n",
    "    out_list.append('-')\n",
    "    in_list.sort()\n",
    "    out_list.extend(in_list)\n",
    "    return out_list\n",
    "\n",
    "#이 패턴 함수를 활용하여 다음과 같은 함수를 통해 영양 종을 추출 할 수 있습니다."
   ]
  },
  {
   "cell_type": "code",
   "execution_count": 60,
   "metadata": {
    "collapsed": true
   },
   "outputs": [],
   "source": [
    "## Grouping the Trophic Species and Regenerating the Trophic network\n",
    "def TrophicNetwork(DG):\n",
    "    trophic={}\n",
    "    for n in DG.nodes():\n",
    "        k=tuple(get_node_key(n))\n",
    "        if not k in trophic:\n",
    "            trophic[k]=[]\n",
    "        trophic[k].append(n)\n",
    "    for specie in trophic.keys():\n",
    "        if len(trophic[specie])>1:\n",
    "            for n in trophic[specie][1:]:\n",
    "                DG.remove_node(n)\n",
    "    return DG"
   ]
  },
  {
   "cell_type": "code",
   "execution_count": 61,
   "metadata": {
    "collapsed": true
   },
   "outputs": [],
   "source": [
    "#deleting the environment\n",
    "DG.remove_node('0')"
   ]
  },
  {
   "cell_type": "code",
   "execution_count": 62,
   "metadata": {
    "collapsed": true
   },
   "outputs": [],
   "source": [
    "TrophicDG=TrophicNetwork(DG)"
   ]
  },
  {
   "cell_type": "code",
   "execution_count": 63,
   "metadata": {
    "collapsed": false
   },
   "outputs": [
    {
     "name": "stdout",
     "output_type": "stream",
     "text": [
      "('S:', 93)\n",
      "('L:', 1034)\n",
      "('L/S:', 1034.0)\n"
     ]
    },
    {
     "data": {
      "text/plain": [
       "93"
      ]
     },
     "execution_count": 63,
     "metadata": {},
     "output_type": "execute_result"
    }
   ],
   "source": [
    "print (\"S:\",TrophicDG.number_of_nodes())\n",
    "print (\"L:\",TrophicDG.number_of_edges())\n",
    "print (\"L/S:\",float(TrophicDG.number_of_edges()))\n",
    "TrophicDG.number_of_nodes()"
   ]
  },
  {
   "cell_type": "markdown",
   "metadata": {},
   "source": [
    "- 음식 웹 네트워크의 카테고리는 각 종의 입 / 출력 링크와 관련되어 있습니다. 우리는 먹이 (B), 포식자 인 상위 종 T (유입 링크 만), 마지막으로 먹이와 육식 동물 인 중간 종 1 (내부 및 외부 링크)을 가지고 있습니다. \n",
    "- 이전에 소개 된 \"Little Rock\"푸드 웹 네트워크를 분류 한 Python 코드는 다음과 같습니다."
   ]
  },
  {
   "cell_type": "code",
   "execution_count": 64,
   "metadata": {
    "collapsed": false
   },
   "outputs": [
    {
     "name": "stdout",
     "output_type": "stream",
     "text": [
      "('B:', 0.12903225806451613)\n",
      "('I:', 0.8602150537634409)\n",
      "('T:', 0.010752688172043012)\n"
     ]
    }
   ],
   "source": [
    "### Classes in Food Webs\n",
    "def compute_classes(DG):\n",
    "    basal_species=[]\n",
    "    top_species=[]\n",
    "    intermediate_species=[]\n",
    "    for n in DG.nodes():\n",
    "        if DG.in_degree(n)==0:\n",
    "            basal_species.append(n)\n",
    "        elif DG.out_degree(n)==0:\n",
    "            top_species.append(n)\n",
    "        else:\n",
    "            intermediate_species.append(n)\n",
    "    return (basal_species,intermediate_species,top_species)\n",
    "\n",
    "(B,I,T)=compute_classes(TrophicDG)\n",
    "print (\"B:\",float(len(B))/(len(B)+len(T)+len(I)))\n",
    "print (\"I:\",float(len(I))/(len(B)+len(T)+len(I)))\n",
    "print (\"T:\",float(len(T))/(len(B)+len(T)+len(I)))\n",
    "\n",
    "#마지막으로, 이전에 정의 된 다양한 클래스 사이의 링크 비율과 (#B + # 1) / (# [+ # T]) 정의 된 먹이 / 포식자 비율을 계산합니다."
   ]
  },
  {
   "cell_type": "code",
   "execution_count": 65,
   "metadata": {
    "collapsed": false
   },
   "outputs": [
    {
     "name": "stdout",
     "output_type": "stream",
     "text": [
      "('links in BT:', 0.0009671179883945841)\n",
      "('links in BI:', 0.09090909090909091)\n",
      "('links in II:', 0.9081237911025145)\n",
      "('links in IT:', 0.0)\n",
      "('P/R:', 1.1358024691358024)\n"
     ]
    }
   ],
   "source": [
    "## Proportion of links among classes and ratio prey/predators\n",
    "\n",
    "def InterclassLinkProportion(DG,C1,C2):\n",
    "    count=0\n",
    "    for n1 in C1:\n",
    "        for n2 in C2:\n",
    "            if DG.has_edge(n1,n2):\n",
    "                count+=1\n",
    "    return float(count)/DG.number_of_edges()\n",
    "    \n",
    "print (\"links in BT:\",InterclassLinkProportion(TrophicDG,B,T))\n",
    "print (\"links in BI:\",InterclassLinkProportion(TrophicDG,B,I))\n",
    "print (\"links in II:\",InterclassLinkProportion(TrophicDG,I,I))\n",
    "print (\"links in IT:\",InterclassLinkProportion(TrophicDG,I,T))\n",
    "\n",
    "#Ratio prey/predators\n",
    "print (\"P/R:\",float((len(B)+len(I)))/(len(I)+len(T)))"
   ]
  },
  {
   "cell_type": "markdown",
   "metadata": {},
   "source": [
    "<img src = 'img/network_1_6.png'>"
   ]
  }
 ],
 "metadata": {
  "kernelspec": {
   "display_name": "Python 2",
   "language": "python",
   "name": "python2"
  },
  "language_info": {
   "codemirror_mode": {
    "name": "ipython",
    "version": 2
   },
   "file_extension": ".py",
   "mimetype": "text/x-python",
   "name": "python",
   "nbconvert_exporter": "python",
   "pygments_lexer": "ipython2",
   "version": "2.7.11"
  }
 },
 "nbformat": 4,
 "nbformat_minor": 2
}
