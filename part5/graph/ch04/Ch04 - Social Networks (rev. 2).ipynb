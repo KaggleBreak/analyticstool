{
 "cells": [
  {
   "cell_type": "markdown",
   "metadata": {},
   "source": [
    "# Chapter 4\n",
    "# Social Networks\n",
    "Introduces the main concepts of social networks such as <u>properties of social networks</u>, <u>data collection in social networks</u>, <u>data sampling</u>, and <u>social network analysis</u>."
   ]
  },
  {
   "cell_type": "markdown",
   "metadata": {},
   "source": [
    "## Social Network\n",
    "- <u>A social composition of actors and relationship defined on them</u>.\n",
    "    - <u>Actors</u> can be persons, places, organizations, roles, etc. \n",
    "    - <u>Relationship</u> can be kinship, friendship, knowledge, acquaintance, correspondence, etc.\n",
    "- <u>Network nodes</u> mostly represent persons or organizations. However, they can also refer to Web pages, journal articles, departments, neighborhoods, or even countries.\n",
    "- Social networks can be grouped into two types: <u>one mode</u> and <u>multimode</u>.\n",
    "    - One-mode networks\n",
    "        - Include <u>one type of nodes</u> to represent actors (usually people), subgroups, or communities. \n",
    "        - The relations can represent individual evaluation (such as friendship), transfer of materials (such as borrowing or buying), transferring of non-materials (such as communication), interactions, formal roles, or kinship (such as marriage).\n",
    "    - Two-mode networks\n",
    "        - Includes <u>two different sets of nodes</u>.\n",
    "        - People possess information and resource, investors buy stock in corporations or companies employ people, and many others are all examples of 2-mode or bimodal networks.\n",
    "    "
   ]
  },
  {
   "cell_type": "markdown",
   "metadata": {},
   "source": [
    "## Properties of a Social Network\n",
    "### Scale-Free Networks\n",
    "- Networks whose degree distribution obeys a <u>power law(멱법칙-冪法則)</u> $P(k)\\sim K^{-\\gamma}$ (i.e., <mark>a few well-connected nodes, a lot of poorly connected nodes</mark>).\n",
    "- Degree distribution is calculated as follows:\n",
    "$$P_k = \\frac{1}{n}\\# \\{i\\mid k_i=k\\}$$\n",
    "- Citation networks, biological networks, WWW graph, Internet graph, and social networks have <u>right-skewed or power-law degree distribution</u>.\n",
    "- <u>Power-law distribution</u> means that <u>few nodes account for the vast majority of links</u>, while <u>most nodes have very few links</u>, which <u>emphasizes the idea that we have a core with a periphery of nodes with few connections</u>.\n",
    "<img src=\"Fig4.1.png\" width=500>\n",
    "\n",
    "\n",
    "- In these networks, <u>a small number of well-connected nodes (hubs)</u> significantly <u>reduce the diameter</u> of the entire networks."
   ]
  },
  {
   "cell_type": "code",
   "execution_count": null,
   "metadata": {
    "collapsed": true
   },
   "outputs": [],
   "source": [
    "import networkx as nx\n",
    "g = nx.scale_free_graph(40, alpha=0.41, beta=0.54, gamma=0.05, \n",
    "                        delta_in=0.2, delta_out=0, create_using=None, seed=None)"
   ]
  },
  {
   "cell_type": "markdown",
   "metadata": {},
   "source": [
    "- `nx.scale_free_graph`'s parameters:\n",
    "    - `n` (integer) – Number of nodes in the graph.\n",
    "    - `alpha` (float) – Probability for adding a new node connected to an existing node\n",
    "    chosen randomly according to the in-degree distribution.\n",
    "    - `beta` (float) – Probability for adding an edge between two existing nodes. One existing node is chosen randomly according to the in-degree distribution and the\n",
    "    other chosen randomly according to the out-degree distribution.\n",
    "    - `gamma` (float) – Probability for adding a new node connected to an existing node\n",
    "    chosen randomly according to the out-degree distribution.\n",
    "    - `delta_in` (float) – Bias for choosing nodes from in-degree distribution.\n",
    "    - `delta_out` (float) – Bias for choosing nodes from out-degree distribution.\n",
    "    - `create_using` (graph, optional (default MultiDiGraph)) – Use this graph instance\n",
    "    to start the process (default = 3-cycle).\n",
    "    - `seed` (integer, optional) – Seed for random number generator."
   ]
  },
  {
   "cell_type": "code",
   "execution_count": null,
   "metadata": {
    "collapsed": false,
    "scrolled": true
   },
   "outputs": [],
   "source": [
    "print(nx.info(g))"
   ]
  },
  {
   "cell_type": "code",
   "execution_count": null,
   "metadata": {
    "collapsed": false,
    "scrolled": false
   },
   "outputs": [],
   "source": [
    "%matplotlib inline\n",
    "import matplotlib.pyplot as plt\n",
    "\n",
    "plt.figure(figsize=(8, 8))\n",
    "plt.axis('off')\n",
    "\n",
    "layout = nx.spring_layout(g)\n",
    "\n",
    "nx.draw_networkx(g, layout=layout,\n",
    "                 with_labels=True, node_size=800, node_color='y')"
   ]
  },
  {
   "cell_type": "markdown",
   "metadata": {},
   "source": [
    "### Small-World Networks\n",
    "- In small-world networks,\n",
    "    - Most nodes are <u>homogeneous</u>.\n",
    "    - Can be reached by a small number of steps. \n",
    "    - So, each node has roughly <u>the same number of links</u>. \n",
    "    - The distance between any two nodes grows proportionally to the logarithm of the order of the network.\n",
    "    - Have many local links and few long-range “shortcuts.” \n",
    "    - Have <u>high clustering coefficient</u>, short average path length, and over-abundance of hub nodes. \n",
    "    - Consist of dense communities or clusters that are loosely connected by boundary spanners (also called connectors). \n",
    "    - Even though these networks are uniform, they decay exponentially. ?????\n",
    "    \n",
    "    \n",
    "- *[Watts-Strogatz(WS)](https://en.wikipedia.org/wiki/Watts–Strogatz_model)* small-world graph\n",
    "    - 3 parameters:\n",
    "        - `n (int)` which is the number of nodes,\n",
    "        - `k (int)` where each node is connected to k nearest neighbors in a ring topology,\n",
    "        - `p (float)` the probability of rewiring each edge\n",
    "        - `seed` (optional `int`) for random number generator (`default=none`).\n",
    "    - Generating is as follows:\n",
    "        1. Create a ring of `n` nodes. \n",
    "        2. Each node in the ring is connected with its $k$ nearest neighbors ($k-1$ neighbors if $k$ is odd). \n",
    "        3. Shortcuts are created by replacing some edges as follows: for each edge $u$-$v$ in the underlying “$n$-ring with $k$ nearest neighbors” with probability $p$, replace it with a new edge $u$-$w$ with uniformly random choice of existing node $w$."
   ]
  },
  {
   "cell_type": "code",
   "execution_count": null,
   "metadata": {
    "collapsed": false,
    "scrolled": false
   },
   "outputs": [],
   "source": [
    "import networkx as nx\n",
    "\n",
    "g = nx.watts_strogatz_graph(25, 5, 0.4)\n",
    "# g = nx.watts_strogatz_graph(20, 4, 0.2)\n",
    "print(nx.info(g))"
   ]
  },
  {
   "cell_type": "code",
   "execution_count": null,
   "metadata": {
    "collapsed": false,
    "scrolled": true
   },
   "outputs": [],
   "source": [
    "plt.axis('off')\n",
    "nx.draw_networkx(g, node_color='c', node_size=400)"
   ]
  },
  {
   "cell_type": "code",
   "execution_count": null,
   "metadata": {
    "collapsed": false
   },
   "outputs": [],
   "source": [
    "# Modified by etc.\n",
    "plt.axis('off')\n",
    "pos = nx.circular_layout(g)\n",
    "nx.draw_networkx(g, pos, node_color='c', node_size=400)"
   ]
  },
  {
   "cell_type": "markdown",
   "metadata": {},
   "source": [
    "### Network Navigation\n",
    "- Means that besides the small-world phenomenon, people are good at finding paths in networks."
   ]
  },
  {
   "cell_type": "markdown",
   "metadata": {},
   "source": [
    "### [Dunbar’s Number](https://en.wikipedia.org/wiki/Dunbar%27s_number)\n",
    "- <u>Cognitive limit to the number</u> of individuals with whom one can maintain stable social relationships. \n",
    "- Relationships in which an actor knows who each person is and how each person relates to every other person. \n",
    "- Lie between 100 and 250, with a commonly used value of 150."
   ]
  },
  {
   "cell_type": "markdown",
   "metadata": {},
   "source": [
    "## Data Collection in Social Networks\n",
    "- Collecting data using traditional methods such as <u>questionnaires, interviews, observations, and archival records</u>, while online data can be collected mainly <u>using APIs, Web crawlers, online surveys, and specialized applications</u>."
   ]
  },
  {
   "cell_type": "markdown",
   "metadata": {},
   "source": [
    "## [Six Degrees of Separation](https://en.wikipedia.org/wiki/Six_degrees_of_separation)\n",
    "- In 1969, a psychologist called Stanley Milgram did an [experiment](https://en.wikipedia.org/wiki/Small-world_experiment).\n",
    "- Sent out 300 letters to some randomly selected addresses in Nebraska and Kansas.\n",
    "- Each of the 300 letters had instructions on how to deliver the letter back to Boston through a series of acquaintances.\n",
    "- Only 64 letters, out of 300, arrived their destination with an average chain length of <u>5.5</u>.\n",
    "- Ref\n",
    "    - [분리의 여섯 단계 이론 @ Naver](http://terms.naver.com/entry.nhn?docId=1838337&cid=42044&categoryId=42044)"
   ]
  },
  {
   "cell_type": "markdown",
   "metadata": {},
   "source": [
    "## Online Social Data Collection\n",
    "- Beyond the traditional methods of collecting social data, online data can be collected by the following methods:\n",
    "    1. APIs.\n",
    "    2. Web crawlers.\n",
    "    3. Online surveys.\n",
    "    4. Deployed applications.\n",
    "- Nevertheless, all network data collection methods <u>suffer from some drawbacks</u>, particularly about information accuracy, information validity, information reliability, and measurement error."
   ]
  },
  {
   "cell_type": "markdown",
   "metadata": {},
   "source": [
    "## Data Sampling\n",
    "- The three most frequently sampling techniques used here are:\n",
    "    1. *Node sampling*. A limited subset of nodes alongside their links are chosen to be the sampled data.\n",
    "    2. *Link sampling*. A subset of links is selected to represent the sampled data.\n",
    "    3. *Snowball sampling(chain sampling or respondent-driven sampling)*.\n",
    "        - Starts with a set of <u>sampled nodes alongside their neighbors</u>. These nominated nodes are the <u>first-order zone</u> of the network.\n",
    "        - Next, the nodes in this zone are sampled, and all their <u>connections are extracted to form the second-order zone</u>.\n",
    "        - This process is done several times and leads eventually have a network of several zones.\n",
    "        - Requires that <u>limit the depth</u> of search to a predetermined number to avoid issues like the explosion of data that the snowball sampling method can deliver and the human limit of perception of social networks."
   ]
  },
  {
   "cell_type": "code",
   "execution_count": null,
   "metadata": {
    "collapsed": false
   },
   "outputs": [],
   "source": [
    "import sys\n",
    "import os\n",
    "import networkx as nx\n",
    "import urllib.request\n",
    "\n",
    "g = nx.Graph()\n",
    "\n",
    "def read_lj_friends(g, name):\n",
    "    # fetch the friend-list from LiveJournal\n",
    "    response = urllib.request.urlopen('http://www.livejournal.com/misc/fdata.bml?user='+name)\n",
    "    for line_b in response.readlines():        \n",
    "        line = str(line_b, 'utf-8')  # byte to utf-8   \n",
    "        if line.startswith('#'):\n",
    "            continue\n",
    "        # the format is \"< name\" (incoming) or \"> name\" (outgoing)\n",
    "        parts = line.split()\n",
    "        #make sure that we do not have an empty line\n",
    "        if len(parts) == 0:\n",
    "            continue\n",
    "        #add the edge to the network\n",
    "        if parts[0] == '<':\n",
    "          g.add_edge(parts[1], name)\n",
    "        else:\n",
    "          g.add_edge(name, parts[1])"
   ]
  },
  {
   "cell_type": "code",
   "execution_count": null,
   "metadata": {
    "collapsed": false
   },
   "outputs": [],
   "source": [
    "def snowball_sampling(g, center, max_depth=1, current_depth=0, taboo_list=[]):\n",
    "    # if we have reached the depth limit of the search, bomb out. print center, current_depth, max_depth, taboo_list   \n",
    "    print(center, current_depth, max_depth, taboo_list)\n",
    "    if current_depth == max_depth:\n",
    "        print('out of depth')\n",
    "        return taboo_list\n",
    "    if center in taboo_list:\n",
    "        print('taboo')\n",
    "        return taboo_list #we've been here before\n",
    "    else:\n",
    "        taboo_list.append(center) # we shall never return\n",
    "\n",
    "    read_lj_friends(g, center)\n",
    "    \n",
    "#     print(\"G : \", g.nodes())\n",
    "    \n",
    "    for node in g.neighbors(center):\n",
    "        taboo_list = snowball_sampling(g, node, current_depth=current_depth+1, \n",
    "                                     max_depth=max_depth, taboo_list=taboo_list)\n",
    "    \n",
    "    return taboo_list"
   ]
  },
  {
   "cell_type": "code",
   "execution_count": null,
   "metadata": {
    "collapsed": false,
    "scrolled": false
   },
   "outputs": [],
   "source": [
    "snowball_sampling(g, 'valerois')\n",
    "# snowball_sampling(g, 'valerois', max_depth=2)"
   ]
  },
  {
   "cell_type": "code",
   "execution_count": null,
   "metadata": {
    "collapsed": true
   },
   "outputs": [],
   "source": [
    "nx.write_pajek(g, \"livejournadata.net\")"
   ]
  },
  {
   "cell_type": "code",
   "execution_count": null,
   "metadata": {
    "collapsed": false
   },
   "outputs": [],
   "source": [
    "!cat livejournadata.net | head"
   ]
  },
  {
   "cell_type": "code",
   "execution_count": null,
   "metadata": {
    "collapsed": false,
    "scrolled": true
   },
   "outputs": [],
   "source": [
    "print(nx.info(g))"
   ]
  },
  {
   "cell_type": "code",
   "execution_count": null,
   "metadata": {
    "collapsed": false
   },
   "outputs": [],
   "source": [
    "%matplotlib inline\n",
    "import matplotlib.pyplot as plt\n",
    "\n",
    "plt.axis(\"off\")\n",
    "plt.figure(figsize=(20, 15))\n",
    "nx.draw_networkx(g, arrows=True)\n",
    "\n",
    "# plt.savefig(\"test.png\")"
   ]
  },
  {
   "cell_type": "markdown",
   "metadata": {},
   "source": [
    "## Social Network Analysis\n",
    "- An approach in social research with four distinctive characteristics:\n",
    "    - systematic relational data, \n",
    "    - structural intuition, \n",
    "    - graphical models, \n",
    "    - mathematical models.\n",
    "- The ultimate goal of SNA : examine <u>the relations between individuals within a social network</u>, which can have the meaning of influence, affection, communication, advice, friendship, trust, dislike, conflict, or many other things, in addition to the overall network structure.\n",
    "- Micro, meso, and macro \n",
    "- As a whole (sociocentric analysis), a part of the network (sub-network analysis), or the connections of one specific node (ego-network analysis).\n",
    "\n",
    "\n",
    "- SNA suffers from some issues related to trust, privacy, and strategy in organizations and shortage of providing successful results for certain implementations such as in education evaluation."
   ]
  },
  {
   "cell_type": "markdown",
   "metadata": {},
   "source": [
    "## Social Network Analysis vs. Link Analysis\n",
    "- Share the same idea of using nodes and edges to model networks, and both try to <u>find the key players</u> in a network.\n",
    "- Link analysis allows for <u>different types of nodes and edges to coexist on the same network</u> which may produce invalid results. ❓❓❓"
   ]
  },
  {
   "cell_type": "markdown",
   "metadata": {},
   "source": [
    "## Historical Development\n",
    "- emerged as a result of cooperation between three different disciplines:\n",
    "    1. sociometric analysts who came up with technical advancements in graph theory by working with small groups of data, \n",
    "    2. Harvard researchers who in 1930s discovered patterns of interpersonal relations and the formation of cliques, and \n",
    "    3. Manchester anthropologists who studied people connections and community structures in tribal and village societies.\n",
    "- Four features characterize the current use of SNA:\n",
    "    - The study of SNA is motivated by the structural composition of ties that link social actors.\n",
    "    - Built on systematic empirical inputs.\n",
    "    - Relies heavily on the use of graphical representations.\n",
    "    - Relies on the use of computational and mathematical models.\n",
    "- [International Network for Social Network Analysis (INSNA)](http://www.insna.org)"
   ]
  },
  {
   "cell_type": "markdown",
   "metadata": {},
   "source": [
    "## Importance of Social Network Analysis\n",
    "- Perform a critical job determining\n",
    "    - How to solve issues in society, \n",
    "    - How organizations can be better run, \n",
    "    - How individuals can achieve their goals faster. \n",
    "- SNA was successfully applied in\n",
    "    1. Health, in research related to the epidemiology and prevention of sexually transmitted diseases; \n",
    "    2. Cybercrime, investigating online hacker communities; \n",
    "    3. Business, studying the influence of SNA and sentiment analysis in predicting business trends; \n",
    "    4. Animal social networks, investigating the relationships and the social structures of animal gatherings and the direct and indirect interactions between groups;\n",
    "    5. Communications, studying the different structural properties of short message service graphs.\n",
    "    6. Information retrieval, information fusion communities, and investigation of terrorist groups."
   ]
  },
  {
   "cell_type": "markdown",
   "metadata": {},
   "source": [
    "## Social Network Analysis Modeling Tools\n",
    "- SNA modeling tools\n",
    "    - Pajek\n",
    "    - UCINET\n",
    "    - StOCENT\n",
    "    - Gephi\n",
    "    - Network Workbench\n",
    "    - NodeXL\n",
    "- Special-purposes SNA modeling tools\n",
    "    - NEGOPY\n",
    "    - InFlow\n",
    "    - SocioMetric LinkAlyzer\n",
    "- Programming utilitity\n",
    "    - NetworkX\n",
    "    - JUNG\n",
    "    - iGraph\n",
    "    - Prefuse\n",
    "    - SNAP"
   ]
  },
  {
   "cell_type": "code",
   "execution_count": null,
   "metadata": {
    "collapsed": true
   },
   "outputs": [],
   "source": []
  }
 ],
 "metadata": {
  "kernelspec": {
   "display_name": "Python 3",
   "language": "python",
   "name": "python3"
  },
  "language_info": {
   "codemirror_mode": {
    "name": "ipython",
    "version": 3
   },
   "file_extension": ".py",
   "mimetype": "text/x-python",
   "name": "python",
   "nbconvert_exporter": "python",
   "pygments_lexer": "ipython3",
   "version": "3.5.2"
  }
 },
 "nbformat": 4,
 "nbformat_minor": 1
}
