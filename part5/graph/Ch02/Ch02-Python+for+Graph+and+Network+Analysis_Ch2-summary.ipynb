{
 "cells": [
  {
   "cell_type": "markdown",
   "metadata": {},
   "source": [
    "#### The book contains eight chapters. \n",
    "<BR>Chapter 1: <B>Theoretical Concepts of Network Analysis</B>. <font color=\"red\">This is the longest chapter</font>, it gives an introduction to the major theoretical concepts of network analysis, with emphasis on these used throughout this book.\n",
    "<BR>Chapter 2: <B>Network basics</B>. This chapter introduces the concept of a network, which is, of course, the core object of network analysis. We will discuss topics such as types of networks, network measures, installation and use of NetworkX library, network data representation, basic matrix operations, and data visualization.\n",
    "<BR>Chapter 3: <B>Graph theory</B>. This chapter presents the main features of graph theory, the mathematical study of the application and properties of graphs, initially moti- vated by the study of games of chance. It addresses topics such as origins of graph theory, graph basics, types of graphs, graph traversals, and types of operations on graphs.    \n",
    "<BR>Chapter 4: <B>Social networks</B>. This chapter introduces the main concepts of social networks such as properties of social networks, data collection in social networks, data sampling, and social network analysis.\n",
    "<BR>Chapter 5: <B>Node-level analysis</B>. This chapter is concerned with building an understanding of how to do network analysis at the node (ego) level. It shows how to create social networks from scratch, how to import networks, how to  nd key players in social networks using centrality measures, and how to visualize networks. We will also introduce the important algorithms that are used to gain insights from graphs.\n",
    "<BR>Chapter 6: <B>Group-level analysis</B>. In this chapter, we are going to present a num- ber of techniques for detecting cohesive groups in networks such as cliques, cluster- ing coef cient, triadic analysis, structural holes, brokerage, transitivity, hierarchical clustering, and blockmodels, all of which are based on how nodes in a network interconnect. However, among all, cohesion and brokerage types of analysis are two major research topics in social network analysis.\n",
    "<BR>Chapter 7: <B>Network-level analysis</B>. In this chapter, we are going to study graphs and networks as a whole, which is different from what we have done in the previous chapters when we analyzed graphs at the node level and the group level. Hence, this chapter addresses concepts such as components and isolates, cores and periphery, network density, shortest paths, reciprocity, af liation networks and two-mode net- works, and homophily.\n",
    "<BR>Chapter 8: <B>Information diffusion in social networks</B>. This chapter discusses con- cepts of information diffusion in social networks. Information diffusion methods are commonly used in viral marketing, in collaborative  ltering systems, in emer- gency management, in community detection, and in the study of citation networks.\n"
   ]
  },
  {
   "cell_type": "markdown",
   "metadata": {
    "deletable": true,
    "editable": true
   },
   "source": [
    "# Chapter 2 Network Basics\n",
    "\n",
    "This chapter introduces the <B><font color=\"blue\">concept of a network</font></B>, which is obviously the core object of network analysis. We will discuss topics such as types of networks, network measures, installation and use of NetworkX library, network data representation, basic matrix operations, and data visualization."
   ]
  },
  {
   "cell_type": "markdown",
   "metadata": {
    "deletable": true,
    "editable": true
   },
   "source": [
    "## 2.1 What Is a Network?\n",
    "\n",
    "A network can be a specialized type of mathematical graph or interconnected sys- tems. Hence, it is not far from a graph, which implies the visual representation of a set of nodes and edges. Network nodes may represent web pages, people, organiza- tions, articles, places, and many other things."
   ]
  },
  {
   "cell_type": "markdown",
   "metadata": {
    "deletable": true,
    "editable": true
   },
   "source": [
    "## 2.2 Types of Networks\n",
    "\n",
    "Networks in real world fall into one of the following four major types:\n",
    "\n",
    "* Information networks: Man-made networks in which data items are linked together in some way. The best-known example is the World Wide Web (WWW), a network in which the vertices represent Web pages consisting of text, pictures, and other information. Navigation from one page to another is done with the use of hyperlinks that represent edges. Other examples of information networks— even though having social aspects to them—include email communications, social-networking websites such as Facebook and Twitter, weblogs, and citation.\n",
    "    \n",
    "* Technological networks: Man-made networks that are designed to distribute commodity or resources. Technological networks grew up mostly during the last century making use of the emerging advancements in technology. One of the greatest examples is the Internet, a global technological network that consists of communication devices to link computers and other information equipment together (Fig. 2). Other examples include power grids, transportation networks, delivery and distribution networks, and telephone networks.\n",
    "\n",
    "* Biological networks: Networks that represent patterns of interaction between biological elements. Examples of biological networks include (1) biochemical networks: networks that represent patterns of interaction and mechanisms of control at the molecular level in biological cells. (2) Neural networks: networks that connect neurons in the human brain and the central nervous systems of ani- mals. (3) Ecological networks: networks of ecological interactions between species.\n",
    "                \n",
    "* Social networks: Networks in which vertices represent people and edges repre- sent some form of social interaction between vertices including friendship, kin- ship, information  ow, disease outbreak, etc.\n",
    "    \n",
    "* Complex networks: Wikipedia de nes complex networks as networks with non- trivial topological features—features that do not occur in simple networks such as lattices or random graphs but often happen in real graphs. Examples of com- plex networks include biological networks (e.g., proteins, molecules, and chemi- cal reactions), brain networks (e.g., physiological networks and neurological pathways), social networks, and the Internet. Complex networks typically have new emergent properties that are held by the individual units. Social networks are kind of complex networks because they show nontrivial topological features that do not occur in simple networks. Typically, a network is a set of nodes inter- connected via links. Nodes and links can be anything depending on the context. For example, in the Internet, nodes refer to routers and links refer to optical  bers. In WWW, nodes represent document  les and links represent hyperlinks. In the scienti c citation network, nodes represent papers and links represent cita- tions. In a social network, node individuals and links represent relations. Example generators of complex networks include Erdos-Renyi graph, Watts-Strogatz graph, Barabasi-Albert graph, and Random-lobster graph."
   ]
  },
  {
   "cell_type": "markdown",
   "metadata": {
    "deletable": true,
    "editable": true
   },
   "source": [
    "## 2.3 Properties of Networks\n",
    "\n",
    "Networks are characterized by two types of properties: static and dynamic.\n",
    "    \n",
    "1. Network static properties are fixed. They are the properties of nodes and edges and do not change over time once the network is established (e.g., density, short- est paths, and centralities).\n",
    "\n",
    "2. Network dynamic properties are not fixed. They can be processes running on the underlying network substrate (e.g., population dynamics on ecological networks and disease infection on social networks). They can also be the dynamical pro- cesses of complex networks and their structural/statistical properties such as social network formation, food web formation over ecological/evolutionary time scales, the growth of the Internet and WWW, the growth of scienti c citation networks, and the effects of node/link removal or rewiring.\n",
    "\n",
    "Despite having some differences, all types of networks share the following com- mon characteristics:\n",
    "\n",
    "* Transitivity (clustering), which means that if node A is connected to node B and node B is connected to node C, then there is a high probability that node A is also connected to node C.\n",
    "\n",
    "* Network robustness and vulnerability, which means that networks are suscepti- ble to dynamic topological changes caused by external forces (e.g., node removal). Node removal can be the result of the (1) error, which is a random removal of nodes, and (2) attack, which is a selective removal of most connected nodes. Node removal leads to changes in characteristic path length and connec- tivity. If node removal goes on further, the network will eventually fall apart (fragmentation). However, not all networks show the same behavior in response to node removal.\n",
    "\n",
    "* Mixing patterns, which refers to the tendency of vertices to be connected to other vertices that are like (or unlike) them in some way. Social networks tend to show an assortative mixing pattern. For example, people of a similar age are more likely to be friends and people of the same race tend to associate together. On the other hand, technological and biological networks tend to show a disassortative mixing pattern.\n",
    "\n",
    "* Community structure, which means that networks may have high edge density between nodes of the same group while having low edge density between nodes from different groups.\n",
    "\n",
    "Additionally, scientists found additional properties which are more relevant to large networks (i.e., networks with thousands, hundreds of thousands, or even mil- lions of vertices):\n",
    "\n",
    "* The tendency to establish groups of acquaintances and friends to form cliques (maximum connected components) where everyone knows everyone else.\n",
    "* Node degree tends to show a power law distribution, which is the probability that a random node has a certain number of edges."
   ]
  },
  {
   "cell_type": "markdown",
   "metadata": {
    "deletable": true,
    "editable": true
   },
   "source": [
    "## 2.4 Network Measures\n",
    "\n",
    "We provide a brief de nition to the measures that are widely used in network analy- sis research. Most of these measures have been imported from graph theory:\n",
    "    \n",
    "1. Aggregate constraint: the sum of the dyadic constraint on all the ties of a par- ticular vertex.\n",
    "    \n",
    "2. Average degree: A measure of the structural cohesion of a network. To calculate the average degree, all degrees are summed up  rst and then divided by the total number of nodes in the network.\n",
    "    \n",
    "3. Degree distribution: frequency of the degrees of nodes. Graphs with power law degree distribution are called scale-free. It gives a rough pro le of how the con- nectivity is distributed within the network.\n",
    "    \n",
    "4. Average shortest path. Average shortest path length over all pairs of nodes char- acterizes how large the world represented by the network is, where a small length implies that the network is well connected globally.\n",
    "\n",
    "5. Eccentricity: max shortest path length from each node.\n",
    "    \n",
    "6. Diameter: the longest shortest-path distance over all pairs of nodes in the net-\n",
    "work (or max eccentricity in the network). The goal of measuring diameter measure is to index the extensiveness of the network, which means how far apart the two furthest nodes in the network are from each other. Radius is the min eccentricity in the network.\n",
    "\n",
    "7. Dyad: A dyad is a pair of nodes connected via one or more ties.\n",
    "    \n",
    "8. Dyadic constraint: The dyadic constraint on vertex u projected by the tie between vertex u and vertex v is the extent to which u has more and stronger ties\n",
    "with neighbors that are strongly connected with vertex v.\n",
    "\n",
    "9. Geodesic. A geodesic is the shortest path between two vertices.\n",
    "\n",
    "10. Average geodesic distance: the mean of the shortest path lengths among all con- nected pairs in the ego network.\n",
    "    \n",
    "11. Multiplicity: the number of times a particular (ordered or unordered pair of vertices) line occurs in a network.\n",
    "    \n",
    "12. Popularity: The popularity of a vertex in a directed network is the number of arcs that it receives.\n",
    "    \n",
    "13. Triad: a subnetwork consisting of three nodes.\n",
    "    \n",
    "The type of analyses applied to graphs (such as cardinality, network traversals, and community detection) has many mathematical underpinnings. Therefore, and for this purpose, we will use one of the greatest Python libraries for network analy- sis which is NetworkX."
   ]
  },
  {
   "cell_type": "markdown",
   "metadata": {
    "deletable": true,
    "editable": true
   },
   "source": [
    "## 2.5 NetworkX\n",
    "\n",
    "NetworkX is a Python language software package and an open-source tool for the creation, manipulation, and study of the structure, dynamics, and functions of com- plex networks. It is a computational network modeling tool and not a software tool development. It can load, store, and analyze networks, generate new networks, build network models, and draw networks. The  rst public release of the library, which is all based on Python, was in April 2005, and the library can engage with languages other than Python such as C, C++, and FORTRAN.\n",
    "\n",
    "NetworkX, the Python-based graph toolkit, is a type of memory graph databases. The amount of work that we can do is directly proportional to the amount of work- ing memory on the machine that we are running our system. Improving the perfor- mance can be done through reducing the size of data or considering the use of a machine with larger memory.\n",
    "\n",
    "Although NetworkX is not ideal for large-scale problems with fast processing requirements, it is a great option for real-world network analysis:\n",
    "    \n",
    "\n",
    "* Most of the core algorithms rely on extremely fast legacy code.\n",
    "* It uses standard graph algorithms.\n",
    "* It has an extensive set of native readable and writable formats.\n",
    "* It is easy to install and use on the main platforms with a strong online up-to-date\n",
    "documentation.\n",
    "* It is ideal for representing networks of different types like classic graphs, random\n",
    "graphs, and synthetic networks.\n",
    "* It takes advantage of Python’s ability to import data from outside sources.\n",
    "* NetworkX includes many graph generator functions and facilities to read and\n",
    "write graphs in many formats such as .edgelist, .adjlist, .gml, .graphml, .pajek, etc.\n",
    "\n",
    "However, some other packages and tools are also available in Python for network analysis and visualization including:\n",
    "* PyCX Project: http://pycx.sf.net/\n",
    "* ComplexNetworkSim\n",
    "* SimPy\n",
    "* graph-tool [http://graph-tool.skewed.de/]\n",
    "* pyGraphViz (GraphViz) [http://www.graphviz.org/]\n",
    "* igraph [http://igraph.org/]\n",
    "* python-graph\n",
    "* gephi [http://gephi.org/]"
   ]
  },
  {
   "cell_type": "markdown",
   "metadata": {
    "deletable": true,
    "editable": true
   },
   "source": [
    "## 2.6 Installation\n",
    "\n",
    "\n",
    "* I developed this book using Anaconda from Continuum Analytics, which is a free Python distribution that includes all the packages you’ll need to run the code (and lots more).\n",
    "* I found Anaconda easy to install. By default it does a user-level installation, not system level, so you do not need administrative privileges. Moreover, it supports both Python 2 and Python 3. You can download Anaconda from Continuum.\n",
    "* If you do not want to use Anaconda, you will need the following packages:\n",
    "    * NetworkX for network analysis\n",
    "    * Numpy for basic numerical computation\n",
    "    * SciPy for scienti c computation including statistics\n",
    "    * Matplotlib for visualization\n",
    "* Although these are commonly used packages, they are not included with all Python installations, and they can be hard to install in some environments. If you have trouble installing them, I strongly recommend using Anaconda or one of the other Python distributions that include these packages.\n",
    "\n",
    "To print the list of graph types available from NetworkX package, simply issue the following command:"
   ]
  },
  {
   "cell_type": "code",
   "execution_count": 4,
   "metadata": {
    "collapsed": false,
    "deletable": true,
    "editable": true
   },
   "outputs": [],
   "source": [
    "import networkx as nx"
   ]
  },
  {
   "cell_type": "code",
   "execution_count": 7,
   "metadata": {
    "collapsed": false,
    "deletable": true,
    "editable": true
   },
   "outputs": [
    {
     "data": {
      "text/plain": [
       "['LCF_graph',\n",
       " 'barabasi_albert_graph',\n",
       " 'barbell_graph',\n",
       " 'binomial_graph',\n",
       " 'bull_graph',\n",
       " 'caveman_graph',\n",
       " 'chordal_cycle_graph',\n",
       " 'chvatal_graph',\n",
       " 'circulant_graph',\n",
       " 'circular_ladder_graph',\n",
       " 'complete_bipartite_graph',\n",
       " 'complete_graph',\n",
       " 'complete_multipartite_graph',\n",
       " 'connected_caveman_graph',\n",
       " 'connected_watts_strogatz_graph',\n",
       " 'cubical_graph',\n",
       " 'cycle_graph',\n",
       " 'davis_southern_women_graph',\n",
       " 'dense_gnm_random_graph',\n",
       " 'desargues_graph',\n",
       " 'diamond_graph',\n",
       " 'digraph',\n",
       " 'directed_havel_hakimi_graph',\n",
       " 'dodecahedral_graph',\n",
       " 'dorogovtsev_goltsev_mendes_graph',\n",
       " 'duplication_divergence_graph',\n",
       " 'ego_graph',\n",
       " 'empty_graph',\n",
       " 'erdos_renyi_graph',\n",
       " 'expected_degree_graph',\n",
       " 'fast_gnp_random_graph',\n",
       " 'florentine_families_graph',\n",
       " 'frucht_graph',\n",
       " 'gaussian_random_partition_graph',\n",
       " 'general_random_intersection_graph',\n",
       " 'geographical_threshold_graph',\n",
       " 'gn_graph',\n",
       " 'gnc_graph',\n",
       " 'gnm_random_graph',\n",
       " 'gnp_random_graph',\n",
       " 'gnr_graph',\n",
       " 'graph',\n",
       " 'grid_2d_graph',\n",
       " 'grid_graph',\n",
       " 'havel_hakimi_graph',\n",
       " 'heawood_graph',\n",
       " 'house_graph',\n",
       " 'house_x_graph',\n",
       " 'hypercube_graph',\n",
       " 'icosahedral_graph',\n",
       " 'is_directed_acyclic_graph',\n",
       " 'k_random_intersection_graph',\n",
       " 'karate_club_graph',\n",
       " 'kl_connected_subgraph',\n",
       " 'krackhardt_kite_graph',\n",
       " 'ladder_graph',\n",
       " 'line_graph',\n",
       " 'lollipop_graph',\n",
       " 'make_max_clique_graph',\n",
       " 'make_small_graph',\n",
       " 'margulis_gabber_galil_graph',\n",
       " 'moebius_kantor_graph',\n",
       " 'multidigraph',\n",
       " 'multigraph',\n",
       " 'navigable_small_world_graph',\n",
       " 'newman_watts_strogatz_graph',\n",
       " 'null_graph',\n",
       " 'nx_agraph',\n",
       " 'octahedral_graph',\n",
       " 'pappus_graph',\n",
       " 'path_graph',\n",
       " 'petersen_graph',\n",
       " 'planted_partition_graph',\n",
       " 'powerlaw_cluster_graph',\n",
       " 'projected_graph',\n",
       " 'quotient_graph',\n",
       " 'random_clustered_graph',\n",
       " 'random_degree_sequence_graph',\n",
       " 'random_geometric_graph',\n",
       " 'random_partition_graph',\n",
       " 'random_regular_graph',\n",
       " 'random_shell_graph',\n",
       " 'relabel_gexf_graph',\n",
       " 'relaxed_caveman_graph',\n",
       " 'scale_free_graph',\n",
       " 'sedgewick_maze_graph',\n",
       " 'star_graph',\n",
       " 'stochastic_graph',\n",
       " 'subgraph',\n",
       " 'tetrahedral_graph',\n",
       " 'to_networkx_graph',\n",
       " 'trivial_graph',\n",
       " 'truncated_cube_graph',\n",
       " 'truncated_tetrahedron_graph',\n",
       " 'tutte_graph',\n",
       " 'uniform_random_intersection_graph',\n",
       " 'watts_strogatz_graph',\n",
       " 'waxman_graph',\n",
       " 'wheel_graph']"
      ]
     },
     "execution_count": 7,
     "metadata": {},
     "output_type": "execute_result"
    }
   ],
   "source": [
    "[s for s in dir(nx) if s.endswith('graph')]"
   ]
  },
  {
   "cell_type": "code",
   "execution_count": 11,
   "metadata": {
    "collapsed": true,
    "deletable": true,
    "editable": true
   },
   "outputs": [],
   "source": [
    "nx.ladder_graph?"
   ]
  },
  {
   "cell_type": "code",
   "execution_count": null,
   "metadata": {
    "collapsed": true,
    "deletable": true,
    "editable": true
   },
   "outputs": [],
   "source": [
    "Signature: nx.ladder_graph(n, create_using=None)\n",
    "Docstring:\n",
    "Return the Ladder graph of length n.\n",
    "\n",
    "This is two rows of n nodes, with\n",
    "each pair connected by a single edge.\n",
    "\n",
    "Node labels are the integers 0 to 2*n - 1.\n",
    "File:      /opt/conda/lib/python3.6/site-packages/networkx/generators/classic.py\n",
    "Type:      function"
   ]
  },
  {
   "cell_type": "markdown",
   "metadata": {
    "deletable": true,
    "editable": true
   },
   "source": [
    "# Example 1:\n",
    "\n",
    "In this example, we will import NetworkX library under the name nx. With the help of this library, we can, for instance, create an undirected graph by initiating an instance of the class nx.Graph().\n",
    "We will  rst create a simple directed graph using nx.Graph(), and then add one node using nx.add_node() method, and add a set of nodes using nx.add_nodes_ from() method which returns a list of item:"
   ]
  },
  {
   "cell_type": "code",
   "execution_count": 12,
   "metadata": {
    "collapsed": true,
    "deletable": true,
    "editable": true
   },
   "outputs": [],
   "source": [
    "import networkx as nx\n",
    "%matplotlib inline\n",
    "import matplotlib.pyplot as plt"
   ]
  },
  {
   "cell_type": "code",
   "execution_count": 21,
   "metadata": {
    "collapsed": true,
    "deletable": true,
    "editable": true
   },
   "outputs": [],
   "source": [
    "g = nx.Graph()\n",
    "g.add_node(1)"
   ]
  },
  {
   "cell_type": "code",
   "execution_count": 22,
   "metadata": {
    "collapsed": false,
    "deletable": true,
    "editable": true
   },
   "outputs": [
    {
     "data": {
      "text/plain": [
       "[1]"
      ]
     },
     "execution_count": 22,
     "metadata": {},
     "output_type": "execute_result"
    }
   ],
   "source": [
    "g.nodes()"
   ]
  },
  {
   "cell_type": "code",
   "execution_count": 23,
   "metadata": {
    "collapsed": false,
    "deletable": true,
    "editable": true
   },
   "outputs": [
    {
     "data": {
      "text/plain": [
       "[1, 2, 3, 4]"
      ]
     },
     "execution_count": 23,
     "metadata": {},
     "output_type": "execute_result"
    }
   ],
   "source": [
    "g.add_nodes_from([2, 3, 4])\n",
    "g.nodes()"
   ]
  },
  {
   "cell_type": "code",
   "execution_count": 24,
   "metadata": {
    "collapsed": false,
    "deletable": true,
    "editable": true
   },
   "outputs": [
    {
     "data": {
      "text/plain": [
       "[(1, 2)]"
      ]
     },
     "execution_count": 24,
     "metadata": {},
     "output_type": "execute_result"
    }
   ],
   "source": [
    "g.add_edge(1, 2)\n",
    "g.edges()"
   ]
  },
  {
   "cell_type": "code",
   "execution_count": 25,
   "metadata": {
    "collapsed": false,
    "deletable": true,
    "editable": true
   },
   "outputs": [
    {
     "data": {
      "text/plain": [
       "[(1, 2), (3, 4), (5, 6)]"
      ]
     },
     "execution_count": 25,
     "metadata": {},
     "output_type": "execute_result"
    }
   ],
   "source": [
    "g.add_edges_from([(3, 4), (5, 6)])\n",
    "g.edges()"
   ]
  },
  {
   "cell_type": "code",
   "execution_count": 26,
   "metadata": {
    "collapsed": false,
    "deletable": true,
    "editable": true
   },
   "outputs": [
    {
     "data": {
      "text/plain": [
       "[(1, 2, {}),\n",
       " (3, 4, {}),\n",
       " (5, 6, {}),\n",
       " (7, 8, {'weight': 1.5}),\n",
       " (9, 10, {'weight': 3.5})]"
      ]
     },
     "execution_count": 26,
     "metadata": {},
     "output_type": "execute_result"
    }
   ],
   "source": [
    "g.add_weighted_edges_from([(7, 8, 1.5), (9, 10, 3.5)])\n",
    "g.edges(data = True)"
   ]
  },
  {
   "cell_type": "code",
   "execution_count": 29,
   "metadata": {
    "collapsed": false,
    "deletable": true,
    "editable": true
   },
   "outputs": [
    {
     "data": {
      "text/plain": [
       "[(1, 2, {}),\n",
       " (2, 7, {}),\n",
       " (3, 4, {}),\n",
       " (5, 6, {}),\n",
       " (7, 8, {'weight': 1.5}),\n",
       " (9, 10, {'weight': 3.5})]"
      ]
     },
     "execution_count": 29,
     "metadata": {},
     "output_type": "execute_result"
    }
   ],
   "source": [
    "e = (2, 7)\n",
    "g.add_edge(*e)\n",
    "g.edges(data = True)"
   ]
  },
  {
   "cell_type": "code",
   "execution_count": 31,
   "metadata": {
    "collapsed": false,
    "deletable": true,
    "editable": true
   },
   "outputs": [
    {
     "data": {
      "image/png": "[encoded data removed]",
      "text/plain": [
       "<matplotlib.figure.Figure at 0x7f0381bb0f60>"
      ]
     },
     "metadata": {},
     "output_type": "display_data"
    }
   ],
   "source": [
    "nx.draw_networkx(g, node_color='green', node_size=700)"
   ]
  },
  {
   "cell_type": "markdown",
   "metadata": {
    "deletable": true,
    "editable": true
   },
   "source": [
    "## 2.7 Matrices\n",
    "\n",
    "A matrix is an alternative way to represent and summarize network data. It is an array of elements that contains the same information as a graph. Matrix operations have been widely used for de nition and calculation in SNA.\n",
    "Both graph and matrix operations have served as the foundations of many con- cepts in the analysis of social networks. However, matrices are more suitable for computation and computer analysis.\n",
    "In general, a matrix is a collection of rows and columns. Column-row intersec- tion cells show how the elements in rows look at the items in columns. Matrices have the following common types:\n",
    "    \n",
    "* Column matrix: a matrix with vertical entries only.\n",
    "* Row matrix: a matrix with horizontal entries only.\n",
    "* Square matrix: a matrix in which the number of rows is equal to the number of\n",
    "columns.\n",
    "* Identity matrix: a square matrix in which the values of the main diagonal are set\n",
    "to 1s, while the values of all other elements are set to 0s.\n",
    "* Diagonal matrix: a square matrix in which the values of all elements (except the\n",
    "main diagonal) are set to 0s, while the values of the main diagonal are not neces-\n",
    "sarily set to 1s.\n",
    "* Symmetric matrix: a square matrix that is equal to its transpose.\n",
    "* Skew-symmetric matrix: a square matrix where its negative is equal to its\n",
    "transpose.\n",
    "* Triangle matrix: a square matrix in which all coef cients below the main diago-\n",
    "nal are 0s.\n",
    "* Null matrix: a matrix where all elements are zero."
   ]
  },
  {
   "cell_type": "markdown",
   "metadata": {
    "deletable": true,
    "editable": true
   },
   "source": [
    "## 2.8 Types of Matrices in Social Networks\n",
    "\n",
    "Three types of matrices are used to represent data in social networks. These are:\n",
    "    \n",
    "### 2.8.1 Adjacency Matrix\n",
    "The adjacency matrix is a matrix with rows and columns at plot by nodes, where element A_{ij} shows the number of links going from node i to node j (becomes sym- metric for undirected graph). For directed graphs, the adjacency matrix takes the following form:"
   ]
  },
  {
   "cell_type": "code",
   "execution_count": 56,
   "metadata": {
    "collapsed": false,
    "deletable": true,
    "editable": true
   },
   "outputs": [
    {
     "data": {
      "text/html": [
       "<div>\n",
       "<table border=\"1\" class=\"dataframe\">\n",
       "  <thead>\n",
       "    <tr style=\"text-align: right;\">\n",
       "      <th></th>\n",
       "      <th>A</th>\n",
       "      <th>B</th>\n",
       "      <th>C</th>\n",
       "      <th>D</th>\n",
       "      <th>E</th>\n",
       "    </tr>\n",
       "  </thead>\n",
       "  <tbody>\n",
       "    <tr>\n",
       "      <th>A</th>\n",
       "      <td>0</td>\n",
       "      <td>1</td>\n",
       "      <td>0</td>\n",
       "      <td>0</td>\n",
       "      <td>0</td>\n",
       "    </tr>\n",
       "    <tr>\n",
       "      <th>B</th>\n",
       "      <td>1</td>\n",
       "      <td>0</td>\n",
       "      <td>0</td>\n",
       "      <td>1</td>\n",
       "      <td>0</td>\n",
       "    </tr>\n",
       "    <tr>\n",
       "      <th>C</th>\n",
       "      <td>0</td>\n",
       "      <td>0</td>\n",
       "      <td>0</td>\n",
       "      <td>1</td>\n",
       "      <td>1</td>\n",
       "    </tr>\n",
       "    <tr>\n",
       "      <th>D</th>\n",
       "      <td>1</td>\n",
       "      <td>0</td>\n",
       "      <td>1</td>\n",
       "      <td>0</td>\n",
       "      <td>0</td>\n",
       "    </tr>\n",
       "    <tr>\n",
       "      <th>E</th>\n",
       "      <td>1</td>\n",
       "      <td>0</td>\n",
       "      <td>1</td>\n",
       "      <td>0</td>\n",
       "      <td>0</td>\n",
       "    </tr>\n",
       "  </tbody>\n",
       "</table>\n",
       "</div>"
      ],
      "text/plain": [
       "   A  B  C  D  E\n",
       "A  0  1  0  0  0\n",
       "B  1  0  0  1  0\n",
       "C  0  0  0  1  1\n",
       "D  1  0  1  0  0\n",
       "E  1  0  1  0  0"
      ]
     },
     "execution_count": 56,
     "metadata": {},
     "output_type": "execute_result"
    }
   ],
   "source": [
    "import pandas as pd\n",
    "pd.set_option('display.width', 1000)\n",
    "pd.set_option('display.max_colwidth', 100)\n",
    "d = {'A': [0, 1, 0, 1, 1], 'B': [1,0,0,0,0], 'C': [0,0,0,1,1], 'D': [0,1,1,0,0], 'E': [0,0,1,0,0]}\n",
    "pd.DataFrame(data=d, index=d)\n"
   ]
  },
  {
   "cell_type": "markdown",
   "metadata": {
    "deletable": true,
    "editable": true
   },
   "source": [
    "Value (1) denotes the presence of relation (edge) between node A and node B while value (0) means no such relation exists. For directed valued graphs, the adja- cency matrix would look like this:"
   ]
  },
  {
   "cell_type": "code",
   "execution_count": 59,
   "metadata": {
    "collapsed": false,
    "deletable": true,
    "editable": true
   },
   "outputs": [
    {
     "data": {
      "text/html": [
       "<div>\n",
       "<table border=\"1\" class=\"dataframe\">\n",
       "  <thead>\n",
       "    <tr style=\"text-align: right;\">\n",
       "      <th></th>\n",
       "      <th>A</th>\n",
       "      <th>B</th>\n",
       "      <th>C</th>\n",
       "      <th>D</th>\n",
       "      <th>E</th>\n",
       "    </tr>\n",
       "  </thead>\n",
       "  <tbody>\n",
       "    <tr>\n",
       "      <th>A</th>\n",
       "      <td>0</td>\n",
       "      <td>2</td>\n",
       "      <td>0</td>\n",
       "      <td>5</td>\n",
       "      <td>4</td>\n",
       "    </tr>\n",
       "    <tr>\n",
       "      <th>B</th>\n",
       "      <td>2</td>\n",
       "      <td>0</td>\n",
       "      <td>0</td>\n",
       "      <td>1</td>\n",
       "      <td>0</td>\n",
       "    </tr>\n",
       "    <tr>\n",
       "      <th>C</th>\n",
       "      <td>0</td>\n",
       "      <td>0</td>\n",
       "      <td>0</td>\n",
       "      <td>3</td>\n",
       "      <td>4</td>\n",
       "    </tr>\n",
       "    <tr>\n",
       "      <th>D</th>\n",
       "      <td>6</td>\n",
       "      <td>2</td>\n",
       "      <td>3</td>\n",
       "      <td>0</td>\n",
       "      <td>0</td>\n",
       "    </tr>\n",
       "    <tr>\n",
       "      <th>E</th>\n",
       "      <td>5</td>\n",
       "      <td>3</td>\n",
       "      <td>4</td>\n",
       "      <td>0</td>\n",
       "      <td>0</td>\n",
       "    </tr>\n",
       "  </tbody>\n",
       "</table>\n",
       "</div>"
      ],
      "text/plain": [
       "   A  B  C  D  E\n",
       "A  0  2  0  5  4\n",
       "B  2  0  0  1  0\n",
       "C  0  0  0  3  4\n",
       "D  6  2  3  0  0\n",
       "E  5  3  4  0  0"
      ]
     },
     "execution_count": 59,
     "metadata": {},
     "output_type": "execute_result"
    }
   ],
   "source": [
    "d = {'A': [0, 2, 0, 6, 5], 'B': [2,0,0,2,3], 'C': [0,0,0,3,4], 'D': [5,1,3,0,0], 'E': [4,0,4,0,0]}\n",
    "pandas.DataFrame(data=d, index=d)"
   ]
  },
  {
   "cell_type": "markdown",
   "metadata": {
    "deletable": true,
    "editable": true
   },
   "source": [
    "The major disadvantage of adjacency matrices is that cells with value = zero occupy the same size of memory that other cells occupy. In fact, over 90% of cells real social networks have value = zero. Therefore, adjacency matrices are dif cult to make use of in practice, especially in the case of large networks."
   ]
  },
  {
   "cell_type": "markdown",
   "metadata": {
    "deletable": true,
    "editable": true
   },
   "source": [
    "## Example:\n",
    "\n",
    "Fortunately, the NetworkX library makes it easy to create, manipulate, and study the many aspects of complex networks and graphs. The main emphasis of it is to avoid the many complexities associated with the working of graph algorithms. In the\n",
    "following example, we will show how we can create a basic adjacency matrix in\n",
    "NetworkX:"
   ]
  },
  {
   "cell_type": "code",
   "execution_count": 61,
   "metadata": {
    "collapsed": false,
    "deletable": true,
    "editable": true
   },
   "outputs": [
    {
     "name": "stdout",
     "output_type": "stream",
     "text": [
      "[[0 1 0 0 0 0 0 0 0 1]\n",
      " [1 0 1 0 0 0 0 0 0 0]\n",
      " [0 1 0 1 0 0 0 0 0 0]\n",
      " [0 0 1 0 1 0 0 0 0 0]\n",
      " [0 0 0 1 0 1 0 0 0 0]\n",
      " [0 0 0 0 1 0 1 0 0 0]\n",
      " [0 0 0 0 0 1 0 1 0 0]\n",
      " [0 0 0 0 0 0 1 0 1 0]\n",
      " [0 0 0 0 0 0 0 1 0 1]\n",
      " [1 0 0 0 0 0 0 0 1 0]]\n"
     ]
    }
   ],
   "source": [
    "import networkx as nx\n",
    "import matplotlib.pyplot as plt\n",
    "g = nx.cycle_graph(10)\n",
    "x = nx.adj_matrix(g)\n",
    "print(x.todense())"
   ]
  },
  {
   "cell_type": "markdown",
   "metadata": {
    "deletable": true,
    "editable": true
   },
   "source": [
    "There is another way to build the adjacency matrix with ten nodes, which is by creating a list of edges (pairs of node incidents):"
   ]
  },
  {
   "cell_type": "code",
   "execution_count": 63,
   "metadata": {
    "collapsed": false,
    "deletable": true,
    "editable": true
   },
   "outputs": [
    {
     "data": {
      "image/png": "[encoded data removed]",
      "text/plain": [
       "<matplotlib.figure.Figure at 0x7f037b68a240>"
      ]
     },
     "metadata": {},
     "output_type": "display_data"
    }
   ],
   "source": [
    "n = 10\n",
    "adj_mat = [(i, (i+1)%n) for i in range(n)]\n",
    "adj_mat += [(i,(i+2)%n) for i in range(n)]\n",
    "g = nx.Graph(adj_mat)\n",
    "nx.draw_networkx(g)"
   ]
  },
  {
   "cell_type": "markdown",
   "metadata": {
    "deletable": true,
    "editable": true
   },
   "source": [
    "### 2.8.2 Edge List Matrix\n",
    "\n",
    "Edge lists appeared as a solution to the sparsity problem in the adjacency matrices. In this type of graphs, what is needed is to list the vertices that each edge is incident to. Traversing the matrix also gives the graph vertices because the vertex is incident with at least one edge. However, in this type of data representation, size can grow linearly with the number of edges:\n",
    "    \n",
    "The edge list matrices (or simply edge lists) are represented in python in the follow- ing way: \n",
    "<BR>\n",
    "edge_list = {{'A','B', 1}, {'A','D', 4}, {'A','E',5}...}"
   ]
  },
  {
   "cell_type": "markdown",
   "metadata": {
    "deletable": true,
    "editable": true
   },
   "source": [
    "Continuing our previous example, and rather than describing a graph as a collec- tion of nodes, we can alternatively describe it as a collection of edges that can also be associated with attributes:\n",
    "\n",
    "### Example:"
   ]
  },
  {
   "cell_type": "code",
   "execution_count": 66,
   "metadata": {
    "collapsed": false,
    "deletable": true,
    "editable": true
   },
   "outputs": [
    {
     "data": {
      "text/plain": [
       "[(0, 1, {}),\n",
       " (0, 9, {}),\n",
       " (0, 2, {}),\n",
       " (0, 8, {}),\n",
       " (1, 2, {}),\n",
       " (1, 3, {}),\n",
       " (1, 9, {}),\n",
       " (2, 3, {}),\n",
       " (2, 4, {}),\n",
       " (3, 4, {}),\n",
       " (3, 5, {}),\n",
       " (4, 5, {}),\n",
       " (4, 6, {}),\n",
       " (5, 6, {}),\n",
       " (5, 7, {}),\n",
       " (6, 7, {}),\n",
       " (6, 8, {}),\n",
       " (7, 8, {}),\n",
       " (7, 9, {}),\n",
       " (8, 9, {})]"
      ]
     },
     "execution_count": 66,
     "metadata": {},
     "output_type": "execute_result"
    }
   ],
   "source": [
    "nx.to_edgelist(g)"
   ]
  },
  {
   "cell_type": "markdown",
   "metadata": {
    "deletable": true,
    "editable": true
   },
   "source": [
    "Because so for when we built our graph, we provided no attributes to the edges. Hence, the empty curly brackets ({}) represent empty attributes (such as distance, frequency, and so on)."
   ]
  },
  {
   "cell_type": "markdown",
   "metadata": {
    "deletable": true,
    "editable": true
   },
   "source": [
    "### 2.8.3 Adjacency List\n",
    "\n",
    "Although edge lists signi cantly mitigated the problem of small memory and data sparsity, they are not fast enough for search or traversal through graphs. To give even a better solution, adjacency lists were introduced: a list of links whose element “i → j” shows a link going from node i to node j (also represented as “ i →{j1, j2, j3, ...} ”). In this type of data representation, the search is fast. Also, adding or remov- ing nodes/edges is easy. Example:\n",
    "<BR>\n",
    "edge_list = {'A':{'B':1, 'D':4, 'E':5}, 'B':{'A':3},...}\n",
    "\n",
    "### Example 1"
   ]
  },
  {
   "cell_type": "code",
   "execution_count": 69,
   "metadata": {
    "collapsed": false,
    "deletable": true,
    "editable": true
   },
   "outputs": [],
   "source": [
    "g = nx.Graph()\n",
    "g.add_edge(1,2)\n",
    "g.add_nodes_from([3,4])\n",
    "g.add_edge(3,4)\n",
    "g.add_edges_from([(2,3), (4,1)])"
   ]
  },
  {
   "cell_type": "code",
   "execution_count": 70,
   "metadata": {
    "collapsed": false,
    "deletable": true,
    "editable": true
   },
   "outputs": [
    {
     "data": {
      "image/png": "[encoded data removed]",
      "text/plain": [
       "<matplotlib.figure.Figure at 0x7f037f86b978>"
      ]
     },
     "metadata": {},
     "output_type": "display_data"
    }
   ],
   "source": [
    "nx.draw_networkx(g, node_color='orange', node_size=400)"
   ]
  },
  {
   "cell_type": "code",
   "execution_count": 71,
   "metadata": {
    "collapsed": false,
    "deletable": true,
    "editable": true
   },
   "outputs": [
    {
     "data": {
      "text/plain": [
       "[1, 2, 3, 4]"
      ]
     },
     "execution_count": 71,
     "metadata": {},
     "output_type": "execute_result"
    }
   ],
   "source": [
    "g.nodes()"
   ]
  },
  {
   "cell_type": "code",
   "execution_count": 72,
   "metadata": {
    "collapsed": false,
    "deletable": true,
    "editable": true
   },
   "outputs": [
    {
     "data": {
      "text/plain": [
       "[(1, 2), (1, 4), (2, 3), (3, 4)]"
      ]
     },
     "execution_count": 72,
     "metadata": {},
     "output_type": "execute_result"
    }
   ],
   "source": [
    "g.edges()"
   ]
  },
  {
   "cell_type": "markdown",
   "metadata": {
    "deletable": true,
    "editable": true
   },
   "source": [
    "We can describe this graph as an adjacency list by listing the neighbors of every node. For examples, the neighbors of node 1 are [2, 4] and the neighbors of node 2 are [1, 3], and so on."
   ]
  },
  {
   "cell_type": "code",
   "execution_count": 73,
   "metadata": {
    "collapsed": false,
    "deletable": true,
    "editable": true
   },
   "outputs": [
    {
     "data": {
      "text/plain": [
       "[[2, 4], [1, 3], [4, 2], [3, 1]]"
      ]
     },
     "execution_count": 73,
     "metadata": {},
     "output_type": "execute_result"
    }
   ],
   "source": [
    "g.adjacency_list()"
   ]
  },
  {
   "cell_type": "markdown",
   "metadata": {
    "deletable": true,
    "editable": true
   },
   "source": [
    "We can also represent this graph as a dictionary of lists in which the dictionary’s keys are the nodes’ names, and the dictionary’s values are the nodes’ adjacency lists. This type of representation makes it clear about the neighbors of each node."
   ]
  },
  {
   "cell_type": "code",
   "execution_count": 74,
   "metadata": {
    "collapsed": false,
    "deletable": true,
    "editable": true
   },
   "outputs": [
    {
     "data": {
      "text/plain": [
       "{1: [2, 4], 2: [1, 3], 3: [4, 2], 4: [3, 1]}"
      ]
     },
     "execution_count": 74,
     "metadata": {},
     "output_type": "execute_result"
    }
   ],
   "source": [
    "nx.to_dict_of_lists(g)"
   ]
  },
  {
   "cell_type": "markdown",
   "metadata": {
    "deletable": true,
    "editable": true
   },
   "source": [
    "### Example 2\n",
    "\n",
    "We can also get the adjacency list of one of the NetworkX built-in networks"
   ]
  },
  {
   "cell_type": "code",
   "execution_count": 76,
   "metadata": {
    "collapsed": false,
    "deletable": true,
    "editable": true
   },
   "outputs": [
    {
     "data": {
      "image/png": "[encoded data removed]",
      "text/plain": [
       "<matplotlib.figure.Figure at 0x7f037b64a0f0>"
      ]
     },
     "metadata": {},
     "output_type": "display_data"
    }
   ],
   "source": [
    "g = nx.ladder_graph(10)\n",
    "nx.draw_networkx(g)"
   ]
  },
  {
   "cell_type": "code",
   "execution_count": 77,
   "metadata": {
    "collapsed": false,
    "deletable": true,
    "editable": true
   },
   "outputs": [
    {
     "name": "stdout",
     "output_type": "stream",
     "text": [
      "[[1, 10], [0, 2, 11], [1, 3, 12], [2, 4, 13], [3, 5, 14], [4, 6, 15], [5, 7, 16], [6, 8, 17], [7, 9, 18], [8, 19], [11, 0], [10, 12, 1], [11, 13, 2], [12, 14, 3], [13, 15, 4], [14, 16, 5], [15, 17, 6], [16, 18, 7], [17, 19, 8], [18, 9]]\n"
     ]
    }
   ],
   "source": [
    "print(g.adjacency_list())"
   ]
  },
  {
   "cell_type": "markdown",
   "metadata": {
    "deletable": true,
    "editable": true
   },
   "source": [
    "Or if we want to print it as a dictionary of lists:"
   ]
  },
  {
   "cell_type": "code",
   "execution_count": 78,
   "metadata": {
    "collapsed": false,
    "deletable": true,
    "editable": true
   },
   "outputs": [
    {
     "name": "stdout",
     "output_type": "stream",
     "text": [
      "{0: [1, 10], 1: [0, 2, 11], 2: [1, 3, 12], 3: [2, 4, 13], 4: [3, 5, 14], 5: [4, 6, 15], 6: [5, 7, 16], 7: [6, 8, 17], 8: [7, 9, 18], 9: [8, 19], 10: [11, 0], 11: [10, 12, 1], 12: [11, 13, 2], 13: [12, 14, 3], 14: [13, 15, 4], 15: [14, 16, 5], 16: [15, 17, 6], 17: [16, 18, 7], 18: [17, 19, 8], 19: [18, 9]}\n"
     ]
    }
   ],
   "source": [
    "print(nx.to_dict_of_lists(g))"
   ]
  },
  {
   "cell_type": "markdown",
   "metadata": {
    "deletable": true,
    "editable": true
   },
   "source": [
    "### 2.8.4 Numpy Matrix\n",
    "\n",
    "This type of matrices is exclusive to Python programming language. The matrix will contain one if there is a link between two nodes like i and j. Otherwise, it would contain 0.\n"
   ]
  },
  {
   "cell_type": "code",
   "execution_count": 79,
   "metadata": {
    "collapsed": false,
    "deletable": true,
    "editable": true
   },
   "outputs": [
    {
     "data": {
      "text/plain": [
       "matrix([[ 0.,  1.,  0.,  0.,  0.,  0.,  0.,  0.,  0.,  0.,  1.,  0.,  0.,\n",
       "          0.,  0.,  0.,  0.,  0.,  0.,  0.],\n",
       "        [ 1.,  0.,  1.,  0.,  0.,  0.,  0.,  0.,  0.,  0.,  0.,  1.,  0.,\n",
       "          0.,  0.,  0.,  0.,  0.,  0.,  0.],\n",
       "        [ 0.,  1.,  0.,  1.,  0.,  0.,  0.,  0.,  0.,  0.,  0.,  0.,  1.,\n",
       "          0.,  0.,  0.,  0.,  0.,  0.,  0.],\n",
       "        [ 0.,  0.,  1.,  0.,  1.,  0.,  0.,  0.,  0.,  0.,  0.,  0.,  0.,\n",
       "          1.,  0.,  0.,  0.,  0.,  0.,  0.],\n",
       "        [ 0.,  0.,  0.,  1.,  0.,  1.,  0.,  0.,  0.,  0.,  0.,  0.,  0.,\n",
       "          0.,  1.,  0.,  0.,  0.,  0.,  0.],\n",
       "        [ 0.,  0.,  0.,  0.,  1.,  0.,  1.,  0.,  0.,  0.,  0.,  0.,  0.,\n",
       "          0.,  0.,  1.,  0.,  0.,  0.,  0.],\n",
       "        [ 0.,  0.,  0.,  0.,  0.,  1.,  0.,  1.,  0.,  0.,  0.,  0.,  0.,\n",
       "          0.,  0.,  0.,  1.,  0.,  0.,  0.],\n",
       "        [ 0.,  0.,  0.,  0.,  0.,  0.,  1.,  0.,  1.,  0.,  0.,  0.,  0.,\n",
       "          0.,  0.,  0.,  0.,  1.,  0.,  0.],\n",
       "        [ 0.,  0.,  0.,  0.,  0.,  0.,  0.,  1.,  0.,  1.,  0.,  0.,  0.,\n",
       "          0.,  0.,  0.,  0.,  0.,  1.,  0.],\n",
       "        [ 0.,  0.,  0.,  0.,  0.,  0.,  0.,  0.,  1.,  0.,  0.,  0.,  0.,\n",
       "          0.,  0.,  0.,  0.,  0.,  0.,  1.],\n",
       "        [ 1.,  0.,  0.,  0.,  0.,  0.,  0.,  0.,  0.,  0.,  0.,  1.,  0.,\n",
       "          0.,  0.,  0.,  0.,  0.,  0.,  0.],\n",
       "        [ 0.,  1.,  0.,  0.,  0.,  0.,  0.,  0.,  0.,  0.,  1.,  0.,  1.,\n",
       "          0.,  0.,  0.,  0.,  0.,  0.,  0.],\n",
       "        [ 0.,  0.,  1.,  0.,  0.,  0.,  0.,  0.,  0.,  0.,  0.,  1.,  0.,\n",
       "          1.,  0.,  0.,  0.,  0.,  0.,  0.],\n",
       "        [ 0.,  0.,  0.,  1.,  0.,  0.,  0.,  0.,  0.,  0.,  0.,  0.,  1.,\n",
       "          0.,  1.,  0.,  0.,  0.,  0.,  0.],\n",
       "        [ 0.,  0.,  0.,  0.,  1.,  0.,  0.,  0.,  0.,  0.,  0.,  0.,  0.,\n",
       "          1.,  0.,  1.,  0.,  0.,  0.,  0.],\n",
       "        [ 0.,  0.,  0.,  0.,  0.,  1.,  0.,  0.,  0.,  0.,  0.,  0.,  0.,\n",
       "          0.,  1.,  0.,  1.,  0.,  0.,  0.],\n",
       "        [ 0.,  0.,  0.,  0.,  0.,  0.,  1.,  0.,  0.,  0.,  0.,  0.,  0.,\n",
       "          0.,  0.,  1.,  0.,  1.,  0.,  0.],\n",
       "        [ 0.,  0.,  0.,  0.,  0.,  0.,  0.,  1.,  0.,  0.,  0.,  0.,  0.,\n",
       "          0.,  0.,  0.,  1.,  0.,  1.,  0.],\n",
       "        [ 0.,  0.,  0.,  0.,  0.,  0.,  0.,  0.,  1.,  0.,  0.,  0.,  0.,\n",
       "          0.,  0.,  0.,  0.,  1.,  0.,  1.],\n",
       "        [ 0.,  0.,  0.,  0.,  0.,  0.,  0.,  0.,  0.,  1.,  0.,  0.,  0.,\n",
       "          0.,  0.,  0.,  0.,  0.,  1.,  0.]])"
      ]
     },
     "execution_count": 79,
     "metadata": {},
     "output_type": "execute_result"
    }
   ],
   "source": [
    "nx.to_numpy_matrix(g)"
   ]
  },
  {
   "cell_type": "markdown",
   "metadata": {
    "deletable": true,
    "editable": true
   },
   "source": [
    "### 2.8.5 Sparse Matrix\n",
    "Since matrices are usually sparse which means that they usually contain very few ones as opposed to the number of zeros, they can be represented in the form of SciPy matrix:\n"
   ]
  },
  {
   "cell_type": "code",
   "execution_count": 80,
   "metadata": {
    "collapsed": false,
    "deletable": true,
    "editable": true
   },
   "outputs": [
    {
     "name": "stdout",
     "output_type": "stream",
     "text": [
      "  (0, 1)\t1\n",
      "  (0, 10)\t1\n",
      "  (1, 0)\t1\n",
      "  (1, 2)\t1\n",
      "  (1, 11)\t1\n",
      "  (2, 1)\t1\n",
      "  (2, 3)\t1\n",
      "  (2, 12)\t1\n",
      "  (3, 2)\t1\n",
      "  (3, 4)\t1\n",
      "  (3, 13)\t1\n",
      "  (4, 3)\t1\n",
      "  (4, 5)\t1\n",
      "  (4, 14)\t1\n",
      "  (5, 4)\t1\n",
      "  (5, 6)\t1\n",
      "  (5, 15)\t1\n",
      "  (6, 5)\t1\n",
      "  (6, 7)\t1\n",
      "  (6, 16)\t1\n",
      "  (7, 6)\t1\n",
      "  (7, 8)\t1\n",
      "  (7, 17)\t1\n",
      "  (8, 7)\t1\n",
      "  (8, 9)\t1\n",
      "  :\t:\n",
      "  (11, 10)\t1\n",
      "  (11, 12)\t1\n",
      "  (12, 2)\t1\n",
      "  (12, 11)\t1\n",
      "  (12, 13)\t1\n",
      "  (13, 3)\t1\n",
      "  (13, 12)\t1\n",
      "  (13, 14)\t1\n",
      "  (14, 4)\t1\n",
      "  (14, 13)\t1\n",
      "  (14, 15)\t1\n",
      "  (15, 5)\t1\n",
      "  (15, 14)\t1\n",
      "  (15, 16)\t1\n",
      "  (16, 6)\t1\n",
      "  (16, 15)\t1\n",
      "  (16, 17)\t1\n",
      "  (17, 7)\t1\n",
      "  (17, 16)\t1\n",
      "  (17, 18)\t1\n",
      "  (18, 8)\t1\n",
      "  (18, 17)\t1\n",
      "  (18, 19)\t1\n",
      "  (19, 9)\t1\n",
      "  (19, 18)\t1\n"
     ]
    }
   ],
   "source": [
    "print(nx.to_scipy_sparse_matrix(g))"
   ]
  },
  {
   "cell_type": "markdown",
   "metadata": {
    "deletable": true,
    "editable": true
   },
   "source": [
    "### 2.9 Basic Matrix Operations\n",
    "\n",
    "Let’s take a look at some of the basic matrix operations\n",
    "* Vocabulary: the size of a matrix is de ned as the number of rows and columns in the matrix. If a matrix has the same number of rows and columns, then it is square. Otherwise, it is rectangular. Each entry in a matrix is called a cell. For a square matrix, the main diagonal of the matrix consists of entries for which the\n",
    "index of the row is equal to the index of the column.\n",
    "* Matrix permutation: Matrix permutation is the rearrangement of rows and col-\n",
    "umns in a matrix. This is done at times when network tie patterns are not clear until we permute both the rows and the columns of the matrix. Matrix permuta- tion is necessary for the study of cohesive subgroups, construction of block mod- els, and evaluation of  tness of block models.\n",
    "* Matrix transpose: the transpose of a matrix is done by the interchange of rows and columns in the original matrix. Digraph matrix is not always identical to its transpose since the sociomatrix of a directional relation is not typically symmetric.\n",
    "* Matrix addition: adding two matrices with the same size. This is done by sum- ming up the elements in the corresponding cells of the two matrices.\n",
    "* Matrix subtraction: subtracting two matrices with the same size which can be done by calculating the difference between the elements in the corresponding cells of the two matrices.\n",
    "* Matrix multiplication: the product of two matrices. Matrix multiplication is criti- cal in the study of SNA as it can be used to examine walks and reachability and is the basis for compounding relations in the analysis of relational algebra.\n",
    "\n",
    "Although matrices have been used widely over the years to visualize networks, they are rarely used today for this purpose due to the small number of matrix entries that can be used in comparison with the large number of online networks entries that must be considered."
   ]
  },
  {
   "cell_type": "markdown",
   "metadata": {
    "deletable": true,
    "editable": true
   },
   "source": [
    "### 2.10 Data Visualization\n",
    "Data visualization is very useful for network analysis since it helps users recognize the important structural features of the network visually.\n",
    "A graph is the most meaningful way to visualize network data, particularly when the network size is enormous. Trees, undirected graphs in which every two vertices are connected by one simple path, are also used at some times for data visualization and particularly when the dataset is small. Trees can be polytree, rooted, labeled, recursive, directed, free, binary, or ternary.\n",
    "Matrices are arrays of elements consisting of rows and columns, where the inter- section between a column and a row is called the cell. Common types of matrices include column-matrices, row matrices, square matrices, identity matrices, diagonal matrices, symmetric matrices, skew-symmetric matrices, triangle matrices, and null matrices. In the study of social networks, the common types are adjacency matrices, edge list matrices, and adjacency list.\n",
    "Other visualization tools include maps and hybrid approaches, multidimensional visualization techniques that used in both graphs and maps."
   ]
  }
 ],
 "metadata": {
  "kernelspec": {
   "display_name": "Python 3",
   "language": "python",
   "name": "python3"
  },
  "language_info": {
   "codemirror_mode": {
    "name": "ipython",
    "version": 3
   },
   "file_extension": ".py",
   "mimetype": "text/x-python",
   "name": "python",
   "nbconvert_exporter": "python",
   "pygments_lexer": "ipython3",
   "version": "3.6.2"
  }
 },
 "nbformat": 4,
 "nbformat_minor": 2
}
