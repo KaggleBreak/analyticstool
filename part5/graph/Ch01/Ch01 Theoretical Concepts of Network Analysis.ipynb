{
 "cells": [
  {
   "cell_type": "markdown",
   "metadata": {},
   "source": [
    "## Chapter 1\n",
    "# Theoretical Concepts of Network Analysis\n",
    "- Network\n",
    "    - <mark>Set of links (ties or edges) and  objects (nodes or vertices)</mark>..\n",
    "    - Can be <u>represented as a graph or matrix to show connections between nodes</u>. $\\rightarrow$ Allows applying a variety of mathematical, computational, and statistical techniques to extract and analyze the main features of the network."
   ]
  },
  {
   "cell_type": "markdown",
   "metadata": {},
   "source": [
    "## Sociological Meaning of Network Relations\n",
    "- Sociologically, a network is a <mark>set of relations between actors</mark>..\n",
    "- Relations between nodes in a network are called <u>ties</u>.\n",
    "    - Mean kinship with people, affection, enmity, exchange of favors or loans, membership in a club, or attending certain events together.\n",
    "    - Can have <u>direction</u>.\n",
    "    \n",
    "    \n",
    "- Social networks\n",
    "    - Theoretical models to analyze and visualize the relations between actors.\n",
    "    - Relations between individuals may vary in intensity.\n",
    "    - More than one kind of relation among individuals.\n",
    "    \n",
    "    \n",
    "- Another important concept that is related to relations among actors within social networks is <u>transitivity</u>(추이성):\n",
    "    - Suppose that we know that actor $a$ knows actor $b$ and actor $b$ knows actor $c$. Does that also imply that actor $a$ also knows actor $c$?\n",
    "\n",
    "\n",
    "- The relational structure of a social network\n",
    "    - A graph of nodes $N = \\{1,,2,,3...n\\}$, where each pair of nodes is connected by an edge.\n",
    "    - An adjacency matrix $X$ in which $\\{X_{ij}\\}$ is the relationship between node $i$ (sender) and node $j$ (receiver).\n",
    "    - $\\{X_{ij}\\}$ can take a binary value either 1 or 0 indicating the presence or absence of the relationship between $i$ and $j$."
   ]
  },
  {
   "cell_type": "markdown",
   "metadata": {},
   "source": [
    "## Network Measurements\n",
    "1. Network connection - transitivity, multiplexity, homophily(동종애), dyads and mutuality, balance and triads, and reciprocity\n",
    "2. Network distribution - the distance between nodes, degree cen- trality, closeness centrality, betweenness centrality, eigenvector centrality, PageRank, geodesic distance and shortest path, eccentricity, and density\n",
    "3. Network segmentation - cohesive subgroups, cliques, clustering coefficient, k-cores, core/periphery, blockmodels, and hierarchical clustering."
   ]
  },
  {
   "cell_type": "markdown",
   "metadata": {},
   "source": [
    "### Network Connection\n",
    "- = connectivity\n",
    "- Refers to the ability to move from one node to another in a network.\n",
    "- The ratio between route distance and geodesic distance.\n",
    "- Can be calculated locally (for a part of the network) and globally (for the entire network)."
   ]
  },
  {
   "cell_type": "markdown",
   "metadata": {},
   "source": [
    "### Transitivity(추이성)\n",
    "- A network property that refers to the extent to which a <u>relation between two nodes is transitive</u>.\n",
    "- In social networks,\n",
    "    - it is a <u>very important measure</u> but less important in other types of networks.\n",
    "    - the term transitivity reflects the <u>friend-of-a-friend</u> concept. \n",
    "- Sometimes used as a synonym of <u>whole-network [clustering coefficient](https://lsy5518.wordpress.com/2014/02/19/네트워크-집단화-계수-network-clustering-coefficient/)</u>.\n",
    "<img src=\"Fig1.1.png\" width=500>\n",
    "$$\\textit{Transitivity} = \\frac{\\textit{3 * No. of triangles}}{\\textit{No.connected triples}}$$\n",
    "\n",
    "- In real social networks, a value between 0.3 and 0.6 is common for the transitivity index. <????>\n",
    "- The transitivity of a graph is strongly related to the clustering coefficient as each of them measures the relative frequency of triangles. \n",
    "- They are the most common measures used to calculate the number of triangles in a network."
   ]
  },
  {
   "cell_type": "markdown",
   "metadata": {
    "collapsed": true
   },
   "source": [
    "### Multiplexity\n",
    "- Ties can have <u>strength</u>. This can be in <u>the form of the intensity of the relationship</u> or by how many different types of content that the tie contains.\n",
    "- Ties with more than one dimension are called “multiplex.” $\\leftrightarrow$ \"uniplex\"\n",
    "    - multiplex ties are stronger than uniplex ties.\n",
    "    \n",
    "<img src=\"Fig1.2.png\" width=500>\n",
    "- Sociograms\n",
    "    - Good way of looking at the picture of the social structure.\n",
    "    - Not easy to analyze, in particular for large networks.\n",
    "    - A better way to do the analysis of the above network is by using <u>matrices</u>.\n",
    "<img src=\"Table1.1.png\" width=500>\n",
    "<img src=\"Table1.2.png\" width=500>"
   ]
  },
  {
   "cell_type": "markdown",
   "metadata": {
    "collapsed": true
   },
   "source": [
    "### Homophily(동종애?)\n",
    "- Homophily is the tendency of individuals to connect with others who share the same attitudes and beliefs.\n",
    "- Homophily in the context of online social networking can be understood from the similarity of users who are using the network in terms of age, educational background, region, or profession."
   ]
  },
  {
   "cell_type": "markdown",
   "metadata": {},
   "source": [
    "### Dyads and Mutuality\n",
    "- A dyad is a pair of actors in a network potentially connected by a social relation.\n",
    "- It is the simplest possible social group in which the transfer of information between the two nodes can be fast and easy.\n",
    "- Dyads are among the concepts that characterize social networks.\n",
    "- Each dyad can be in one of the three cases: a positive relationship, a negative relationship, and no relationship between the nodes of the dyad (empty dyad)\n",
    "\n",
    "<img src=\"Fig1.3.png\" width=500>"
   ]
  },
  {
   "cell_type": "markdown",
   "metadata": {},
   "source": [
    "### Balance and Triads\n",
    "- A triad\n",
    "    - A network structure consisting of three actors and three dyads.\n",
    "    - Identify four different types of relationships, depending on the number of negative relationships between nodes:\n",
    "        1. a friend of my friend is my friend, \n",
    "        2. an enemy of my enemy is my friend, \n",
    "        3. a friend of my friend is my enemy, and \n",
    "        4. an enemy of my enemy is my enemy.\n",
    "    \n",
    "- Structural balance theory\n",
    "    - The key concept in many applications of the signed graph theory.\n",
    "    - Tries to explain how a specific pattern of negative and positive signs can result in a different kind of relationships.\n",
    "    - Triads with an odd number of “+” edges are balanced, while triads with an even number of “-” edges are unbalanced.\n",
    "    - Imbalanced graph con gurations usually create stress for individuals located on them.\n",
    "    - (& signed graph) Very helpful in predicting and explaining friendships and animosity changes in human communities, which is useful in the analysis of enmity in tribal wars, political con icts, or international relations.\n",
    "    \n",
    "<img src=\"Fig1.4.png\" width=500>\n",
    "- Examples of signed graphs include friend/foe, trust/distrust or like/dislike, esteem/disesteem, praise/blame, in uence/negative in uence, etc.\n",
    "    - In figure a, all the three actors have positive feelings, and there is no place for conflict among them. The configuration is coherent and lacks inner tensions between members.\n",
    "    - Figure b is also stable since two actors (B and C) share the same negative feeling towards actor A, but they like each other.\n",
    "    - Figure c is unstable because actors A and B have a negative feeling towards each other, while both have a positive feeling towards actor C which has to divide its loyalty between the other two actors.\n",
    "    - Figure d is also unstable and will eventually break down, as it has an odd number of negative signs."
   ]
  },
  {
   "cell_type": "markdown",
   "metadata": {},
   "source": [
    "### Reciprocity\n",
    "- A measure of the tendency towards building mutually directed connections between two actors.\n",
    "- Can be an indicator of the importance of a relationship between two actors.\n",
    "- Facebook's reciprocity is 1(or 100%), Twitter is not."
   ]
  },
  {
   "cell_type": "markdown",
   "metadata": {},
   "source": [
    "## Network Distribution\n",
    "\n",
    "### Distance Between Two Nodes\n",
    "- Distance is a network metric that allows the calculation of the number of edges between any pair of nodes in a network.\n",
    "- Measuring distances between nodes in graphs is critical for many implementations like graph clustering and outlier detection."
   ]
  },
  {
   "cell_type": "markdown",
   "metadata": {},
   "source": [
    "### Degree Centrality(연결 중심성)\n",
    "- In degree centrality metric, the importance of a node is determined by <u>how many nodes it is connected to</u>.\n",
    "- It is a measurement of <u>the number of direct links</u> to other actors in the network.\n",
    "- It is a local measure.\n",
    "- Actors in social networks with a high degree of centrality serve as <u>hubs</u> and as <u>major channels of information</u>.\n",
    "- A node $i$’s degree centrality $d(i)$ can be formulated as\n",
    "$$d(i) = \\sum_j m_{ij}$$\n",
    "where $m_{ij} = 1$ if there is a link between nodes $i$ and $j$ and $m_{ij} = 0$ if there is no such link. \n",
    "- For directed networks, it is important to differentiate between the <u>in-degree centrality</u> and the <u>out-degree centrality</u>.\n",
    "<img src=\"Fig1.5.png\" width=500>\n",
    "\n",
    "\n",
    "- Persons with the highest-degree centrality are often third parties and deal makers and able to benefit from this brokerage.\n",
    "- For directed networks, in-degree is often used as a proxy for popularity."
   ]
  },
  {
   "cell_type": "markdown",
   "metadata": {},
   "source": [
    "### Closeness Centrality(근접 중심성)\n",
    "- Defined as <u>how close</u>, to a particular actor, other actors are.\n",
    "- The sum of the geodesic distances of a node to all other nodes in the network.\n",
    "- Closeness centrality, $C(i)$,\n",
    "$$C(i)=\\sum_j d_{ij}$$\n",
    "where $d_{ij}$ is the geodesic distance from node $i$ to node $j$ (number of links in the shortest path from node $i$ to node $j$).\n",
    "- It is important to <u>understand information dissemination</u> in networks in the way that the distance between one particular node and others has an effect on how this node can receive from or send information (e.g., gossip) to other nodes.\n",
    "- Because closeness centrality is based on the distance between network nodes, it can be considered the inverse of centrality because <u>large values refer to lower centrality</u>, whereas <u>small values refer to high centrality</u>.\n",
    "<img src=\"Fig1.6.png\" width=500>"
   ]
  },
  {
   "cell_type": "markdown",
   "metadata": {},
   "source": [
    "### Betweenness Centrality(매개 중심성)\n",
    "- Can be described as <u>how important</u> an actor is, as a link between different networks.\n",
    "- It represents the <u>number of times</u> an actor needs to pass via a given actor to reach another actor.\n",
    "- Nodes with high betweenness centrality <u>control the flow of information</u> because they <u>form critical bridges</u> between other actors or groups of actors\n",
    "- Betweenness centrality of node $i$ is calculated as follows:\n",
    "$$b(i)=\\sum_{j,k}\\frac{g_{jik}}{g_{jk}}$$\n",
    "where $g_{jk}$ is the number of shortest paths from node $(j)$ to node $k$ ($j$ and $k\\neq i$) and $g_{jik}$ is the number of shortest paths from node $(j)$ to node $k$ passing through the node $(i)$.\n",
    "<img src=\"Fig1.7.png\" width=500>\n",
    "- Betweenness centrality shows which nodes are likely <u>pathways of information</u> and can be used to determine how a graph will break apart of nodes are removed.\n",
    "- In trust networks, the key concept is betweenness centrality. Because this measure describes that potential of the particular individual to control the communication among other individuals in a network."
   ]
  },
  {
   "cell_type": "markdown",
   "metadata": {},
   "source": [
    "### Eigenvector Centrality(고유벡터 중심성)\n",
    "- Eigenvector centrality measurement <u>describes the centrality of a person</u> with regard to the global structure of the network.\n",
    "- Assigns relative scores to all nodes in the network based on the concept that connections to nodes with high scoring contribute more to the score of the node in question than connections to nodes with low scoring.\n",
    "- Measures the extent to which a node is <u>connected to well-connected nodes</u>.\n",
    "- Computed by taking the principal eigenvector of the adjacency matrix.\n",
    "<img src=\"Fig1.8.png\" width=500>"
   ]
  },
  {
   "cell_type": "markdown",
   "metadata": {},
   "source": [
    "### PageRank\n",
    "- PageRank, which is a <u>variant of the eigenvector centrality measure</u>, calculates the importance of a Web page by considering the probability that a user visits this page based on the hyperlinks.\n",
    "- The importance of a page is determined <u>by the importance of the pages that it is linked to</u>.\n",
    "- For a directed network $G$ with adjacency matrix $A$, the PageRank score of a page $u$ is determined iteratively by the scores of its incoming neighbors:\n",
    "$${PR}(u)=\\frac{1-\\alpha}{N}+\\alpha\\sum_v A_{vu}{PR}(v)/d_{out}(v)$$\n",
    "where $\\alpha$ is a damping factor that has a value between 0 and 1, $N$ is the total number of nodes, and $d_{out}(v)$ is the degree of outgoing links of $v$.\n",
    "- In PageRank: nodes are Web pages, links are Web links, and state is the temporary “importance” of that node. It is calculated by forcedly assigning positive non- zero weights to all pairs of nodes to make the entire network strongly connected. Its coefficient matrix is a transition probability matrix that can be obtained by dividing each column of the adjacency matrix by the number of 1’s in that column. \n",
    "<img src=\"Fig1.9.png\" width=500>\n",
    "\n",
    "\n",
    "- Calculation: just one dominant eigenvector of the TPM of a strongly connected network always exists, with $\\lambda = 1$. This shows the equilibrium distribution of the population over WWW. So, just solve $x = Ax$, and we will get the PageRank for all the Web pages on the World Wide Web.\n",
    "\n",
    "\n",
    "- PageRank algorithm gives nontrivial results only for asymmetric networks.\n",
    "- In its basic form, PageRank is vulnerable to misuse by some people, and hence it needs to be regularly and secretly adjusted."
   ]
  },
  {
   "cell_type": "markdown",
   "metadata": {},
   "source": [
    "### Geodesic Distance and Shortest Path\n",
    "- For <u>directed graphs</u>, the geodesic distance $d$ between two nodes $(u, v)$ is defined as the number of edges between these two nodes, while the shortest path is defined as the path from $u$ to $v$ with minimum number of edges.\n",
    "- For <u>undirected graphs</u>, \n",
    "    - the distance $d$ from $u$ to $v$ is the same distance as from $v$ to $u$ (i.e., $d(u, v) = d(v, u)$) because all paths can be reversed. \n",
    "    - the distance from one node to itself is always zero (i.e., $d (u,u) = 0$), and the distance between two adjacent nodes (i.e., there exists only one edge between $u$ and $v$) is one ($d (u,v) = 1$). \n",
    "    - If there is no path between $u$ and $v$, then $d(u, v) = \\infty$.\n",
    "- Many important network measurements are based on the concept of geodesic distance and shortest path."
   ]
  },
  {
   "cell_type": "markdown",
   "metadata": {},
   "source": [
    "### Eccentricity(이심률, 離心率)\n",
    "- The <u>maximum distances from a given node to all other nodes</u> in a network.\n",
    "- A popular <u>path-based measure</u> that gives value to each node in a network based on its direct and indirect connections.\n",
    "- If we calculate the <u>maximum eccentricity</u>, which is the maximum distance between nodes, we get what is called “<u>diameter</u>.” \n",
    "- The eccentricity $E$ of a node $u$ is defined as the maximum distance between $u$ and all other nodes. This means that we need to compute the geodesic distance from $u$ to all other nodes and choose the maximum value.\n",
    "$$E(u)=\\max_{v\\in V}d(u,v)$$\n",
    "\n",
    "- Calculating eccentricity is important for understanding <mark>how information can propagate from one node to other nodes</mark>.\n",
    "<img src=\"Fig1.10.png\" width=500>\n",
    "    - maximum eccentricity -network diameter- is 4.\n",
    "    - node $D$ has eccentricity 2, which means that the furthest nodes from $D$ are located 2 hops away. Information propagated by node $D$ can pass through nodes $E$ and $B$ in the smallest number of steps to reach the furthest nodes in the graph\n",
    "    - node $A$, for example, has eccentricity 4 which means information needs to pass through at least three nodes ($B$, $D$, and $E$) and four edges to reach the furthest nodes."
   ]
  },
  {
   "cell_type": "markdown",
   "metadata": {},
   "source": [
    "### Density\n",
    "- Density is defined as <u>the degree</u> to which network nodes are <u>connected one to another</u>.\n",
    "- It can be used as a measure of <u>how close a network is to complete</u>.\n",
    "- In the case of a complete graph, density = 1.\n",
    "- The density $D(G)$ of graph $G$, density values range between zero and one $[0, 1]$, the possible number of edges is $n (n − 1) / 2$:\n",
    "$$D(G) = \\frac{2m}{n(n-1)}$$\n",
    "where $m=|E|$ is the number of edges in $G$.\n",
    "\n",
    "\n",
    "- In ego-centric netwoks, consider the links around the focal node. The goal of such an analysis would be to explore the in uence of the focal node on its neighbors in the subgroup that the node belongs.\n",
    "- In socio-centric networks, consider the complete graph and the network constraints as well.\n",
    "\n",
    "\n",
    "<img src=\"Fig1.11.png\" width=500>\n",
    "- In graph a has $m = 4$ edges, resulting in a density $D(G)= (2\\times 4)/ (5\\times 4) = 0.4$. \n",
    "- In graph b, $m=6$, resulting in density $D(G)= (2\\times6)/(5\\times4) = 0.6$. \n",
    "- Finally, in graph c, $m = 10$ , resulting in density $D(G)=(2\\times10)/(5\\times4) = 1$, which means that the graph is <u>fully connected</u>.\n",
    "\n",
    "\n",
    "- **[Q]** How much is the density of online social networks?"
   ]
  },
  {
   "cell_type": "markdown",
   "metadata": {},
   "source": [
    "## Network Segmentation\n",
    "\n",
    "### Cohesive Subgroups\n",
    "- Cohesive groups are <u>communities</u> in which the nodes are connected to others in the same group <u>more frequent</u> than they are to those who are outside of the group, allowing all of the members of the group to reach each other.\n",
    "- Within such a <u>highly cohesive group, members</u> tend to have <u>strong homogenous beliefs</u>.\n",
    "- cohesive group analysis\n",
    "    - clique : a maximal complete subgraph.\n",
    "    - k-core : defined as a subgraph having a minimum degree greater than or equal to $k$.   (??? k)"
   ]
  },
  {
   "cell_type": "markdown",
   "metadata": {},
   "source": [
    "### Cliques\n",
    "- A graph (or subgraph) in which <u>every node is connected to every other node</u>. In SN, A social grouping in which all individuals know each other.\n",
    "- A <u>maximal clique</u> is a clique that is <u>not a subset</u> of any other clique in the graph.\n",
    "<img src=\"Fig1.12.png\" width=500>\n",
    "- <u>Finding maximum cliques</u> in a network is an interesting and highly applicable problem in <u>analyzing social relationships</u> since it provides the largest set of common friendships.\n",
    "- By comparing the sizes of the maximum friendship cliques over two social networks, we may <u>get an idea about some aspects of group dynamics, such as teamwork, trust, and productivity</u>."
   ]
  },
  {
   "cell_type": "markdown",
   "metadata": {},
   "source": [
    "### K-Cores\n",
    "- In undirected graphs, a k-core is a connected maximal induced subgraph having a <u>minimum value greater than or equal to $k$</u>. \n",
    "- This means that each node has ties to <u>at least $k$ other nodes</u>. \n",
    "- K-cores can be used as <u>a way to find cohesive subgroups</u> in graphs.\n",
    "- K-core can be used by researchers as a sampling technique for <u>collecting data from social networks</u>."
   ]
  },
  {
   "cell_type": "markdown",
   "metadata": {},
   "source": [
    "### Clustering Coefficient(결집 계수)\n",
    "- Clustering coefficient is a measure of <u>how much nodes tend to form dense subgraphs</u>.\n",
    "- For SN, this can be interpreted as the probability that two friends of a single person are also themselves friends.\n",
    "- SN's CC > RN's CC\n",
    "\n",
    "<img src=\"Fig1.13.png\" width=500>\n",
    "- The clustering coefficient $C$ of a node $i$, the <u>local(node</u>) clustering coefficient:\n",
    "$$C_i=\\begin{pmatrix}k_i \\\\ 2\\end{pmatrix}^{-1}\\ T(i)=\\frac{2T(i)}{k_i(k_i-1)}$$\n",
    "where $T(i)$ is the number of distance triangles with node $i$ and $K_i(k_i −1)$ is the maximum number of possible connections in neighbors of $i$.\n",
    "- <u>A large $C$</u> implies that the network is <u>well connected locally</u> to form a cluster.\n",
    "- Network average clustering is defined as:\n",
    "$$C=\\frac{1}{n}\\sum_{i\\in v} C_i$$\n",
    "- The computation of the node clustering coefficient $C_i$ can be done in time $O(n^2)$ in the worst case via counting <u>all edges connected directly to node $i$</u>.\n",
    "- The network clustering coefficient can be computed by counting all closed triplets. A brute-force approach can be used to examine network clustering coef cient by examining the combination of nodes, with time complexity equals $O(n^3)$.\n",
    "- Another approach proposes the use of fast matrix multiplication on the adjacency matrix representation of graph $G$ to solve triplet finding, counting, and node counting in $O(n^{2.376})$ time and $O(n^2)$ space.\n",
    "- In bipartite graphs, where triangles do not exist, clustering coefficient is trivially equal to zero."
   ]
  },
  {
   "cell_type": "markdown",
   "metadata": {},
   "source": [
    "### Core/Periphery\n",
    "- <b>The core</b>, in which nodes are embedded in a coherent subgraph\n",
    "- <b>The periphery</b>, in which nodes are loosely connected\n",
    "- The study of dynamic behavior of networks that evolve over time is called <u>dynamic network analysis (DNA)</u>, and it differs from traditional social network analysis, which proposes that the network is static during analysis. While DNA is <u>more concerned with the activity of network actors and their interactions</u>, SNA concentrates on the structural properties of a network."
   ]
  },
  {
   "cell_type": "markdown",
   "metadata": {},
   "source": [
    "### Blockmodels\n",
    "- Blockmodeling is <u>an analytic method that uses data partitioning in a social network</u> to classify actors based on their patterns of ties to others.\n",
    "- The general idea of blockmodels is that <u>nodes are partitioned (based on some equivalence measure) into discrete subgroup positions</u>.\n",
    "- Several equivalence measures are used for this purpose such as <u>the structural equivalence, the regular equivalence, and the stochastic equivalence</u>.\n",
    "- Because blockmodeling has <u>the benefit of identifying individuals who can play the same role in the same or a different population</u>, it was used <u>to identify role structures among business managers using social ties</u>. It was also used <u>to understand the structure of co-citation networks and the structure of personality types</u> in small groups."
   ]
  },
  {
   "cell_type": "markdown",
   "metadata": {},
   "source": [
    "### Hierarchical Clustering\n",
    "- One of earliest methods for clustering data using <u>a similarity matrix</u>.\n",
    "- It is part of a wider classification criterion for clustering algorithms: hierarchical (e.g., hierarchical clustering) vs. non-hierarchical (e.g., k-means).\n",
    "- Agglomerative version\n",
    "    - Starts with clustering all data items into clusters (or groups) based on a distance metric.\n",
    "    - The closest pair of clusters is then merged by moving up the hierarchy into a single cluster, while the correlation between data items of different clusters decreases as we move from the bottom (leaves) to the top (root). \n",
    "    - This step is repeated until all items are clustered into one single cluster.\n",
    "    - This algorithm is <u>commonly used</u> by the social community <u>for community detection</u>.\n",
    "    - Finding out which clusters to merge can also be done in different ways.\n",
    "        - <u>The complete-linkage method</u> \n",
    "            - Considers <u>the distance between two clusters to be equal to the greatest distance</u> from any data item in one cluster to any data item in the other cluster. \n",
    "            - Not used in general because it is highly sensitive to outliers.\n",
    "        - <u>The single-linkage method</u> \n",
    "            - Considers the distance between any two clusters to be equal to <u>the shortest distance</u> from and a data item in the first cluster and any data item in the other cluster. \n",
    "            - Suffers from what is called “chain effect” and is less suited to detect spherical clusters, it is still more commonly used since it has the ability to detect elongated and irregular clusters.\n",
    "        - <u>The average-linkage clustering method</u> considers the distance between one cluster and another to be equal to <u>the average distance</u> from any data item in the first cluster to any data item in the other cluster.\n",
    "- Divisive version\n",
    "    - Does the reverse such that it starts with one single cluster and subdivides it into smaller pieces\n",
    "- The agglomerative version is more commonly used than the divisive one."
   ]
  },
  {
   "cell_type": "markdown",
   "metadata": {},
   "source": [
    "## Recent Developments in Network Analysis\n",
    "\n",
    "### Community Detection\n",
    "- To discover subsets of nodes (clusters) of connected communities in which nodes have many internal edges and few external edges.\n",
    "- Identifying communities in graphs is feasible only if the graph is sparse, which means that number of links $m \\approx$ number of nodes $n$.\n",
    "- Detecting communities in a graph is NP-complete.\n",
    "- Formally, the problem of community detection can be given as follows: given graph $G = (V; E)$, a community $C$ can be de ned as a subgraph of $G$ comprising a set $V_C\\in V$ of objects that share some similarity.\n",
    "- <u>K-cliques</u>, <u>modularity optimization</u>, and <u>link communities</u> are some of the popular methods in the stream of community detection.\n",
    "- The most popular algorithm for identifying communities in networks was proposed by Girvan and Newman who identified three types of betweenness measures: <u>geodesic edge betweenness</u>, <u>random-walk edge betweenness</u>, and <u>current-flow edge betweenness</u>."
   ]
  },
  {
   "cell_type": "markdown",
   "metadata": {},
   "source": [
    "### Link Prediction\n",
    "- About inferring the links between nodes based on their attributes and the global patterns of links in the social network.\n",
    "- Do not form randomly, we can infer that two nodes that share some similarity.\n",
    "- The link prediction problem can be formally given as follows: given a network graph $G = (V, E)$, the task here is to predict whether there will be a link between two nodes $u$ and $v$, where both $u$ and $v\\in V$ and $e(u, v)\\notin E$.\n",
    "- Finding node similarities can be done using measures for analyzing the proximity of nodes in a network such as a <u>degree distribution</u>, <u>common neighbors</u>, <u>preferential attachment</u>, <u>Jaccard coefficient</u>, <u>Leicht-Holme-Newman Index</u>, and <u>Kart Index</u>.\n",
    "- Node-based mehtods\n",
    "- <u>Likelihood-based methods</u> make an assumption about the network organization and structure and <u>use that assumption to predict missing links</u>.\n",
    "- Matrix factorization and feature-based classification, where the latter method tries to select a number of features from the network topological or non-topological set of features such that <u>the chosen features should effectively describe the link likelihood</u> appropriately.\n",
    "- In general, methods that <u>use features to train a binary classification model</u> consider the link prediction problem <u>as a supervised classification task</u>, while methods that are based on node similarity look at link prediction as an unsupervised task.\n",
    "- The task of link prediction can be classi ed into three categories: \n",
    "    - predict missing or unobserved links in a network,\n",
    "    - predict the links that are likely to be formed in the near future,\n",
    "    - predict whether there will be an interaction between a pair of nodes with a previously observed association.\n",
    "- Examples\n",
    "    - The study of the mechanisms that control the formation and deletion of nodes in these networks. \n",
    "    - E-commerce systems for building product recommendations.\n",
    "    - In the healthcare sector, identify the interactions between drugs and proteins or between diseases and proteins.\n",
    "    - In social networks, uses similarity of users to predict or recommend new friendships."
   ]
  },
  {
   "cell_type": "markdown",
   "metadata": {},
   "source": [
    "### Spatial Networks\n",
    "- A graph in which nodes are embedded in a metric space, which means that the nodes are located in a space equipped with a particular metric.\n",
    "- Examples\n",
    "    - The Internet, as it consists of a set of nodes (i.e., routers) linked by edges (i.e., cables) with different lengths and latency times.\n",
    "    - Drawing a map with various types of communication networks (e.g., cars and trains)\n",
    "- If we want to build a spatial network, we need  rst to draw a graph (i.e., nodes and edges) of a system and then add the physical representations to the network, which will help better understand the importance of physical distances between elements to the operation of networks."
   ]
  },
  {
   "cell_type": "markdown",
   "metadata": {},
   "source": [
    "### Protein-Protein Interaction Networks\n",
    "- A type of biological networks\n",
    "- Nodes in these networks represent individual proteins, and the interactions between proteins (PPI) are the edges. Such interactions take the form of two or more proteins binding together to carry out a specific biological function. Analyzing PPI networks is essential for a full understanding of the molecular basis for most of the diseases."
   ]
  },
  {
   "cell_type": "markdown",
   "metadata": {},
   "source": [
    "### Recommendation Systems\n",
    "- S/W tools that give sugges- tions for items that are very likely to be of interest to a particular user.\n",
    "- Providing recommendations to users can be done in one of two ways: content-based filtering or collaborative filtering. \n",
    "    - CBF, the user will be recommended items similar to the ones he/she preferred in the past. \n",
    "    - CF, a user’s past behavior (e.g., items previously purchased or rated) and a similar decision made by other users to predict items that the user may have an interest in.\n",
    "    - Based on the premise that similar users like similar items.\n",
    "- <mark>Two-mode network</mark>, since it has two types of nodes, users, and items. \n",
    "    - A user-item network can be built according to what every user has bought/liked in the past. \n",
    "    - The relationship between two users becomes stronger if they have more things in common.\n",
    "<img src=\"Fig1.14.png\" widt=450>\n",
    "- A simple analysis process to divide that network into two subnetworks can be applied next to put the items that are similar in one group. \n",
    "- Recommendations are given next based on how strong that relationship is. \n",
    "- Such type of recommendation systems are also referred to as social recommendation systems, which also have roots in the theory of homophily.(fig. 1.14)"
   ]
  },
  {
   "cell_type": "markdown",
   "metadata": {},
   "source": [
    "## iGraph\n",
    "- Tools for social network analysis : <u>MuxViz</u>, <u>NetworkX</u>(used throughout this study), and <u>iGraph</u>.\n",
    "- iGraph is a software for the analysis and visualization of large networks. It allows analysts to perform tasks that are related to network analysis such as community discovery, cohesive groups, structural holes, dyad, triad, and motif count. "
   ]
  },
  {
   "cell_type": "code",
   "execution_count": null,
   "metadata": {
    "collapsed": false
   },
   "outputs": [],
   "source": [
    "# install.packages(\"igraph\")"
   ]
  },
  {
   "cell_type": "code",
   "execution_count": null,
   "metadata": {
    "collapsed": false,
    "scrolled": true
   },
   "outputs": [],
   "source": [
    "require(igraph)"
   ]
  },
  {
   "cell_type": "code",
   "execution_count": null,
   "metadata": {
    "collapsed": true
   },
   "outputs": [],
   "source": [
    "g <- graph(c(1,2, 1,3, 2,3, 3,4, 4,5, 4,6, 6,7, 6,8), n=9)"
   ]
  },
  {
   "cell_type": "code",
   "execution_count": null,
   "metadata": {
    "collapsed": false
   },
   "outputs": [],
   "source": [
    "print(g)"
   ]
  },
  {
   "cell_type": "code",
   "execution_count": null,
   "metadata": {
    "collapsed": false
   },
   "outputs": [],
   "source": [
    "plot(g, vertex.color=\"yellow\")"
   ]
  },
  {
   "cell_type": "code",
   "execution_count": null,
   "metadata": {
    "collapsed": false
   },
   "outputs": [],
   "source": [
    "g <- graph.tree(30, 3)\n",
    "plot(g)"
   ]
  },
  {
   "cell_type": "code",
   "execution_count": null,
   "metadata": {
    "collapsed": false,
    "scrolled": true
   },
   "outputs": [],
   "source": [
    "install.packages(\"rgl\")"
   ]
  },
  {
   "cell_type": "code",
   "execution_count": null,
   "metadata": {
    "collapsed": false
   },
   "outputs": [],
   "source": [
    "require(rgl)"
   ]
  },
  {
   "cell_type": "code",
   "execution_count": null,
   "metadata": {
    "collapsed": false
   },
   "outputs": [],
   "source": [
    "require(tcl/tk)"
   ]
  },
  {
   "cell_type": "code",
   "execution_count": null,
   "metadata": {
    "collapsed": false,
    "scrolled": true
   },
   "outputs": [],
   "source": [
    "tkplot(g, layout=layout.kamada.kawai, vertex.color=\"yellow\")"
   ]
  },
  {
   "cell_type": "code",
   "execution_count": null,
   "metadata": {
    "collapsed": false
   },
   "outputs": [],
   "source": [
    "rglplot(g, layout=layout.kamada.kawai, vertex.color=\"cyan\")"
   ]
  }
 ],
 "metadata": {
  "kernelspec": {
   "display_name": "R",
   "language": "R",
   "name": "ir"
  },
  "language_info": {
   "codemirror_mode": "r",
   "file_extension": ".r",
   "mimetype": "text/x-r-source",
   "name": "R",
   "pygments_lexer": "r",
   "version": "3.3.3"
  }
 },
 "nbformat": 4,
 "nbformat_minor": 1
}
