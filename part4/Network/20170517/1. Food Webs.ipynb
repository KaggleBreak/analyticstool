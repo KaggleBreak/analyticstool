{
 "cells": [
  {
   "cell_type": "markdown",
   "metadata": {},
   "source": [
    "## Data Science & Complex Networks\n",
    "### 캐글즐기기 파트4 1회차 이상열 ~~2017/04/17(월)~~ => 2017/05/17(수)\n",
    "\n",
    "#### Ref1 : http://pearl.cs.pusan.ac.kr/~wiki/images/b/bd/TR14-11-CHG-a.pdf\n",
    "#### Ref2 : https://1ambda.github.io/algorithm/design-and-analysis-part1-4/\n",
    "#### Ref3 : https://lsy5518.wordpress.com/2014/02/19/%EB%84%A4%ED%8A%B8%EC%9B%8C%ED%81%AC-%EC%A7%91%EB%8B%A8%ED%99%94-%EA%B3%84%EC%88%98-network-clustering-coefficient/\n",
    "\n",
    "--- \n",
    "### *Table of Contents*\n",
    "#### Introduction (5/17)\n",
    "#### 1. Food Webs (5/17)\n",
    "#### 2. International Trade networks and World Trade Web\n",
    "#### 3. The Internet Network\n",
    "#### 4. World Wide Web, Wikipedia, and Social Networks\n",
    "#### 5. Financial Networks\n",
    "#### 6. Modeling\n",
    "\n",
    "#### Book Rink (http://book.complexnetworks.net)\n",
    "\n",
    "---\n",
    "\n",
    "### Introduction\n",
    "\n",
    "- 복잡한 네트워크는 직관적이고 학제적으로 이루어져 과학자와 실무자 사이에서 점점 더 인기를 얻고 있음\n",
    "- 기본 모델링은 이해하기가 비교적 간단할뿐만 아니라 정도 또는 클러스터링과 같은 \"로컬\" 네트워크 속성 시각화 계산 가능\n",
    "- 책의 목적은 네트워크 이론이 이러한 데이터 생성 시스템에서 정보를 모델링하고 필터링하는 데 중요한 도구임을 보여주는 것\n",
    "> 네트워크 개념 : 정교한 전자적 양으로 이동하고 독자가 연구를 계속하기 위해 도구 (특히 소프트웨어)를 제공하는 것입니다. \n",
    "\n",
    "- 즉 네트워크 (Networkx). 정도, 정도 순서, 클러스터링, 공동체 탐지, 호혜성, 중심성 및 (Example, Code)\n",
    "\n",
    "- 최소 스패닝 트리 (또는 포리스트) 및 최대 평면 그래프와 같은 계측기는 가장 중요한 기능을 나타내는 방식으로 정보를 필터링. \n",
    "- 최소 스패닝 트리 기술이 유사한 분야의 클러스터링 주식에 특히 유용한 금융 네트워크를 고려할 때 분명함. 과학은 결과의 재생산에도 관심이 있으며 설명에뿐만 아니라 모델링에 대한 마지막 부분을 추가. 실제로 복잡한 네트워크 분야에서 여러 모델이 제시\n",
    "\n",
    "> 1. **1장**에서는 푸드 웹 (food web) 인접 행렬 사용하여 그래프를 표현하는 방법, 단일 꼭지점의 속성과 정도 및 클러스터링 정도 시퀀스와 같은 이웃에 대한 개념을 소개합니다.\n",
    "> 2. **2장**에서는 월드 웹을 다양한 집계로 분석하여 조합 및 호혜성과 같은 두 개의 버텍스 속성으로 이동, 특히 소셜 네트워크 분석에 특히 유용한 두 종류의 그래프, 즉 이원 그래프 소개\n",
    "> 3. **3 장**에서는 인터넷의 구조를 연구하고 구조의 견고성을 평가하는 데 사용되는 중심성의 다양한 척도 소개\n",
    "> 4. **4 장**에서는 WWW와 Wikipedia를 연구하여 PageRank가 제공하는 또 다른 중심 척도를 소개. Wikipedia를 지역 사회 분석을 위한 경쟁의 장으로 연구하고, 특히 우리는 betweenness에 기초한 Girvan-Newman 공동체 탐지 방법 소개\n",
    "> 5. **5 장**에서는 금융 네트워크의 일부 사례를 고려. 이 데이터 세트의 분석을 통해 우리는 중심 대책을 DebtRank로 정의 할 수 있음.\n",
    "> 6. **6 장**에서는 무작위 그래프 모델, 구성 모델, 중력 모델, 피트니스 모델, Barabasi-Albert 모델, 동적 피트니스 모델, 누락 된 정보에 대한 네트워크를 재구성하는 방법 등 일련의 모델 제시\n",
    "\n",
    "--- \n",
    "\n",
    "### Tools\n",
    "\n",
    "- 코딩을 시작하려면 Python 2.7 을 다운로드하여 설치해야합니다 (Linux 및 Mac은 기본적으로 운영 체제에 있음). \n",
    "- Anaconda 팩에는이 설명서에 제시된 코드에 대한 모든 과학 라이브러리 (https : www.continuum.iojdownloads). 우리는 Numpy, Scipy, Matplotlib 및 NetworkX 도서관을 거의 모든 곳에서 웹에서 쉽게 검색하고 Anaconda에 포함시킬 것입니다. 특정 종속성은 라이브러리에 대한 것입니다.\n",
    "\n",
    "   * BeautifulSosup (in Chap 3)\n",
    "   * Twython (in Chap. 4)\n",
    "   * yahoo_finance (in Chap. 5)\n",
    "   * sympy (in Chap. 6)\n",
    "\n",
    "---\n",
    "\n",
    "### 1.1 서론\n",
    "- 푸드 웹은 같은 종에 사는 종들 사이의 포식 관계를 모아 놓은 것. \n",
    "- 그림 1.1에서 볼 수 있듯이, 컬렉션은 시각화하기가 어려움. 매우 까다롭고 환원론적 접근법은 기능 설명의 요점을 놓침.\n",
    "    * 같은 서식지 (또는 서식지 세트)에서 그들의 포식 관계에 의해 연결된 종의 그룹을 선택하여 정의 된 공동체 웹;\n",
    "    * 하나 이상의 육식 동물이 먹는 모든 먹이를 수집하고 이 먹이의 먹이를 재귀 적으로 수집하여 싱크대를 가라.\n",
    "    * 한 종 또는 그 이상의 종의 모든 포식자를 수집하고 그러한 포식자의 포식자를 재귀 적으로 수집하여 만든 출처 웹.\n",
    "\n",
    "[Food Webs](http://www.southernfriedscience.com/wp-content/uploads/2012/02/Cod.jpg)\n",
    "\n",
    "![Food Webs](http://upload.wikimedia.org/wikipedia/commons/0/0e/Chesapeake_Waterbird_Food_Web.jpg)\n",
    "\n",
    "\n",
    "- 거미줄에서 먹이 또는 포식자가 반드시 별개의 종에 해당하는 것은 아닙니다. \n",
    "- 오히려, 동일한 종은 상이한 역할 (즉, 생물의 생애주기 중 다른 단계)에서 두 번 이상 나타날 수 있음.\n",
    "- 또한 식인 풍습이 존재하기 때문에 (한 개인과 다른 성장 단계 모두에서) 단일 종은 먹이와 육식 동물이 될 수 있음.\n",
    "\n",
    "\n",
    "- 첫째, 커뮤니티 웹의 정의를 고려할 때 두 가지 문제가 발생. 특히 희귀 한 사건을 발견하기 위해서는 오히려 복잡하고 일반적으로 수년 간의 관찰이 필요\n",
    "    - 첫 번째 문제와 관련하여 수집 된 데이터의 품질을 향상시키기 위해 열심히 노력하는 것 외에는 다른 해결책이 없음.\n",
    "    \n",
    "    \n",
    "- 둘째, 주어진 서식지에서 1 종의 종을 사용하면 유사 박테리아 종 사이의 차이점이 없는 한 마리의 독수리 (독수리 또는 호랑이의 색의 차이) 사이에 아주 작은 차이를 발견\n",
    "    - 두 번째 이슈에서는 영양 종 (trophic species)의 개념을 도입함으로써 관측 바이어스를 감소시키는 것이 일반적 \n",
    "    - 관측 바이어스 (수많은 false data가 포함된 불완전한 그래프, 잡음)\n",
    "   \n",
    "  \n",
    "#### 국립수목원, 지난 100여 년 간의 광릉숲 생태계 영양 단계 변화 밝혀 내 (http://www.dailygrid.net/news/articleView.html?idxno=51902)\n",
    "![국립수목원](http://www.dailygrid.net/news/photo/201705/51902_30607_2946.jpg)\n",
    "\n",
    "\n",
    "#### http://bansolmoon.blog.me/220990040893 \n",
    "- producer : 태양(The sun)은 먹이사슬(Food chains)에서 모든 에너지의 원천\n",
    "- 1차 소비자(Primary Consumer) : 그룹의 동물들은 대게 초식동물(herbivores) 들이다. 예컨대, 곤충(insects), 양(sheep), 애벌레(caterpillars) \n",
    "- 2차 소비자(Second Consumer : 이들은 일반적으로 육식동물(carnivores)이라 불린다. 예컨대, 사자(lions), 뱀(snakes)과 고양이(cats)\n",
    "- 3차 소비자(Tertiary Consumers) : 2차 소비자를 먹는 동물들\n",
    "- 먹이사슬 최상의 단계를 포식 동물(Predators)"
   ]
  },
  {
   "cell_type": "markdown",
   "metadata": {},
   "source": [
    "### 네트워크 Basic\n",
    "    * 정점 수 (그래프 측정 값) 인 영양 종 S의 수\n",
    "    * 가장 자리 수 (그래프의 크기) 인 링크 수 L\n",
    "    * 완전 지향 그래프의 크기에 상응하는 가능한 포식 S ^ 2의 수 (식인 풍습 = S ^ 2, = S (S-1) 제외)\n",
    "    * 주어진 서식지의 연결 C ~ L / S ^ 2, 즉 가능한 것 (이전 참조)과 관련하여 존재하는 가장자리의 수 사이의 비율\n",
    "    * 종 당 먹이의 수, 즉 정점의 도수와 유사하게 종 당 포식자의 수, 즉 정점의 아웃도 (out-degree)\n",
    "    * 종간의 삼각 측량 수. 유향 그래프에서는 모티프 구조와 관련이 있으며 클러스터링이 있는 무향 그래프의 단순화 된 형태로 되어 있음\n",
    "\n",
    "- 생태학에서는 \"기초 종\" 또는 일차 생산자로 알려져 있음. \n",
    "- 두 번째 단계의 종은 첫 번째 단계 이전의 종 (다른 종보다 선행 할 수 있다는 사실과 무관). \n",
    "- 개념은 반복 될 수 있으며 일반적으로 한 종의 수준은 \"기초 종\"에 대한 최소 경로와 관련이 있습니다. (영양 종을 세 가지 간단한 클래스로 묶을 수 있음)\n",
    "\n",
    "    * 포식자만 있는 기초 종 B;\n",
    "    * 먹이가 있는 상위 종 T;\n",
    "    * 둘 다 가지고 있는 중간 종 I.\n",
    "\n",
    "\n",
    "- 우리가 여러 가지 먹이 그물을 묘사하는 데 사용할 수 있는 몇 가지 양을 정의 할 수 있게 해줌.\n",
    "\n",
    "```\n",
    "1. 첫째, 그러한 계급의 비율 (Pimm et al., 1991);\n",
    "2. 둘째, 클래스 들간의 서로 다른 링크의 비율 (BI, BT, II, IT);\n",
    "3. 마지막으로, 먹이 / 포식자 비율 (Cohen, 1977) = (# B + # I) / (# I + # T).\n",
    "```"
   ]
  },
  {
   "cell_type": "markdown",
   "metadata": {},
   "source": [
    "### 1.2 Data from EcoWeb and foodweb.org\n",
    "\n",
    "![n1-1](img/network_1_1.png)\n",
    "Fig. 1.2 Structure of a food web the distinction in levels and classes of species.\n",
    "\n",
    "- 종에 대한 전통적인 데이터 소스는 기계 가독성 데이터 세트 EcoWeb에 의해 주어지며 181 개의 작은 푸드 웹을 제공\n",
    "\n",
    "```\n",
    "• 42 종의 영양 종으로 이루어진 St Martin Island (Goldwasser and Roughgarden, 1993);\n",
    "• St Marks Seagrass (Christian and Luczkovich, 1999) 46 종의 영양 종;\n",
    "• 63 개의 영양 종을 가진 다른 초원 (Martinez et al., 1999);\n",
    "• 81 종의 영양 종을 가진 Silwood Park (Memmott et 2000);\n",
    "• Ythan 강어귀 (기생충없이) (Hall and Raffaelli, 1991) 81 종의 영양 종;\n",
    "• 93 개의 영양 종으로 구성된 Little Rock Lake 웹 (Martinez, 1991);\n",
    "• Ythan 강어귀 (기생충과 함께) (Huxham 외., 1996) 126 종의 영양 종. 우리는이 책자에 첨부 된 자료에 이러한 식품 웹을 나열했습니다. 다른 데이터 세트는 다음 위치에서 다운로드 할 수 있습니다.\n",
    "```"
   ]
  },
  {
   "cell_type": "markdown",
   "metadata": {},
   "source": [
    "### 1.3. Store and measure a graph: size, measure, and degree\n",
    "### 1.3.1 The Adjacency matrix\n",
    "\n",
    "<img src = 'img/network_1_2.png', style=\"max-width: 50%; height: auto;\">\n",
    "\n",
    "- 인접 행렬 이라고 하는 수학적 표현을 통해 그림으로 그려질 수 있음.\n",
    "- 인접 행렬 A는 숫자의 정사각형 테이블 (nxn, 여기서 n은 그래프의 정점 수) \n",
    "- 행 i와 열 j의 요소는 꼭짓점 i와 j 사이에 모서리가 있으면 1과 같고 그렇지 않으면 0과 같습니다. 큰 데이터 집합을 처리 할 때 특히 유용\n",
    "\n",
    "\n",
    "- 행렬이 그래프의 컴퓨터 표현으로만 유용하다고 믿는 것은 불충분. 그래프의 스펙트럼 속성 (matricial form과 관련된)은 커뮤니티 구조에서부터 시작하여 많은 속성을 나타낼 수 있음.\n",
    "\n",
    "    - 지향성이 없는 그래프의 가장 간단한 경우는 대칭 행렬 A를 제공 (aij = aji)\n",
    "    - 대신 링크에 방향이 있다면 우리는 노드 i에서 노드 j를 가리키는 호. 그러나 반대는 반드시 그런 것은 아닙니다. (aij != aji)\n",
    "\n",
    "\n",
    "- 비대칭 행렬은 경로를 역으로 따라갈 수 없는 상황. 웹 페이지의 링크를 좋아하는 풋볼 팀이나 할리우드 배우의 웹 페이지에 연결하면 페이지로 연결되는 링크가 반드시 제공되는 것은 아닙니다. 지향형 네트워크는 다양한 상황에서 발생합니다. \n",
    "\n",
    "- 우리가 전자 메일을 가지고 있는 소셜 네트워크의 웹 사이트에서 Facebook 게시물에 \"좋아요\"를 표시하고 대칭이 아닌 Twitter에서 리트윗, 돈을 빌려주지 않는 금융, 국가 간 무역이있는 경제, 마침내 식품 웹에서의 포식 관계가 전형적으로 상호적이지 않은 생물학"
   ]
  },
  {
   "cell_type": "markdown",
   "metadata": {
    "collapsed": true
   },
   "source": [
    "### Read the adjacency matrix\n",
    "\n",
    "- 이 공식을 시작으로 파이썬 코드로 변환하는 것이 상대적으로 쉽습니다. 우리는 그래프의 매트릭스 표현으로 시작하거나 Networkx 라이브러리의 노드와 에지의 직접적인 표현으로 시작할 수 있습니다.\n",
    "\n",
    "- 첫 번째 경우에는 먼저 기본 목록 데이터 유형 (이 경우 목록 목록)을 사용하여 다음과 같이 인접성 행렬을 통해 그래프를 나타냅니다."
   ]
  },
  {
   "cell_type": "code",
   "execution_count": 2,
   "metadata": {
    "collapsed": true
   },
   "outputs": [],
   "source": [
    "adjacency_matrix=[[0,1,0,1],\n",
    "                  [1,0,1,1],\n",
    "                  [0,1,0,0],\n",
    "                  [1,1,0,0]\n",
    "                  ]"
   ]
  },
  {
   "cell_type": "code",
   "execution_count": 3,
   "metadata": {
    "collapsed": false
   },
   "outputs": [
    {
     "name": "stdout",
     "output_type": "stream",
     "text": [
      "1\n",
      "2\n",
      "3\n",
      "4\n",
      "5\n"
     ]
    }
   ],
   "source": [
    "#반복주기에 대한 기본적인 파이썬 문장은 Fortran, C/C ++ 등과 같은 일반적인 프로그래밍 언어와 조금 다릅니다. \n",
    "#반복은 목록을 통해 실행되어야합니다. 예를 들어, 1에서 5까지 실행되는 인덱스의 간단한 경우에 구문은 다음과 같습니다.\n",
    "for i in [1,2,3,4,5]: \n",
    "    print (i)"
   ]
  },
  {
   "cell_type": "code",
   "execution_count": 3,
   "metadata": {
    "collapsed": false
   },
   "outputs": [
    {
     "name": "stdout",
     "output_type": "stream",
     "text": [
      "[0, 1, 0, 1]\n",
      "[1, 0, 1, 1]\n",
      "[0, 1, 0, 0]\n",
      "[1, 1, 0, 0]\n"
     ]
    }
   ],
   "source": [
    "for row in adjacency_matrix:\n",
    "    print (row)"
   ]
  },
  {
   "cell_type": "code",
   "execution_count": 4,
   "metadata": {
    "collapsed": false
   },
   "outputs": [
    {
     "name": "stdout",
     "output_type": "stream",
     "text": [
      "0\n",
      "1\n",
      "0\n",
      "1\n",
      "\r\n",
      "1\n",
      "0\n",
      "1\n",
      "1\n",
      "\r\n",
      "0\n",
      "1\n",
      "0\n",
      "0\n",
      "\r\n",
      "1\n",
      "1\n",
      "0\n",
      "0\n",
      "\r\n"
     ]
    }
   ],
   "source": [
    "#\"print\"문장의 들여 쓰기는 파이썬에서 필수입니다. 길이가 고정되어 있지 않아도 마찬가지입니다.\n",
    "# 각 단일 행렬 요소를 얻으려면 행의 각 요소를 추출하기 위해 사이클링을 중첩합니다.\n",
    "for row in adjacency_matrix:\n",
    "    for a_ij in row:\n",
    "        print (a_ij)\n",
    "    print (\"\\r\")"
   ]
  },
  {
   "cell_type": "code",
   "execution_count": 5,
   "metadata": {
    "collapsed": true
   },
   "outputs": [],
   "source": [
    "#in the case of directed networks the adjacency matrix is not symetric, like for Food Wes\n",
    "#if a non zero element is present in row 2, column 3, this means there is an arc (directed edge)\n",
    "#from node 2 toward node 3\n",
    "adjacency_matrix_directed=[\n",
    "                  [0,1,0,1],\n",
    "                  [0,0,1,0],\n",
    "                  [0,0,0,1],\n",
    "                  [0,0,0,0]\n",
    "                  ]"
   ]
  },
  {
   "cell_type": "code",
   "execution_count": 6,
   "metadata": {
    "collapsed": false
   },
   "outputs": [
    {
     "data": {
      "text/plain": [
       "list"
      ]
     },
     "execution_count": 6,
     "metadata": {},
     "output_type": "execute_result"
    }
   ],
   "source": [
    "type(adjacency_matrix_directed)"
   ]
  },
  {
   "cell_type": "markdown",
   "metadata": {},
   "source": [
    "### 1.3.2 크기, 측정, 연결\n",
    "\n",
    "- 제목에 정의 된 가장 간단한 스칼라 수량은이 경우 쉽게 계산할 수 있습니다 다양한 식품 웹의 우리는 그것들을 여기서 기억합니다 :\n",
    "-  그래프 이론에서 종의 수는 그래프의 꼭지점 수에 해당합니다.\n",
    "- 그래프 이론에서 그래프의 크기 인 모서리 수 m에 해당하는 포식의 수 L;\n",
    "- 이 경우 정점 (즉, B, I, T)의 각기 다른 특성을 구별 할 수 있기 때문에 종의 비율과 그 사이의 링크를 측정 할 수 있습니다.\n",
    "- 그래프의 밀도에 상응하는 연결 C ~ L / S ^ 2 (실제 가능한 가장자리를 가능한 최대 수로 나눈 값)."
   ]
  },
  {
   "cell_type": "code",
   "execution_count": 7,
   "metadata": {
    "collapsed": false
   },
   "outputs": [
    {
     "data": {
      "text/plain": [
       "4"
      ]
     },
     "execution_count": 7,
     "metadata": {},
     "output_type": "execute_result"
    }
   ],
   "source": [
    "#the number of species is the number of rows or columns of \n",
    "#the adjacency matrix\n",
    "num_species=len(adjacency_matrix_directed[0])\n",
    "num_species"
   ]
  },
  {
   "cell_type": "code",
   "execution_count": 8,
   "metadata": {
    "collapsed": true
   },
   "outputs": [],
   "source": [
    "#the number of links or predations is the non zero elements \n",
    "#of the adjacency matrix (this holds for directed graphs\n",
    "num_predations=0\n",
    "for i in range(num_species):\n",
    "    for j in range(num_species):\n",
    "        if adjacency_matrix_directed[i][j]!=0:\n",
    "            num_predations=num_predations+1"
   ]
  },
  {
   "cell_type": "code",
   "execution_count": 9,
   "metadata": {
    "collapsed": false
   },
   "outputs": [
    {
     "data": {
      "text/plain": [
       "4"
      ]
     },
     "execution_count": 9,
     "metadata": {},
     "output_type": "execute_result"
    }
   ],
   "source": [
    "num_predations"
   ]
  },
  {
   "cell_type": "code",
   "execution_count": 10,
   "metadata": {
    "collapsed": true
   },
   "outputs": [],
   "source": [
    "#to check if a specie is a Basal (B), an Intermediate (I) or\n",
    "#a Top (T) one  we have to check the presence of 1s both in \n",
    "#the row and in the column of each specie\n",
    "row_count=[0,0,0,0]\n",
    "column_count=[0,0,0,0]\n",
    "for i in range(num_species):\n",
    "    for j in range(num_species):\n",
    "        row_count[i]=row_count[i]+adjacency_matrix_directed[i][j]\n",
    "        column_count[j]=column_count[j]+ \\\n",
    "        adjacency_matrix_directed[i][j]"
   ]
  },
  {
   "cell_type": "code",
   "execution_count": 11,
   "metadata": {
    "collapsed": false
   },
   "outputs": [
    {
     "data": {
      "text/plain": [
       "[2, 1, 1, 0]"
      ]
     },
     "execution_count": 11,
     "metadata": {},
     "output_type": "execute_result"
    }
   ],
   "source": [
    "row_count"
   ]
  },
  {
   "cell_type": "code",
   "execution_count": 12,
   "metadata": {
    "collapsed": false
   },
   "outputs": [
    {
     "data": {
      "text/plain": [
       "[0, 1, 1, 2]"
      ]
     },
     "execution_count": 12,
     "metadata": {},
     "output_type": "execute_result"
    }
   ],
   "source": [
    "column_count"
   ]
  },
  {
   "cell_type": "code",
   "execution_count": 13,
   "metadata": {
    "collapsed": true
   },
   "outputs": [],
   "source": [
    "number_B=0\n",
    "number_I=0\n",
    "number_T=0"
   ]
  },
  {
   "cell_type": "code",
   "execution_count": 14,
   "metadata": {
    "collapsed": true
   },
   "outputs": [],
   "source": [
    "for n in range(num_species):\n",
    "    if row_count[n]==0:\n",
    "        number_T+=1\n",
    "        continue\n",
    "    if column_count[n]==0:\n",
    "        number_B+=1\n",
    "        continue\n",
    "    else:\n",
    "        number_I+=1"
   ]
  },
  {
   "cell_type": "code",
   "execution_count": 15,
   "metadata": {
    "collapsed": false
   },
   "outputs": [
    {
     "name": "stdout",
     "output_type": "stream",
     "text": [
      "number of species 4\n",
      "number of predations 4\n",
      "classes Basal, Top, Intermediate:  1 1 2\n",
      "connectance 0.25\n"
     ]
    }
   ],
   "source": [
    "print (\"number of species\", num_species)\n",
    "print (\"number of predations\", num_predations)\n",
    "print (\"classes Basal, Top, Intermediate: \",number_B,number_T,number_I)\n",
    "print (\"connectance\", float(num_predations)/float(num_species**2))"
   ]
  },
  {
   "cell_type": "markdown",
   "metadata": {},
   "source": [
    "### 1.3.3 Degree\n",
    "\n",
    "- 버텍스를 특징 짓는 가장 간단한 양은 연결 수\n",
    "\n",
    "- Degree라고 부르는데, 때로는 (물리학 자에 의해) \"연결성\"이라고 불리는 경우도 있음. \n",
    "\n",
    "- 따라서 Degree는 \"로컬\" 양. (하나의 정점만 검사하여 정도). \n",
    "- 다음에 우리는 두 개 이상의 정점 이웃을 포함하는 그래프의 비경 측정을 볼 것이고 또한 \"전역\" 이며 계산할 전체 시스템의 검사 (즉, 중간 정도)를 필요로 하는 측정을 볼 것\n",
    "\n",
    "\n",
    "- 빈도 분포는 긴 꼬리 (또는 스케일이 없는 분포)의 존재가 시스템에서 장거리 상관 관계의 서명으로 해석된다는 의미. \n",
    "    - 전통적으로 \"복잡성\"의 서명으로 사용됩니다. 그래프가 지향 될 때 우리는 in-degree와 out-degree를 구별 할 수 있습니다. \n",
    "    \n",
    "    \n",
    "- 전자가 다른 생물체를 먹을 때 우리가 받는 에너지와 같은 링크를 생성하는 계정은 나가는 링크 \n",
    "    - 예를 들어 웹 페이지에서 우리가 좋아하는 다른 페이지로 연결하는 하이퍼 링크를 설명. 일단 우리가 그래프의 행렬을 가지면, 정도를 쉽게 계산할 수 있습니다. \n",
    "    \n",
    "\n",
    "- 그래프가 지향되면 (비대칭) 행렬 A의 행을 따른 합계가 열을 따르는 합계와 다릅니다 (행렬이 대칭이고 그래프가 방향이 지정되지 않은 경우는 아닙니다). \n",
    "    - 공식에서, 그래프에 가중치가 부여되면 연결 수 (도)와 가중치 또는 강도를 구별하여 이전 정의를 확장 할 수 있습니다. \n",
    "\n",
    "\n",
    "- 전형적으로 실제 상황에서는 힘과 정도 사이에 힘과의 관계가 있다 (Barrat et al., 2004)"
   ]
  },
  {
   "cell_type": "code",
   "execution_count": 17,
   "metadata": {
    "collapsed": false
   },
   "outputs": [
    {
     "name": "stdout",
     "output_type": "stream",
     "text": [
      "degree of node 2: 3\n"
     ]
    }
   ],
   "source": [
    "#for the undirected network\n",
    "degree_node_2=0\n",
    "for j in adjacency_matrix[1]:\n",
    "    degree_node_2=degree_node_2+j\n",
    "print (\"degree of node 2:\",degree_node_2)"
   ]
  },
  {
   "cell_type": "code",
   "execution_count": 18,
   "metadata": {
    "collapsed": true
   },
   "outputs": [],
   "source": [
    "#and for the directed case we already calculated the sum over \n",
    "#the rows and columns for the adjacency_matrix_directed\n",
    "out_degree_node_3=row_count[2]\n",
    "in_degree_node_4=column_count[3]"
   ]
  },
  {
   "cell_type": "code",
   "execution_count": 19,
   "metadata": {
    "collapsed": false
   },
   "outputs": [
    {
     "data": {
      "text/plain": [
       "[0, 1, 1, 2]"
      ]
     },
     "execution_count": 19,
     "metadata": {},
     "output_type": "execute_result"
    }
   ],
   "source": [
    "column_count"
   ]
  },
  {
   "cell_type": "code",
   "execution_count": 20,
   "metadata": {
    "collapsed": false
   },
   "outputs": [
    {
     "name": "stdout",
     "output_type": "stream",
     "text": [
      "out_degree node 3: 1\n",
      "in_degree node 4: 2\n"
     ]
    }
   ],
   "source": [
    "print (\"out_degree node 3:\",out_degree_node_3)\n",
    "print (\"in_degree node 4:\",in_degree_node_4)"
   ]
  },
  {
   "cell_type": "code",
   "execution_count": 122,
   "metadata": {
    "collapsed": false
   },
   "outputs": [
    {
     "name": "stdout",
     "output_type": "stream",
     "text": [
      "3\n"
     ]
    }
   ],
   "source": [
    "import networkx as nx\n",
    "\n",
    "#generate an empty graph\n",
    "G=nx.Graph()\n",
    "\n",
    "#define the nodes\n",
    "G.add_node(1)\n",
    "G.add_node(2)\n",
    "G.add_node(3)\n",
    "G.add_node(4)\n",
    "\n",
    "#link the nodes\n",
    "G.add_edge(1,2)\n",
    "G.add_edge(1,4)\n",
    "G.add_edge(2,3)\n",
    "G.add_edge(2,4)\n",
    "\n",
    "#degree of the node 2\n",
    "print (G.degree(2))"
   ]
  },
  {
   "cell_type": "code",
   "execution_count": 123,
   "metadata": {
    "collapsed": false
   },
   "outputs": [
    {
     "name": "stdout",
     "output_type": "stream",
     "text": [
      "Populating the interactive namespace from numpy and matplotlib\n"
     ]
    },
    {
     "data": {
      "image/png": "[encoded data removed]",
      "text/plain": [
       "<matplotlib.figure.Figure at 0x107cd6048>"
      ]
     },
     "metadata": {},
     "output_type": "display_data"
    }
   ],
   "source": [
    "%pylab inline\n",
    "nx.draw(G, with_labels=True)"
   ]
  },
  {
   "cell_type": "markdown",
   "metadata": {},
   "source": [
    "### 1.4 Degree 순서\n",
    "\n",
    "- 대형 네트워크를 다룰 때는 그래프의 다양한 각도의 목록 인 차수 순서를 제공하여 연결에 대한 정보를 처리\n",
    "\n",
    "- 학위 순서에 대한 히스토그램을 작성하여 요약 할 수 있음. \n",
    "\n",
    "- 모든 그래프의 차수 순서는 분명히 모든 수열이 그래프를 생성 할 수있는 것은 아닙니다. \n",
    "    - 예를 들어, 방향이 지정되지 않은 그래프의 모든 각도의 합은 짝수 여야합니다\n",
    "    - 모든 가장자리를 두 번 계산하면 학위 순서의 요소 합계가 2E입니다. 여기서 E는 가장자리의 총 개수입니다. \n",
    "\n",
    "- 결과적으로 합이 홀수 인 모든 차수 시퀀스는 그래프를 형성 할 수 없습니다.\n",
    "    - degree sequence의 원소들의 합이 짝수 일지라도, 대부분 배열은 불가능함"
   ]
  },
  {
   "cell_type": "code",
   "execution_count": 25,
   "metadata": {
    "collapsed": false
   },
   "outputs": [
    {
     "data": {
      "text/plain": [
       "[[0, 1, 0, 1], [1, 0, 1, 1], [0, 1, 0, 0], [1, 1, 0, 0]]"
      ]
     },
     "execution_count": 25,
     "metadata": {},
     "output_type": "execute_result"
    }
   ],
   "source": [
    "adjacency_matrix"
   ]
  },
  {
   "cell_type": "code",
   "execution_count": 26,
   "metadata": {
    "collapsed": false
   },
   "outputs": [
    {
     "name": "stdout",
     "output_type": "stream",
     "text": [
      "[2, 3, 1, 2]\n"
     ]
    }
   ],
   "source": [
    "degree_sequence=[]\n",
    "for row in range(len(adjacency_matrix)):\n",
    "    degree=0\n",
    "    for j in adjacency_matrix[row]:\n",
    "        degree=degree+j\n",
    "    degree_sequence.append(degree)\n",
    "\n",
    "print (degree_sequence)"
   ]
  },
  {
   "cell_type": "markdown",
   "metadata": {},
   "source": [
    "### 1.4.1 차수 순서, 히스토그램 그리기\n",
    "\n",
    "- 앞에서 언급했듯이 네트워크가 클 경우 그래프를 설명하는 데 도움이되는 단일 플롯 또는 이미지가 필요합니다. \n",
    "\n",
    "- 히스토그램은 이러한 목적을위한 최선의 선택이며 원시 데이터 분석을 통해 이러한 객체를 그리는 방법을 배우는 것이 중요합니다. \n",
    "\n",
    "<img src = 'img/network_1_3.png', width =500, height= 500>"
   ]
  },
  {
   "cell_type": "code",
   "execution_count": 27,
   "metadata": {
    "collapsed": false
   },
   "outputs": [
    {
     "data": {
      "image/png": "[encoded data removed]",
      "text/plain": [
       "<matplotlib.figure.Figure at 0x1078aec88>"
      ]
     },
     "metadata": {},
     "output_type": "display_data"
    }
   ],
   "source": [
    "import matplotlib.pyplot as plt\n",
    "\n",
    "plt.hist([1,1,1,1,1,1,1,2,2,2,3,3,4,5],bins=5)\n",
    "plt.show()"
   ]
  },
  {
   "cell_type": "markdown",
   "metadata": {},
   "source": [
    "### 1.5 클러스터링 계수 및 모티프\n",
    "\n",
    "- 클러스터링 계수는 지역 규모에서 사회 구조의 표준, 기본 척도 \n",
    "\n",
    "- 클러스터링 계수는 Frank가 John과 Charlie의 친구 인 경우 John과 Charlie도 서로 친구가 될 가능성을 제공 \n",
    "- 그래프의 경우 다른 꼭지점에 연결된 특정 꼭지점 i에 초점을 맞추면 클러스터링 계수 ci는 이러한 꼭지점의 대상도 링크로 연결될 확률을 측정한다는 것\n",
    "\n",
    "- 실제 네트워크는 일련의 무작위로 연결된 꼭지점에서 예상보다 큰 클러스터링을 특징으로 함. \n",
    "\n",
    "- 음식 웹과 같이 방향성이 있는 네트워크의 경우 가장 자리가 방향을 가지기 때문에 어느 삼각형을 고려해야 하는지 결정하기가 다소 어렵다는 점을 알아 두는 것이 중요함.\n",
    "\n",
    "- 자유도를 고려하여 간단한 삼각형 구조가 다양한 모양의 다양한 (9 가지) 가정을 할 수 있음. 그러한 모양을 모티브 (motifs) 라 부르며 그 통계는 지역 규모에서 시스템의 밀도에 대해 뭔가를 나타낼 수 있음\n",
    "\n",
    "> **모티브** : 모티브란 작은 subgraph의 일종인데 전체적으로 그 발현빈도가 무작위 그래프에서의 평균 발생빈도 이상으로 자주 나타나는 생물학저적 구조체, Ex) 자연어 처리에서 은, 는, 이, 가, a, the와 같이 자주 나오는 글자\n",
    "\n",
    "\n",
    "<img src ='https://lsy5518.files.wordpress.com/2014/02/cclocal1.png', width =500, height= 500>\n",
    "\n",
    "> **클러스터링** :\n",
    "> 이전에 정의 된 노드에 관해서는 특정 노드에 대한 클러스터링 계수를 코딩 할 수 있음. 예를 들어, Fig. 1.5와 노드 \"2\"에서 우리는 노드 \"2\"의 이웃들 사이의 연결을 계산하고 그들 사이의 가능한 모든 연결 (정도 * (degree-1) / 2)으로 나누는 클러스터링 계수를 나타낼 수 있음. 먼저 \"2\"의 이웃리스트 인덱스를 계산합니다.\n",
    "\n",
    "- 기본적인 관점에서 화살표가 가리키는 노드를 중심으로 봤을 때 이웃한 두 노드가 연결되어 있을 확률이라고 볼 수 있는 것이지요.\n",
    "\n",
    "- 위의 전체 집단화 계수가 네트워크 전체에 대한 값이라면, 부분 집단화 계수는 노드별로 가지는 값입니다. 어떤 노드의 부분 집단화 계수는 ‘그 노드와 이웃한 노드 사이에서 생길 수 있는 가능한 모든 엣지 수 중 실제로 존재하는 엣지의 수’가 됩니다.\n",
    "\n",
    "- 그림을 보면, A와 B 모두 화살표가 가리키는 노드와 이웃한 노드가 3개씩 있습니다. 이웃한 세 노드 사이에 생길 수 있는 모든 엣지는 3개인데, A 네트워크는 3개의 엣지가 있으므로 부분 집단화 계수는 1(3/3)이고, B 네트워크는 1개의 엣지가 있기 때문에 1/3이 되는 것입니다.\n",
    "\n",
    "- 네트워크 전체의 집단화 계수를 부분 집단화 계수로 구할 때는 모든 노드의 부분 집단화 계수의 평균을 내서 사용합니다.\n",
    "\n",
    "\n",
    "<img src = 'img/network_1_4.png', width =500, height= 500>"
   ]
  },
  {
   "cell_type": "code",
   "execution_count": 32,
   "metadata": {
    "collapsed": false
   },
   "outputs": [
    {
     "data": {
      "text/plain": [
       "[1, 0, 1, 1]"
      ]
     },
     "execution_count": 32,
     "metadata": {},
     "output_type": "execute_result"
    }
   ],
   "source": [
    "adjacency_matrix[1]"
   ]
  },
  {
   "cell_type": "code",
   "execution_count": 43,
   "metadata": {
    "collapsed": false
   },
   "outputs": [
    {
     "name": "stdout",
     "output_type": "stream",
     "text": [
      "\r\n",
      "[0, 2, 3]\n"
     ]
    }
   ],
   "source": [
    "row=1 #stands for the node 2\n",
    "node_index_count=0\n",
    "node_index_list=[]\n",
    "for a_ij in adjacency_matrix[row]:\n",
    "    if a_ij==1:\n",
    "        node_index_list.append(node_index_count)\n",
    "    node_index_count=node_index_count+1    \n",
    "print (\"\\r\")\n",
    "print (node_index_list)"
   ]
  },
  {
   "cell_type": "code",
   "execution_count": 44,
   "metadata": {
    "collapsed": true
   },
   "outputs": [],
   "source": [
    "neighb_conn=0\n",
    "for n1 in node_index_list:\n",
    "    for n2 in node_index_list:\n",
    "        if adjacency_matrix[n1][n2]==1:\n",
    "            neighb_conn=neighb_conn+1"
   ]
  },
  {
   "cell_type": "code",
   "execution_count": 45,
   "metadata": {
    "collapsed": false
   },
   "outputs": [
    {
     "name": "stdout",
     "output_type": "stream",
     "text": [
      "1.0\n",
      "0.3333333333333333\n"
     ]
    }
   ],
   "source": [
    "#we have indeed counted them twice...\n",
    "neighb_conn=neighb_conn/2.0\n",
    "print (neighb_conn)\n",
    "\n",
    "#Finally the clustering coefficient for node '2' is given by the expression:\n",
    "clustering_coefficient=neighb_conn/ \\\n",
    "(degree_node_2*(degree_node_2-1)/2.0) \n",
    "print (clustering_coefficient)"
   ]
  },
  {
   "cell_type": "markdown",
   "metadata": {},
   "source": [
    "### 1.5.1 종간의 생태학적 수준과 범주, bowtie\n",
    "\n",
    "- vertices 를 웹페이지라 보고 edges 를 하이퍼 링크라 보면 웹을 directed graph 이해할 수 있음\n",
    "    - 사람들이 첫번째로 웹이 어떻게 생겼는지 확인하기 위해 시도한 방법은 crawling, 즉 링크를 따라가며 모든 웹페이지를 긁는 방식\n",
    "    - 실제로 해보니 2000 년도에는 200 milions 의 node, 1 bilion 의 edge 가 있었다고 한다.\n",
    "    - 그럼 이게 어떻게 생겼을까? one big scc 일거라 보는 관점이 있다. 한쪽에선 오래된 웹페이지들이 있고, 더 뻗어나가지 않는다. 이쪽을 out 이라 보면 반대편에서는 새로운 웹페이지들이 생겨 기존의 웹페이지에 edge 를 붙여 나가는 in 부분이 있다고 할 수 있다. 몇몇 부분에는 전혀 연결이 되지 않은 부분이 있을 수 있다.\n",
    "    - 웹의 core 부분은 well connected 되어 있는데 small world property 를 가지고 있다. 무슨말이냐면 모든 노드가 각각 서로 연결되어 있진 않지만 연결을 많이 가지고 있는 특정 몇몇 노드에 의해 모든 노드가 연결된다는 뜻이다. 결국 서로 연결되는데 몇 hop 안걸린다 볼 수 있다.\n",
    "\n",
    "\n",
    "- **Bow-tie structure of the Web**\n",
    "<img src='http://bparsia.files.wordpress.com/2009/11/bowtieweb.png?w=600&h=364', width =500, height= 500>\n",
    "\n",
    "\n",
    "- 음식 웹 데이터의 특징 중 하나는 환경과의 거리로 정의 된 여러 레벨의 꼭지점을 배열 할 수 있다는 것\n",
    "    - 평소와 같이 그래프의 거리는 두 꼭지점 사이를 이동하는 최소 가장자리 수에 해당.\n",
    "    - 결과적으로 우리는 포식과 관련된 in / out 링크에 따라 카테고리를 정의 할 수 있음 \n",
    "    \n",
    "\n",
    "- 포식자가 없는 모든 종은 상위 (T)로 표시되고, 먹이가 없는 종 (환경과는 별도로)은 모두 기초 (B)로 표시됩니다. 나머지는 모두 중급 (I)입니다. \n",
    "- 기초 종 외에도 중간 종 또는 상위 종은 환경과 다소 간 떨어져 있을 수 있음\n",
    "- 10 세기 수준의 종은 기초가 될 것 같지만 최고 수준의 종은 최고 수준의 종일 수 있음. \n",
    "- 수준과 구성의 보편성에 대한 연구는 식품 웹 보편성 추구의 전통적인 양적 생태 분석 중 하나입니다. \n",
    "\n",
    "\n",
    "- 푸드 웹 네트워크의 다양한 레벨을 식별하기 위해 모든 노드 쌍 사이의 거리를 계산할 수 있는 알고리즘이 필요. \n",
    "    - level과 노드 클래스의 개념에 대한 일반화는 WWW (Broder et al., 2000)에서 최초로 발견 된 구조 인 bowtie의 개념\n",
    "    - 경제 후반기 (Vitali et al., 2011) 및 금융 시스템. 하나의 방향성이 있는 네트워크라면 서로 도달 할 수있는 노드 집합을 결정할 수 있음\n",
    "\n",
    "\n",
    "- 그들은 강하게 연결된 구성 요소 (SCC : Strongly connected component)를 형성 \n",
    "    - IN의 모든 노드들은 SCC로 도달 가능한 경로를 가지고 있지만, SCC에서 도달 가능한 경로는 가지고 있지 않다.\n",
    "    - OUT의 모든 노드들은 IN과는 반대로 SCC에서 도달 가능한 경로는 가지고 있지만, SCC로 도달 가능한 경로는 가지고 있지 않다.\n",
    "    - Tendrils는 IN 또는 OUT에 연결되어 있는 컴포넌트로, Tendrils에 속한 노드들은 SCC로 도달하거나 SCC로부터 도달할 수 있는 경로가 존재하지 않는다. \n",
    "    - 특히, Tendrils 중 SCC를 거치지 않고 IN에서 OUT으로 직접 도달 가능한 경로를 갖는 노드들의 집합을 Tubes라 정의한다. \n",
    "    - SCC는 전체 WCC의 약 25%를 차지하고, IN, OUT, Tendrils는 각각 전체 WCC의 약 20%를 차지하는 것으로 나타났다.\n",
    "    - 최고 종과 OUT 구성 요소 사이의 기술적 차이에도 불구하고 두 구조는 약간의 유사점을 갖음"
   ]
  },
  {
   "cell_type": "code",
   "execution_count": 73,
   "metadata": {
    "collapsed": true
   },
   "outputs": [],
   "source": [
    "#loading the network\n",
    "file_name=\"./data/Ythan_Estuary.txt\""
   ]
  },
  {
   "cell_type": "code",
   "execution_count": 74,
   "metadata": {
    "collapsed": true
   },
   "outputs": [],
   "source": [
    "DG = nx.DiGraph()"
   ]
  },
  {
   "cell_type": "code",
   "execution_count": 75,
   "metadata": {
    "collapsed": false
   },
   "outputs": [],
   "source": [
    "in_file=open(file_name,'r')\n",
    "while True:\n",
    "    next_line=in_file.readline()\n",
    "    if not next_line:\n",
    "        break\n",
    "    next_line_fields=next_line[:-2].split(' ')\n",
    "    node_a=next_line_fields[1] #there is a space in the beginning \n",
    "                               #of each edge\n",
    "    node_b=next_line_fields[2]\n",
    "    DG.add_edge(node_a, node_b)"
   ]
  },
  {
   "cell_type": "code",
   "execution_count": 76,
   "metadata": {
    "collapsed": false
   },
   "outputs": [
    {
     "name": "stdout",
     "output_type": "stream",
     "text": [
      " 0 100\n",
      "\n"
     ]
    }
   ],
   "source": [
    "in_file=open(file_name,'r')\n",
    "next_line = in_file.readline()\n",
    "print(next_line);"
   ]
  },
  {
   "cell_type": "code",
   "execution_count": 11,
   "metadata": {
    "collapsed": false
   },
   "outputs": [
    {
     "name": "stdout",
     "output_type": "stream",
     "text": [
      "{'': {}, '93': {}, '133': {}, '92': {}, '3': {}, '62': {}, '116': {}, '87': {}, '13': {}, '76': {}, '8': {}, '90': {}, '0': {}, '46': {}, '111': {}, '124': {}, '5': {}, '89': {}, '52': {}, '56': {}, '120': {}, '121': {}, '12': {}, '73': {}, '132': {}, '4': {}, '102': {}, '60': {}, '122': {}, '134': {}, '123': {}, '45': {}, '98': {}, '108': {}, '118': {}, '125': {}, '11': {}, '117': {}, '74': {}, '10': {}, '109': {}, '7': {}, '128': {}, '91': {}, '105': {}, '61': {}, '97': {}, '47': {}, '48': {}, '51': {}, '81': {}, '54': {}, '1': {}, '95': {}, '55': {}, '94': {}, '101': {}, '2': {}, '106': {}, '79': {}, '114': {}, '129': {}, '70': {}, '112': {}, '126': {}, '107': {}, '59': {}, '85': {}, '77': {}, '83': {}, '80': {}, '50': {}, '9': {}, '127': {}, '110': {}, '84': {}, '63': {}, '58': {}, '88': {}, '119': {}, '130': {}, '99': {}, '78': {}, '44': {}, '64': {}, '6': {}, '71': {}, '103': {}, '100': {}, '49': {}, '113': {}, '131': {}, '115': {}, '96': {}, '72': {}, '104': {}, '75': {}}\n"
     ]
    }
   ],
   "source": [
    "print(DG.node)"
   ]
  },
  {
   "cell_type": "code",
   "execution_count": 12,
   "metadata": {
    "collapsed": false
   },
   "outputs": [
    {
     "data": {
      "text/plain": [
       "248"
      ]
     },
     "execution_count": 12,
     "metadata": {},
     "output_type": "execute_result"
    }
   ],
   "source": [
    "DG.size()"
   ]
  },
  {
   "cell_type": "code",
   "execution_count": null,
   "metadata": {
    "collapsed": true
   },
   "outputs": [],
   "source": [
    "from itertools import islice"
   ]
  },
  {
   "cell_type": "code",
   "execution_count": 36,
   "metadata": {
    "collapsed": false
   },
   "outputs": [
    {
     "data": {
      "text/plain": [
       "{'': 27,\n",
       " '116': 9,\n",
       " '118': 5,\n",
       " '13': 2,\n",
       " '133': 5,\n",
       " '3': 17,\n",
       " '62': 3,\n",
       " '87': 2,\n",
       " '92': 1,\n",
       " '93': 1}"
      ]
     },
     "execution_count": 36,
     "metadata": {},
     "output_type": "execute_result"
    }
   ],
   "source": [
    "dict(islice(DG.degree().items(), 0, 10))"
   ]
  },
  {
   "cell_type": "code",
   "execution_count": 77,
   "metadata": {
    "collapsed": true
   },
   "outputs": [],
   "source": [
    "#deleting the environment\n",
    "DG.remove_node('')"
   ]
  },
  {
   "cell_type": "code",
   "execution_count": 120,
   "metadata": {
    "collapsed": false
   },
   "outputs": [],
   "source": [
    "G = nx.cycle_graph(4, create_using=nx.DiGraph())\n",
    "G.add_cycle([10, 11, 12])"
   ]
  },
  {
   "cell_type": "code",
   "execution_count": 121,
   "metadata": {
    "collapsed": false
   },
   "outputs": [
    {
     "data": {
      "image/png": "[encoded data removed]",
      "text/plain": [
       "<matplotlib.figure.Figure at 0x109c8c588>"
      ]
     },
     "metadata": {},
     "output_type": "display_data"
    }
   ],
   "source": [
    "nx.draw(G, with_labels=True)"
   ]
  },
  {
   "cell_type": "code",
   "execution_count": 78,
   "metadata": {
    "collapsed": false
   },
   "outputs": [
    {
     "data": {
      "text/plain": [
       "[4, 3]"
      ]
     },
     "execution_count": 78,
     "metadata": {},
     "output_type": "execute_result"
    }
   ],
   "source": [
    "[len(c) for c in sorted(nx.strongly_connected_components(G), key=len, reverse=True)]"
   ]
  },
  {
   "cell_type": "code",
   "execution_count": 91,
   "metadata": {
    "collapsed": false
   },
   "outputs": [],
   "source": [
    "#getting the biggest strongly connected component\n",
    "scc=[(len(c),c) for c in sorted( nx.strongly_connected_components(DG), key=len, reverse=True)][0][1]"
   ]
  },
  {
   "cell_type": "code",
   "execution_count": 92,
   "metadata": {
    "collapsed": false
   },
   "outputs": [
    {
     "data": {
      "text/plain": [
       "{'8'}"
      ]
     },
     "execution_count": 92,
     "metadata": {},
     "output_type": "execute_result"
    }
   ],
   "source": [
    "scc"
   ]
  },
  {
   "cell_type": "code",
   "execution_count": 93,
   "metadata": {
    "collapsed": false
   },
   "outputs": [],
   "source": [
    "#preparing the IN and OUT component\n",
    "IN_component=[]\n",
    "for n in scc:\n",
    "    for s in DG.predecessors(n):\n",
    "        if s in scc: continue\n",
    "        if not s in IN_component:\n",
    "            IN_component.append(s)"
   ]
  },
  {
   "cell_type": "code",
   "execution_count": 94,
   "metadata": {
    "collapsed": false
   },
   "outputs": [
    {
     "data": {
      "text/plain": [
       "['81', '133', '72', '95', '71', '116', '94', '101', '85']"
      ]
     },
     "execution_count": 94,
     "metadata": {},
     "output_type": "execute_result"
    }
   ],
   "source": [
    "IN_component[1:10]"
   ]
  },
  {
   "cell_type": "code",
   "execution_count": 95,
   "metadata": {
    "collapsed": true
   },
   "outputs": [],
   "source": [
    "OUT_component=[]\n",
    "for n in scc:\n",
    "    for s in DG.successors(n):\n",
    "        if s in scc: continue\n",
    "        if not s in OUT_component:\n",
    "            OUT_component.append(s)"
   ]
  },
  {
   "cell_type": "code",
   "execution_count": 96,
   "metadata": {
    "collapsed": true
   },
   "outputs": [],
   "source": [
    "#generating the subgraph\n",
    "bowtie= list(scc)+IN_component+OUT_component\n",
    "DG_bowtie = DG.subgraph(bowtie)"
   ]
  },
  {
   "cell_type": "code",
   "execution_count": 49,
   "metadata": {
    "collapsed": false
   },
   "outputs": [
    {
     "data": {
      "text/plain": [
       "[]"
      ]
     },
     "execution_count": 49,
     "metadata": {},
     "output_type": "execute_result"
    }
   ],
   "source": [
    "OUT_component"
   ]
  },
  {
   "cell_type": "code",
   "execution_count": 101,
   "metadata": {
    "collapsed": true
   },
   "outputs": [],
   "source": [
    "#defining the proper layout\n",
    "pos={}\n",
    "in_y=100.\n",
    "pos['89']=(150.,in_y)"
   ]
  },
  {
   "cell_type": "code",
   "execution_count": 102,
   "metadata": {
    "collapsed": true
   },
   "outputs": [],
   "source": [
    "in_step=700.\n",
    "for in_n in IN_component:\n",
    "    pos[in_n]=(100.,in_y)\n",
    "    in_y=in_y+in_step\n",
    "\n",
    "out_y=100.\n",
    "out_step=500.   \n",
    "for out_n in OUT_component:\n",
    "    pos[out_n]=(200,out_y)\n",
    "    out_y=out_y+out_step\n",
    "\n",
    "pos['90']=(150.,out_y)"
   ]
  },
  {
   "cell_type": "code",
   "execution_count": 106,
   "metadata": {
    "collapsed": false
   },
   "outputs": [
    {
     "data": {
      "text/plain": [
       "dict"
      ]
     },
     "execution_count": 106,
     "metadata": {},
     "output_type": "execute_result"
    }
   ],
   "source": [
    "type(pos)"
   ]
  },
  {
   "cell_type": "code",
   "execution_count": 107,
   "metadata": {
    "collapsed": true
   },
   "outputs": [],
   "source": [
    "pos=nx.spring_layout(DG_bowtie)"
   ]
  },
  {
   "cell_type": "code",
   "execution_count": 118,
   "metadata": {
    "collapsed": false
   },
   "outputs": [
    {
     "data": {
      "text/plain": [
       "<matplotlib.collections.PathCollection at 0x109f6d048>"
      ]
     },
     "execution_count": 118,
     "metadata": {},
     "output_type": "execute_result"
    },
    {
     "data": {
      "image/png": "[encoded data removed]",
      "text/plain": [
       "<matplotlib.figure.Figure at 0x109ca9cf8>"
      ]
     },
     "metadata": {},
     "output_type": "display_data"
    }
   ],
   "source": [
    "#plot the bowtie structure\n",
    "nx.draw(DG_bowtie, pos, node_size=50, with_labels=True)\n",
    "nx.draw_networkx_nodes(DG_bowtie, pos, IN_component, node_size=100, node_color='Black')\n",
    "nx.draw_networkx_nodes(DG_bowtie, pos, OUT_component, node_size=100, node_color='White')\n",
    "nx.draw_networkx_nodes(DG_bowtie, pos, scc, node_size=200, node_color='Grey')"
   ]
  },
  {
   "cell_type": "markdown",
   "metadata": {},
   "source": [
    "<img src = 'img/network_1_5.png', width =500, height= 500>\n",
    "Fig. 1.7 The procedure of the Breadth First Search (BFS) algorithm. Starting from a root node at distance d 0 at successive time steps we explore the neighbours at increasing distances."
   ]
  },
  {
   "cell_type": "code",
   "execution_count": 124,
   "metadata": {
    "collapsed": false
   },
   "outputs": [
    {
     "name": "stdout",
     "output_type": "stream",
     "text": [
      "['B', 'C']\n"
     ]
    },
    {
     "data": {
      "image/png": "[encoded data removed]",
      "text/plain": [
       "<matplotlib.figure.Figure at 0x107f9f710>"
      ]
     },
     "metadata": {},
     "output_type": "display_data"
    }
   ],
   "source": [
    "#creating the graph\n",
    "G=nx.Graph()\n",
    "G.add_edges_from([('A','B'),('A','C'),('C','D'),('C','E'),('D','F'),\n",
    "('D','H'),('D','G'),('E','H'),('E','I')])\n",
    "\n",
    "#printing the neighbors of the node 'A'\n",
    "print(G.neighbors('A'))\n",
    "\n",
    "nx.draw(G, with_labels=True)"
   ]
  },
  {
   "cell_type": "code",
   "execution_count": 125,
   "metadata": {
    "collapsed": false
   },
   "outputs": [
    {
     "name": "stdout",
     "output_type": "stream",
     "text": [
      "['A']\n",
      "B 1\n",
      "C 1\n",
      "H 3\n",
      "F 3\n",
      "G 3\n",
      "A 0\n",
      "I 3\n",
      "E 2\n",
      "D 2\n"
     ]
    }
   ],
   "source": [
    "root_node='A'\n",
    "queue=[]\n",
    "queue.append('A')\n",
    "print(queue);\n",
    "G.node['A'][\"distance\"]=0\n",
    "while len(queue):\n",
    "    working_node=queue.pop(0)\n",
    "    for n in G.neighbors(working_node):\n",
    "        if len(G.node[n])==0:\n",
    "            G.node[n][\"distance\"]=G.node[working_node][\"distance\"]+1\n",
    "            queue.append(n)\n",
    "for n in G.nodes():\n",
    "    print (n,G.node[n][\"distance\"])   "
   ]
  },
  {
   "cell_type": "markdown",
   "metadata": {},
   "source": [
    "- 앞에서 언급했듯이 식품 웹에서 치수 편향을 제거하기 위해 영양가 있는 종 (trophic species)이 필요함. 이는 단일 노드에서 모든 노드를 동일한 먹이 / 육식 동물 패턴으로 집중시킴으로써 수행됨 \n",
    "\n",
    "- 가장 먼저해야 할 일은 데이터 집합을 네트워크 모양으로 로드하는 것입니다."
   ]
  },
  {
   "cell_type": "code",
   "execution_count": 126,
   "metadata": {
    "collapsed": true
   },
   "outputs": [],
   "source": [
    "file_name=\"./data/Little_Rock_Lake.txt\"\n",
    "\n",
    "DG = nx.DiGraph()\n",
    "\n",
    "in_file=open(file_name,'r')\n",
    "while True:\n",
    "    next_line=in_file.readline()\n",
    "    if not next_line:\n",
    "        break\n",
    "    next_line_fields=next_line[:-2].split(' ')\n",
    "    node_a=next_line_fields[1] #there is a space in the beginning \n",
    "                               #of each edge\n",
    "    node_b=next_line_fields[2]\n",
    "    DG.add_edge(node_a, node_b)"
   ]
  },
  {
   "cell_type": "markdown",
   "metadata": {},
   "source": [
    "- 특정 식품 웹이 Networkx 구조에 로드되면 작업할 수 있습니다. 가장 먼저 할 일은 이 네트워크의 트로피 버전을 생성하는 것입니다. \n",
    "\n",
    "- 사전 키의 속성을 복잡한 데이터 구조로 광범위하게 사용할 것입니다. 현재의 경우 우리는 목록 / 튜플을 패턴으로 사용하여 특정 영양 종을 식별합니다."
   ]
  },
  {
   "cell_type": "code",
   "execution_count": 127,
   "metadata": {
    "collapsed": true
   },
   "outputs": [],
   "source": [
    "# Trophic Species\n",
    "# Defining the trophic pattern key\n",
    "# 이것은 노드에 붙어있는 먹이와 포식자의 순서가 지정된 목록에서 시작하는 고유 한 키를 생성하는 방법입니다\n",
    "\n",
    "def get_node_key(node):\n",
    "    out_list=[]\n",
    "    for out_edge in DG.out_edges(node):\n",
    "        out_list.append(out_edge[1])\n",
    "    in_list=[]\n",
    "    for in_edge in DG.in_edges(node):\n",
    "        in_list.append(in_edge[0])\n",
    "    out_list.sort()\n",
    "    out_list.append('-')\n",
    "    in_list.sort()\n",
    "    out_list.extend(in_list)\n",
    "    return out_list\n",
    "\n",
    "#이 패턴 함수를 활용하여 다음과 같은 함수를 통해 영양 종을 추출 할 수 있습니다."
   ]
  },
  {
   "cell_type": "code",
   "execution_count": 128,
   "metadata": {
    "collapsed": true
   },
   "outputs": [],
   "source": [
    "## Grouping the Trophic Species and Regenerating the Trophic network\n",
    "def TrophicNetwork(DG):\n",
    "    trophic={}\n",
    "    for n in DG.nodes():\n",
    "        k=tuple(get_node_key(n))\n",
    "        if not k in trophic:\n",
    "            trophic[k]=[]\n",
    "        trophic[k].append(n)\n",
    "    for specie in trophic.keys():\n",
    "        if len(trophic[specie])>1:\n",
    "            for n in trophic[specie][1:]:\n",
    "                DG.remove_node(n)\n",
    "    return DG"
   ]
  },
  {
   "cell_type": "code",
   "execution_count": 129,
   "metadata": {
    "collapsed": true
   },
   "outputs": [],
   "source": [
    "#deleting the environment\n",
    "DG.remove_node('0')"
   ]
  },
  {
   "cell_type": "code",
   "execution_count": 130,
   "metadata": {
    "collapsed": true
   },
   "outputs": [],
   "source": [
    "TrophicDG=TrophicNetwork(DG)"
   ]
  },
  {
   "cell_type": "code",
   "execution_count": 131,
   "metadata": {
    "collapsed": false
   },
   "outputs": [
    {
     "name": "stdout",
     "output_type": "stream",
     "text": [
      "S: 49\n",
      "L: 194\n",
      "L/S: 194.0\n"
     ]
    },
    {
     "data": {
      "text/plain": [
       "49"
      ]
     },
     "execution_count": 131,
     "metadata": {},
     "output_type": "execute_result"
    }
   ],
   "source": [
    "print (\"S:\",TrophicDG.number_of_nodes())\n",
    "print (\"L:\",TrophicDG.number_of_edges())\n",
    "print (\"L/S:\",float(TrophicDG.number_of_edges()))\n",
    "TrophicDG.number_of_nodes()"
   ]
  },
  {
   "cell_type": "markdown",
   "metadata": {},
   "source": [
    "- 음식 웹 네트워크의 카테고리는 각 종의 입 / 출력 링크와 관련되어 있습니다. 우리는 먹이 (B), 포식자 인 상위 종 T (유입 링크 만), 마지막으로 먹이와 육식 동물 인 중간 종 1 (내부 및 외부 링크)을 가지고 있습니다. \n",
    "- 이전에 소개 된 \"Little Rock\" 푸드 웹 네트워크를 분류 한 Python 코드는 다음과 같습니다."
   ]
  },
  {
   "cell_type": "code",
   "execution_count": 132,
   "metadata": {
    "collapsed": false
   },
   "outputs": [
    {
     "name": "stdout",
     "output_type": "stream",
     "text": [
      "B: 0.7346938775510204\n",
      "I: 0.24489795918367346\n",
      "T: 0.02040816326530612\n"
     ]
    }
   ],
   "source": [
    "### Classes in Food Webs\n",
    "def compute_classes(DG):\n",
    "    basal_species=[]\n",
    "    top_species=[]\n",
    "    intermediate_species=[]\n",
    "    for n in DG.nodes():\n",
    "        if DG.in_degree(n)==0:\n",
    "            basal_species.append(n)\n",
    "        elif DG.out_degree(n)==0:\n",
    "            top_species.append(n)\n",
    "        else:\n",
    "            intermediate_species.append(n)\n",
    "    return (basal_species,intermediate_species,top_species)\n",
    "\n",
    "(B,I,T)=compute_classes(TrophicDG)\n",
    "print (\"B:\",float(len(B))/(len(B)+len(T)+len(I)))\n",
    "print (\"I:\",float(len(I))/(len(B)+len(T)+len(I)))\n",
    "print (\"T:\",float(len(T))/(len(B)+len(T)+len(I)))\n",
    "\n",
    "#마지막으로, 이전에 정의 된 다양한 클래스 사이의 링크 비율과 (#B + # 1) / (# [+ # T]) 정의 된 먹이 / 포식자 비율을 계산합니다."
   ]
  },
  {
   "cell_type": "code",
   "execution_count": 133,
   "metadata": {
    "collapsed": false
   },
   "outputs": [
    {
     "name": "stdout",
     "output_type": "stream",
     "text": [
      "links in BT: 0.14432989690721648\n",
      "links in BI: 0.7010309278350515\n",
      "links in II: 0.09278350515463918\n",
      "links in IT: 0.061855670103092786\n",
      "P/R: 3.6923076923076925\n"
     ]
    }
   ],
   "source": [
    "## Proportion of links among classes and ratio prey/predators\n",
    "\n",
    "def InterclassLinkProportion(DG,C1,C2):\n",
    "    count=0\n",
    "    for n1 in C1:\n",
    "        for n2 in C2:\n",
    "            if DG.has_edge(n1,n2):\n",
    "                count+=1\n",
    "    return float(count)/DG.number_of_edges()\n",
    "    \n",
    "print (\"links in BT:\",InterclassLinkProportion(TrophicDG,B,T))\n",
    "print (\"links in BI:\",InterclassLinkProportion(TrophicDG,B,I))\n",
    "print (\"links in II:\",InterclassLinkProportion(TrophicDG,I,I))\n",
    "print (\"links in IT:\",InterclassLinkProportion(TrophicDG,I,T))\n",
    "\n",
    "#Ratio prey/predators\n",
    "print (\"P/R:\",float((len(B)+len(I)))/(len(I)+len(T)))"
   ]
  },
  {
   "cell_type": "markdown",
   "metadata": {},
   "source": [
    "<img src = 'img/network_1_6.png', width =500, height= 500>"
   ]
  }
 ],
 "metadata": {
  "kernelspec": {
   "display_name": "Python 3",
   "language": "python",
   "name": "python3"
  },
  "language_info": {
   "codemirror_mode": {
    "name": "ipython",
    "version": 3
   },
   "file_extension": ".py",
   "mimetype": "text/x-python",
   "name": "python",
   "nbconvert_exporter": "python",
   "pygments_lexer": "ipython3",
   "version": "3.5.1rc1"
  }
 },
 "nbformat": 4,
 "nbformat_minor": 2
}
