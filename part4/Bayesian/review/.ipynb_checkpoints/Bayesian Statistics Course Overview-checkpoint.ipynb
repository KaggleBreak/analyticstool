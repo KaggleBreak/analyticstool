{
 "cells": [
  {
   "cell_type": "markdown",
   "metadata": {},
   "source": [
    "### 캐글즐기기 파트4 * Bayesian Statistics: Techniques and Models\n",
    "\n",
    "### link : https://www.coursera.org/learn/mcmc-bayesian-statistics\n",
    "### (베이지안) Course Overview - 이상열\n",
    "\n",
    "### Code : ps://d3c33hcgiwev3.cloudfront.net/_e6b9ab92bcaef99f2a96d0f08c0b51a3_lesson_03.html?Expires=1494460800&Signature=gvw5ELSPrRjUV7m3MusJjIhuFOdn2bZWoqnfpZcHLnhbyMwjYLb~kM0UuUDpKBGibm9Nd7IFyajcoZ~PFAlF7utBhTBhmkWsUKdb0WmmH7tyMvA~WlHQ5pO~tB2~naqodwowMmVly78VREwuvRYFqY5mmFtihpK24WFFDJuo6JU_&Key-Pair-Id=APKAJLTNE6QMUY6HBC5A\n",
    "\n",
    "\n",
    "### Module Overview\n",
    "### 1.  Statistical Modeling\n",
    "    - 1.Objectives\n",
    "    - 2.Modeling process\n",
    "    - Quiz\n",
    "### 2. Bayesian Modeling\n",
    "    - 1. Components of Bayesian models\n",
    "    - 2. Model specification\n",
    "    - 3. Posterior derivation\n",
    "    - 4. Non-conjugate models\n",
    "    - Quiz\n",
    "### 3. Monte Carlo Estimation\n",
    "    - 1. Monte Carlo integration\n",
    "    - 2. Monte Carlo error and marginalization\n",
    "    - 3. Computing examples\n",
    "    - 4. Computing Monte Carlo error\n",
    "    - Quiz\n",
    "### 4. Background: Markov chains\n",
    "    - Quiz\n",
    "\n",
    "\n",
    "\n",
    "### Module Overview\n",
    "<img src=\"img/bayes2.png\" width=\"500\" height=\"200\"/>\n",
    "\n",
    "- Real world data involving multiple variables often require more complex models to reach realistic conclusions. \n",
    "- As we encounter more widely applicable models. We will need advanced computational techniques to fit them. \n",
    "- This course will introduce Markov Chain Monte Carlo. Often referred to as MCMC methods, which allow sampling from posterior distribution that have no analytical solution. \n",
    "\n",
    "<img src=\"img/bayes3.png\" width=\"500\" height=\"200\"/>\n",
    "\n",
    "- In the first module, we will discuss statistical modelling and review how to approach your problem from a Bayesian perspective. \n",
    "- The second module is dedicated to introducing MCMC. We will describe and demonstrate two algorithms that have brought Bayesian statistics into the mainstream. \n",
    "- In the third module, we'll begin modelling real data. Will demonstrate some of the most common statical models including linear and logistic regression. \n",
    "- In the fourth module we'll look at regression for account data. And we'll introduce hierarchical modeling as a way to account for correlated data. \n",
    "- The last module contains only in assignments. This assignment puts you in the driver seat. It's your opportunity to bring together all the pieces we've built throughout these two courses and conduct your own data analysis on a project that you select. "
   ]
  },
  {
   "cell_type": "markdown",
   "metadata": {},
   "source": [
    "## 1. Statistical Modeling\n",
    "### 1-1 Objectvies\n",
    "\n",
    "<img src=\"img/bayes1_1.png\" width=\"500\" height=\"200\"/>\n",
    "\n",
    "- What are the objectives of statistical models?\n",
    "- Statistics is concerned with the entire process of planning, collecting and analyzing data to draw scientifically defensible conclusions. \n",
    "- A statistical model will be a mathematical structure used to imitate, And approximate, The data generating process. \n",
    "\n",
    "<img src=\"img/bayes1_4.png\" width=\"500\" height=\"200\"/>\n",
    "\n",
    "- let's consider a poll conducted on a sample of likely voters. Let's say that 57% of those polled are in favor of one particular candidate. \n",
    "- When presented with these results, it might be natural to ask, how confident am I in this 57% number? \n",
    "- Does it mean that 57% of all people favor that candidate? \n",
    "- Well that depends on several other questions related to how well the poll was conducted for example. \n",
    "- How were the participants selected? How many people were polled?\n",
    "- If we repeated the poll on another randomly selected sample of voters, how might that 57% number change? \n",
    "- Using probability theory, we can account for the uncertainty surrounding this estimate. \n",
    "\n",
    "<img src=\"img/bayes1_5.png\" width=\"500\" height=\"200\"/>\n",
    "\n",
    "- The first one we're going to talk about is to quantify uncertainty. \n",
    "- Suppose a statistician analyzes the poll data and concludes that with 99% confidence, the true percentage of all citizens who favor the candidate is between 51 and 63%. That's a little more informative. It gives us an idea of how much we can trust this estimate. \n",
    "\n",
    "- The second objective we'll talk about is inference. \n",
    "- In the polling example, we only know a percentage of people in the sample who support the candidate. \n",
    "- A statistical model helps us extend the result and infer what percentage of the total population supports the candidate? \n",
    "- We may also have other demographic information about each person in the poll. A statistical model might allow us to see how these other variables relate to a person's likelihood of supporting the candidate. \n",
    "\n",
    "- The next objective is measuring the evidence in the data in support or against a hypothesis\n",
    "- In the polling example, suppose an expert hypothesizes that the candidate is more popular with men than with women. \n",
    "- Luckily we have further breakdown of the poll results. Let's suppose that 55% of women favor the candidate and 59% of men favor the candidate.\n",
    "\n",
    "- The fourth and final modeling objective that we're going to talk about is prediction. \n",
    "- In the polling example, suppose we have demographic information about a particular voter. \n",
    "- But we don't know which candidate she supports. We might employ a statistical model to use what is known about about her to make an accurate prediction of her voting selection. \n",
    "- It is clear that statistical modelling has much to contribute to data science. Another key player in this arena is machine learning. \n",
    "- How does that relate to statistical modeling? Broadly, machine learning uses algorithms, some of which are based on or can be formulated as statistical models, to produce state of the art prediction. That is, machine learning specializes in and excels at this fourth objective.\n",
    "<img src=\"img/bayes1_11.png\" width=\"500\" height=\"200\"/>\n",
    "\n",
    "- Of course, who would believe a model that did not produce realistic predictions? Objective four is almost always important but doesn't necessarily answer all.\n"
   ]
  },
  {
   "cell_type": "markdown",
   "metadata": {},
   "source": [
    "### 1-2 Modeling Process\n",
    "\n",
    "<img src=\"img/bayes1_17.png\" width=\"500\" height=\"200\"/>\n",
    "\n",
    "- The first step in this process is to understand the problem. \n",
    "\n",
    "<img src=\"img/bayes1_20.png\" width=\"500\" height=\"200\"/>\n",
    "\n",
    "- For example, suppose you have revenue data from several different locations of a store chain at unknown locations. \n",
    "- It seems reasonable to average these revenue numbers as a summary of how the store is doing. \n",
    "- Then suppose you discover that the stores are located in different countries and reported revenues in different currencies. \n",
    "- Now that average doesn't seem to have much meaning unless, of course, we get the revenue numbers converted to the same scale. \n",
    "\n",
    "<img src=\"img/bayes1_21.png\" width=\"500\" height=\"200\"/>\n",
    "\n",
    "- The second step is to plan and properly collect relevant data.\n",
    "- There may be multiple quantities that you could potentially measure to help answer your question.\n",
    "- In this step, you decide what information will be most useful to solving your problem. How to collect the data and how many data points to collect.\n",
    "\n",
    "<img src=\"img/bayes1_23.png\" width=\"500\" height=\"200\"/>\n",
    "\n",
    "- The third step in this process is to explore your data\n",
    "- In this step, you should ensure that the data collection plan was followed. And that the data were recorded accurately. If there are major surprises in that data, verified that they are not errors. \n",
    "- In this step, you'll often want to visualize the data to gain a basic understanding of the relationships among your variables. This can help you decide what kinds of models might be appropriate. \n",
    "\n",
    "<img src=\"img/bayes1_25.png\" width=\"500\" height=\"200\"/>\n",
    "- The fourth step in this process is to postulate a model.\n",
    "- After gaining an understanding of how your data are structured, choose a model that can appropriately approximate or summarize the interesting content of the data. This might be an off the shelf statistical model like a regression or it could be based on a scientific theory such as a growth model. \n",
    "\n",
    "<img src=\"img/bayes1_26.png\" width=\"500\" height=\"200\"/>\n",
    "- The next step in our statistical modeling process is to fit the model. \n",
    "- In this step we need to estimate the parameters of the model using the data. In this particular class, we're going to take a Bayesian approach to this ste\n",
    "- Next, we're going to check the model.\n",
    "- Here we want to check to see if the model adequately imitates the data generating process. \n",
    "- Are predictions from the model realistic? Does it fit well to your data? Or does it completely miss some of the features? \n",
    "- We'll look into some the techniques for doing this, including residual analysis and predictive checks later in the course.\n",
    "\n",
    "<img src=\"img/bayes1_28.png\" width=\"500\" height=\"200\"/>\n",
    "\n",
    "- Next, we're going to iterate. \n",
    "- That is, return, possibly, to steps 4 through 6. If the model you have already fit is, for some reason, inadequate, we should return to step 4 and proceed through step 6 again with a new, and hopefully better, model that would address or correct the deficiencies from your previous model. \n",
    "- Finally, we're going to use the model\n",
    "- If we've iterated through these enough times and decided that the model is good, or that we have selected an appropriate model, we can use the results to answer your original research questions and arrive at conclusions. "
   ]
  },
  {
   "cell_type": "markdown",
   "metadata": {},
   "source": [
    "## 2. Bayesian Modeling\n",
    "### 2-1 Components of Bayesian models\n",
    "\n",
    "<img src=\"img/bayes1_29.png\" width=\"500\" height=\"200\"/>\n",
    "\n",
    "- This specifies a probability distribution and a model for the data. If we know the values of mu and sigma. It also suggests how we might generate more fake data that behaves similarly to our original data set.\n",
    "- A model can be as simple as the one right here or as complicated and sophisticated as we need to capture the behavior of the data. \n",
    "\n",
    "<img src=\"img/bayes2_5.png\" width=\"500\" height=\"200\"/>\n",
    "- So far, this model is the same for frequentists and Bayesians. As you may recall from the previous course.\n",
    "- To calculate our uncertainty in those estimates. A frequentist approach would consider how much the estimates of mu and sigma might change\n",
    "- If we were to repeat the sampling process and obtain another sample of 15 men, over, and over. \n",
    "- The Bayesian approach, the one we're going to take in this class. Tackles our uncertainty in mu and sigma squared with probability directly. By treating them as random variables with their own probability distributions. \n",
    "\n",
    "<img src=\"img/bayes2_6.png\" width=\"500\" height=\"200\"/>\n",
    "\n",
    "<img src=\"img/bayes2_7.png\" width=\"500\" height=\"200\"/>\n",
    "\n",
    "- The three primary components of Bayesian models that we often work with are the likelihood, the prior and the posterior. The likelihood \n",
    "- The prior, the next step, is the probability distribution that characterizes our uncertainty with the parameter theta.\n",
    "- We now have a joint probability model for both the knowns, the data, and the unknowns, the parameters. We can see this by using the chain rule of probability.\n",
    "- If we wanted the joint distribution of both the data and the parameters theta.\n",
    "- We don't need the joint distribution, what we need is the posterior distribution.\n",
    "- The posterior distribution is the distribution of theta conditional on y, theta given y. \n",
    "\n",
    "<img src=\"img/bayes2_11.png\" width=\"500\" height=\"200\"/>\n",
    "\n",
    "- We can obtain this expression right here using the laws of conditional probability and specifically using Bayes' theorem.\n",
    "- Which you may use if you do more advanced Bayesian modeling. The posterior distribution is our primary tool for achieving the statistical modeling objectives from lesson one.\n",
    "\n",
    "### Quiz\n",
    "Whereas non-bayesian approaches consider a probability model for the data only, the hallmark characteristic of bayesian models is that they specify a joint probability distribution for both data and parameters. How dows the bayesian paradigm leverage this additional assumption?\n",
    "\n",
    "1. This allows us to select the most accurate prior distribution.\n",
    "\n",
    "2. This allows us to make probabilistic assessments about how likely our particular data outcome is under any parameter setting.\n",
    "\n",
    "3. This allows us to use the laws of conditional probability to describe our updated information about parameters given the data.\n",
    "\n",
    "4. This allows us to make probabilistic assessments about hypothetical data outcomes given particular parameters values.\n"
   ]
  },
  {
   "cell_type": "markdown",
   "metadata": {},
   "source": [
    "## 2. Bayesian Modeling\n",
    "### 2-2 Model specification\n",
    "\n",
    "<img src=\"img/bayes3_1.png\" width=\"500\" height=\"200\"/>\n",
    "\n",
    "- One convenient way to do this is to write down the hierarchical form of the model. By hierarchy, we mean that the model is specified in steps or in layers.\n",
    "\n",
    "- We usually start with the model for the data directly, or the likelihood\n",
    "- So conditional on those parameters, yi came from a normal distribution that was independent and identically distributed, where the normal distribution has mean mu and variance sigma squared\n",
    "\n",
    "<img src=\"img/bayes3_2.png\" width=\"500\" height=\"200\"/>\n",
    "\n",
    "- For now we're going to say that they're independent priors. So that our prior from mu and sigma squared \n",
    "- We can assume independents in the prior and still get dependents in the posterior distribution. \n",
    "\n",
    "<img src=\"img/bayes3_3.png\" width=\"500\" height=\"200\"/>\n",
    "\n",
    "- if we know the value of sigma squared, is a normal distribution, and that the conjugate prior for sigma squared when mu is known is the inverse gamma distribution\n",
    " \n",
    "- And the inverse gamma distribution has two parameters. It has a shape parameter, we're going to call that nu 0, and a scale parameter, we'll call that beta 0. Of course, we need to choose values for these hyper parameters here. But we do now have a complete Bayesian model. \n",
    "\n",
    "\n",
    "<img src=\"img/bayes3_6.png\" width=\"500\" height=\"200\"/>\n",
    "\n",
    "- Another useful way to write out this model Is using what's called a graphical representation\n",
    "\n",
    "- In the graphical representation we draw what are called nodes so this would be a node for mu\n",
    "\n",
    "- The circle means that the this is a random variable that has its own distribution. \n",
    "- These are also random variables, so we'll create these as nodes. And I'm going to double up the circle here to indicate that these nodes are observed, you see them in the data. \n",
    "\n",
    "<img src=\"img/bayes3_7.png\" width=\"500\" height=\"200\"/>\n",
    "\n",
    "- If they're shaded, which is the usual case, that also means that they're observed. The arrows indicate the dependence between the random variables and their distributions. \n",
    "\n",
    "- We can simplify the graphical model by writing exchangeable random variables and I'll define exchangeable later.\n",
    "- To write a model like this, we must assume that the ys are exchangeable\n",
    "- Both the hierarchical and graphical representations show how you could hypothetically simulate data from this model. \n",
    "\n",
    "<img src=\"img/bayes3_8.png\" width=\"500\" height=\"200\"/>"
   ]
  },
  {
   "cell_type": "markdown",
   "metadata": {},
   "source": [
    "## 2. Bayesian Modeling\n",
    "### 2-3 Posterior derivation\n",
    "\n",
    "<img src=\"img/bayes4_1.png\" width=\"500\" height=\"200\"/>\n",
    "\n",
    "- we've only drawn the model with two levels. But in reality, there's nothing that'll stop us from adding more layers.\n",
    "- For example, instead of fixing the values for the hyper parameters in the previous segment, those hyper parameters were the mu naught, the sigma naught, the nu knot and the beta knot. \n",
    "\n",
    "<img src=\"img/bayes4_2.png\" width=\"500\" height=\"200\"/>\n",
    "\n",
    "- We will examine these types of hierarchical models in depth later in the course. \n",
    "\n",
    "- The next step, instead of doing independent priors for mu and sigma squared, we're going to have the prior for mu depend on the value of sigma squared. \n",
    "\n",
    "- And the variance of this prior will be sigma squared, this parameter, divided by omega naught. Another hyper parameter that will scale it. \n",
    "\n",
    "- We'll use our standard inverse gamma with the same hyper parameters as last time. \n",
    "\n",
    "<img src=\"img/bayes4_3.png\" width=\"500\" height=\"200\"/>\n",
    "\n",
    "- This model has three layers. \n",
    "- We start with the variables that don't depend on anything else. So that would be sigma squared and move down the chain. So here, the next variable is mu which depends on sigma squared. \n",
    "- We use a double circle because the yi's are observed, their data, and we're going to assume that they're exchangeable. So let's put them on a plate here for i in 1 to n \n",
    "- The distribution of yi depends on both mu and sigma squared, so we'll draw curves connecting those pieces there. \n",
    "\n",
    "<img src=\"img/bayes4_4.png\" width=\"500\" height=\"200\"/>\n",
    "\n",
    "- To simulate hypothetical data from this model, we would have to first draw from the distribution of the prior for sigma squared. \n",
    "\n",
    "- Once we have a model specification, we can write out what the full posterior distribution for all the parameters given the data looks like. \n",
    "\n",
    "<img src=\"img/bayes4_6.png\" width=\"500\" height=\"200\"/>\n",
    "\n",
    "- The conditional prior of mu given sigma squared is also a normal. So we're going to multiply this by a normal distribution of mu, where its parameters are mu naught and sigma squared over omega naught. \n",
    "- And finally, we have the prior for sigma squared. We'll multiply by the density of an inverse gamma for sigma squared given the hyper parameters mu naught, sorry, that is given, the hyper parameters mu naught and and beta naught. \n",
    "\n",
    "<img src=\"img/bayes4_8.png\" width=\"500\" height=\"200\"/>\n",
    "\n",
    "- What we have right here is the joint distribution of everything. It is the numerator in Bayes theorem\n",
    "- We have that the posterior distribution of the parameter given the data \n",
    "\n",
    "- In other words, what we have already written for this particular model is proportional to the posterior distribution of mu and sigma squared, given all of the data. \n",
    "\n",
    "- The only thing missing in this expression right here is just some constant number that causes the expression to integrate to 1. \n",
    "\n",
    "<img src=\"img/bayes4_9.png\" width=\"500\" height=\"200\"/>\n",
    "\n",
    "- This was the case for all models in the previous course. However, if we do not use conjugate priors or if the models are more complicated, then the posterior distribution will not have a standard form that we can recognize. \n",
    "\n",
    "\n"
   ]
  },
  {
   "cell_type": "markdown",
   "metadata": {},
   "source": [
    "## 2. Bayesian Modeling\n",
    "### 2-5 Non-conjugate models\n",
    "\n",
    "<img src=\"img/bayes4_11.png\" width=\"500\" height=\"200\"/>\n",
    "\n",
    "- Let's talk about a couple examples of models that don't have nice, clean posterior distributions. \n",
    "\n",
    "<img src=\"img/bayes4_12.png\" width=\"500\" height=\"200\"/>\n",
    "\n",
    "- We're going to assume for now, that these are independent measurements from a normal distribution with a known variance equal to one, but an unknown mean\n",
    "\n",
    "- Will be distributed normally with mean mu, and we're just going to use variance 1. In this case, the unknown mean could represent growth for this particular industry. \n",
    "\n",
    "- But suppose we decide that our prior believes about mu are better reflected using a standard t distribution with one degree of freedom. So we could write that as the prior for mu is a t distribution \n",
    "\n",
    "<img src=\"img/bayes4_13.png\" width=\"500\" height=\"200\"/>\n",
    "\n",
    "- Recall that the posterior distribution of mu is proportional to the likelihood times the prior. Let's write the expression for that in this model. That is the posterior distribution for mu given the data y1 through yn \n",
    "\n",
    "- E to the negative one-half. \n",
    "\n",
    "- This is the likelihood times the prior. If we do a little algebra here, first of all, we're doing this up to proportionality. \n",
    "\n",
    "\n",
    "<img src=\"img/bayes4_14.png\" width=\"500\" height=\"200\"/>\n",
    "\n",
    "- So, constants being multiplied by this expression are not important. So, the square root of 2 pi being multiplied n times, just creates the constant number, and this pi out here creates a constant number. We're going to drop them in our next step. \n",
    "\n",
    "- So this is now proportional too, we're removing this piece and now we're going to use properties of exponents. \n",
    "\n",
    "- The product of exponents is the sum of the exponentiated pieces. So we have the exponent of negative one-half times the sum from i equals 1 to n, of Yi minus mu squared. \n",
    "\n",
    "- And then we're dropping the pie over here, so times 1 plus mu squared. \n",
    "  \n",
    "\n",
    "<img src=\"img/bayes4_15.png\" width=\"500\" height=\"200\"/>\n",
    "\n",
    "- We're going to do a few more steps of algebra here to get a nicer expression for this piece. But we're going to skip ahead to that. We've now added these last two expressions. \n",
    "\n",
    "- To arrive at this expression here for the posterior, or what's proportional to the posterior distribution. \n",
    "\n",
    "- We know the posterior distribution up to a constant but we don't recognize its form as a standard distribution. That we can integrate or simulate from, so we'll have to do something else. \n",
    "\n",
    "<img src=\"img/bayes4_16.png\" width=\"500\" height=\"200\"/>\n",
    "\n",
    "- For a two parameter example, we're going to return to the case where we have a normal likelihood. And we're now going to estimate mu and sigma squared, because they're both unknown. \n",
    "\n",
    "- Recall that if sigma squared were known, the conjugate prior from mu would be a normal distribution. And if mu were known, the conjugate prior we could choose for sigma squared would be an inverse gamma. \n",
    "\n",
    "- We saw earlier that if you include sigma squared in the prior for mu, and use the hierarchical model that we presented earlier, that model would be conjugate and have a closed form solution\n",
    "\n",
    "- Bayesian in methods from entering the main stream of statistics for many years. Since only the simplest problems were tractable. "
   ]
  },
  {
   "cell_type": "markdown",
   "metadata": {},
   "source": [
    "## 3. Monte Carlo Estimation\n",
    "### 3-1 Monte Carlo integration\n",
    "\n",
    "<img src=\"img/bayes5_1.png\" width=\"500\" height=\"200\"/>\n",
    "\n",
    "- Before we learn how to simulate from complicated posterior distributions. Let's review some of the basics of Monte Carlo estimation\n",
    "\n",
    "- Monte Carlo estimation refers to simulating hypothetical draws from a probability distribution. In order to calculate important quantities of that distribution\n",
    "\n",
    "<img src=\"img/bayes5_2.png\" width=\"500\" height=\"200\"/>\n",
    "\n",
    "- To calculate the mean of this distribution, we would need to compute the following integral\n",
    "\n",
    "<img src=\"img/bayes5_3.png\" width=\"500\" height=\"200\"/>\n",
    "\n",
    "- The expected value of theta is equal to the integral over the whole space for theta\n",
    "\n",
    "- However, we can verify this answer using Monte Carlo estimation\n",
    "\n",
    "<img src=\"img/bayes5_4.png\" width=\"500\" height=\"200\"/>\n",
    "\n",
    "- We would simulate this from this gamma distribution.\n",
    "- We would take the sample mean or the average of these draws. \n",
    "- The average of those samples converges in probability to the true mean of that distribution by the Law of Large Numbers.\n",
    "- Theta star i. This sample mean right here approximately follows a normal distribution\n",
    "\n",
    "<img src=\"img/bayes5_5.png\" width=\"500\" height=\"200\"/>\n",
    "\n",
    "- And the variance of that is the true variance of the distribution divided by m, the sample size. \n",
    "\n",
    "- The theoretical variance of theta is the following integral. \n",
    "\n",
    "- The variance of theta just like the expected value, we did up here. We're calculating the expected value of theta minus its expected value squared. \n",
    "\n",
    "\n",
    "<img src=\"img/bayes5_7.png\" width=\"500\" height=\"200\"/>\n",
    "\n",
    "- This method of Monte Carlo estimation can be use to calculate many different integrals. Let's say, for example, that h of theta is function of theta, and we want to calculate the following integral. \n",
    "\n",
    "- h of theta times the density of theta, d theta. This integral is precisely what is meant by the expectation of a h of theta. \n",
    "\n",
    "<img src=\"img/bayes5_9.png\" width=\"500\" height=\"200\"/>\n",
    "\n",
    "- Where we evaluate the h function on each of our simulated samples of theta. \n",
    "\n",
    "- This quantity would approximate this expected value which is this integral.\n",
    "\n",
    "- One extremely useful example of such an h function is the indicator function, written like this. \n",
    "\n",
    "- To demonstrate this let's suppose that in an example, let's say that h of theta is the indicator that theta is less than 5. \n",
    "\n",
    "- This function here, this indicator will give us a 1 if theta is indeed less than 5, or it will return a 0 otherwise. So what is the expected value, Of h of theta here? \n",
    "\n",
    "- Well this is the intergral from zero to infinity, once again, assuming that theta is coming from a gamma distribution. \n",
    "\n",
    "- The expected value of h of theta will be h of theta this indicator function, times the density of theta. \n",
    "\n",
    "<img src=\"img/bayes5_10.png\" width=\"500\" height=\"200\"/>\n",
    "\n",
    "- So if we evaluate this, this function will come out to be a 1. If theta is between 0 and 5, so 0 to 5. 1 times the density of theta \n",
    "\n",
    "<img src=\"img/bayes5_11.png\" width=\"500\" height=\"200\"/>\n",
    "\n",
    "- This piece right here is going to disappear. And this right here, if we integrate the density between these two values. That's simply calculating the probability that 0 is less than theta is less than 5. The probability that theta is between these two numbers. \n",
    "\n",
    "<img src=\"img/bayes5_12.png\" width=\"500\" height=\"200\"/>\n",
    "\n",
    "- We would take the sample mean, Of these indicator functions where theta star is less than 5. And apply it to our simulated values. \n",
    "\n",
    "- What this function does is simply counts how many of our simulated values meet this criteria. And then divides by the total number of samples taken.\n",
    "\n",
    "- Likewise, we can approximate quantiles of a distribution. If we're looking for a value z, that makes it so that the probability of being less than z is 0.9 for example. We would simply arrange the samples theta star I in ascending order. And then we would find the smallest value of the theta stars that's greater than 90% of the others\n",
    "\n",
    "<img src=\"img/bayes5_13.png\" width=\"500\" height=\"200\"/>\n"
   ]
  },
  {
   "cell_type": "markdown",
   "metadata": {},
   "source": [
    "## 3. Monte Carlo Estimation\n",
    "### 3-2 Monte Carlo error and marginalization\n",
    "\n",
    "<img src=\"img/bayes6_1.png\" width=\"500\" height=\"200\"/>\n",
    "\n",
    "- How good is an approximation by Monte Carlo sampling?\n",
    "- Again, we can turn to the central limit theorem, which tells us that the variance of our estimate is controlled in part by m, our sample size\n",
    "\n",
    "<img src=\"img/bayes6_2.png\" width=\"500\" height=\"200\"/>\n",
    "- By the central limit theorem, the sample mean approximately follows, I'm going to use this symbol to denote approximately distributed, normal, where the mean of this normal distribution is the true expected value of theta. \n",
    "\n",
    "- And the variance of this distribution is the true variance of theta, Divided by our sample size m. \n",
    "\n",
    "<img src=\"img/bayes6_3.png\" width=\"500\" height=\"200\"/>\n",
    "\n",
    "- The variance tells us how far our estimate might be from the true value. \n",
    "- One way to approximate this variance, the theoretical variance of theta, is if we replace it with the sample varianc\n",
    "- Theta hat (We're just approximating that integral for the variance)\n",
    "- So it's just the sample mean of theta i star minus the expected value, which we're also approximating with the sample mean\n",
    "\n",
    "<img src=\"img/bayes6_4.png\" width=\"500\" height=\"200\"/>\n",
    "\n",
    "- The standard deviation of our Monte Carlo estimate is the square root of that. The square root and if we're plugging in the value, we'll have variance hat of theta divided by m under the square root. \n",
    "\n",
    "<img src=\"img/bayes6_5.png\" width=\"500\" height=\"200\"/>\n",
    "\n",
    "- We can also obtain Monte Carlo samples from hierarchical models\n",
    "- Let's further assume that phi comes from its own distribution, that it's random\n",
    "\n",
    "<img src=\"img/bayes6_6.png\" width=\"500\" height=\"200\"/>\n",
    "\n",
    "- Given any hierarchical model, we can always write out the joint distribution of y and phi. \n",
    "\n",
    "- The joint distribution of y and phi using the chain rule of probability will be \n",
    "\n",
    "<img src=\"img/bayes6_7.png\" width=\"500\" height=\"200\"/>\n",
    "\n",
    "- To simulate from this joint distribution, we're going to repeat the following steps for a large number of samples, m. \n",
    "- The first step we're going to take to simulate would be to draw a theta star i. \n",
    "- Then the second step is given this value that we just drew for phi. \n",
    "- These pairs right here are drawn from their joint distribution. \n",
    "\n",
    "<img src=\"img/bayes6_8.png\" width=\"500\" height=\"200\"/>\n",
    "\n",
    "- One major advantage of Monte Carlo simulation is that marginalizing these distributions is easy.\n",
    "\n",
    "- Calculating the marginal distribution of y might be difficult here.\n",
    "\n",
    "- But, if we have draws from the joint distribution, then we can just discard the phi i stars and use the y i stars as samples from their marginal distribution. This is also called prior predictive distributions which was introduced in the previous course. \n",
    "\n",
    "<img src=\"img/bayes6_9.png\" width=\"500\" height=\"200\"/>"
   ]
  },
  {
   "cell_type": "code",
   "execution_count": 1,
   "metadata": {
    "collapsed": true
   },
   "outputs": [],
   "source": [
    "###Lesson 3.3\n",
    "###Example from Lesson 3.1\n",
    "#Monte Carlo simulation from the most common distributions is very straightforward in R.\n",
    "\n",
    "# Let’s start with the example from the previous segment, where θ∼Gamma(a,b)θ∼Gamma(a,b) with a=2,b=1/3a=2,b=1/3. This could represent the posterior distribution of θθ if our data came from a Poisson distribution with mean θθ and we had used a conjugate gamma prior. Let’s start with m=100m=100.\n",
    "\n",
    "set.seed(32) # Initializes the random number generator so we can replicate these results. To get different random numbers, change the seed.\n",
    "m = 100\n",
    "a = 2.0\n",
    "b = 1.0 / 3.0"
   ]
  },
  {
   "cell_type": "code",
   "execution_count": 2,
   "metadata": {
    "collapsed": true
   },
   "outputs": [],
   "source": [
    "theta = rgamma(n=m, shape=a, rate=b)"
   ]
  },
  {
   "cell_type": "code",
   "execution_count": 3,
   "metadata": {
    "collapsed": false
   },
   "outputs": [
    {
     "data": {
      "image/png": "[encoded data removed]",
      "text/plain": [
       "Plot with title “Histogram of theta”"
      ]
     },
     "metadata": {},
     "output_type": "display_data"
    }
   ],
   "source": [
    "hist(theta, freq=FALSE)\n",
    "curve(dgamma(x=x, shape=a, rate=b), col=\"blue\", add=TRUE)"
   ]
  },
  {
   "cell_type": "code",
   "execution_count": 4,
   "metadata": {
    "collapsed": false
   },
   "outputs": [
    {
     "data": {
      "text/html": [
       "5.51406757147033"
      ],
      "text/latex": [
       "5.51406757147033"
      ],
      "text/markdown": [
       "5.51406757147033"
      ],
      "text/plain": [
       "[1] 5.514068"
      ]
     },
     "metadata": {},
     "output_type": "display_data"
    }
   ],
   "source": [
    "sum(theta) / m # sample mean"
   ]
  },
  {
   "cell_type": "code",
   "execution_count": 5,
   "metadata": {
    "collapsed": false
   },
   "outputs": [
    {
     "data": {
      "text/html": [
       "5.51406757147033"
      ],
      "text/latex": [
       "5.51406757147033"
      ],
      "text/markdown": [
       "5.51406757147033"
      ],
      "text/plain": [
       "[1] 5.514068"
      ]
     },
     "metadata": {},
     "output_type": "display_data"
    }
   ],
   "source": [
    "mean(theta) # sample mean"
   ]
  },
  {
   "cell_type": "code",
   "execution_count": 7,
   "metadata": {
    "collapsed": false
   },
   "outputs": [
    {
     "data": {
      "text/html": [
       "6"
      ],
      "text/latex": [
       "6"
      ],
      "text/markdown": [
       "6"
      ],
      "text/plain": [
       "[1] 6"
      ]
     },
     "metadata": {},
     "output_type": "display_data"
    }
   ],
   "source": [
    "a / b # true expected value"
   ]
  },
  {
   "cell_type": "code",
   "execution_count": 8,
   "metadata": {
    "collapsed": false
   },
   "outputs": [
    {
     "data": {
      "text/html": [
       "6.02327323581414"
      ],
      "text/latex": [
       "6.02327323581414"
      ],
      "text/markdown": [
       "6.02327323581414"
      ],
      "text/plain": [
       "[1] 6.023273"
      ]
     },
     "metadata": {},
     "output_type": "display_data"
    }
   ],
   "source": [
    "m = 1e4\n",
    "theta = rgamma(n=m, shape=a, rate=b)\n",
    "mean(theta)"
   ]
  },
  {
   "cell_type": "code",
   "execution_count": 9,
   "metadata": {
    "collapsed": false
   },
   "outputs": [
    {
     "data": {
      "text/html": [
       "18.0431830080327"
      ],
      "text/latex": [
       "18.0431830080327"
      ],
      "text/markdown": [
       "18.0431830080327"
      ],
      "text/plain": [
       "[1] 18.04318"
      ]
     },
     "metadata": {},
     "output_type": "display_data"
    }
   ],
   "source": [
    "var(theta) # sample variance"
   ]
  },
  {
   "cell_type": "code",
   "execution_count": 10,
   "metadata": {
    "collapsed": false
   },
   "outputs": [
    {
     "data": {
      "text/html": [
       "18"
      ],
      "text/latex": [
       "18"
      ],
      "text/markdown": [
       "18"
      ],
      "text/plain": [
       "[1] 18"
      ]
     },
     "metadata": {},
     "output_type": "display_data"
    }
   ],
   "source": [
    "a / b^2 # true variance of Gamma(a,b)"
   ]
  },
  {
   "cell_type": "code",
   "execution_count": 11,
   "metadata": {
    "collapsed": false
   },
   "outputs": [
    {
     "data": {
      "text/html": [
       "0.497"
      ],
      "text/latex": [
       "0.497"
      ],
      "text/markdown": [
       "0.497"
      ],
      "text/plain": [
       "[1] 0.497"
      ]
     },
     "metadata": {},
     "output_type": "display_data"
    }
   ],
   "source": [
    "ind = theta < 5.0 # set of indicators, TRUE if theta_i < 5\n",
    "mean(ind) # automatically converts FALSE/TRUE to 0/1"
   ]
  },
  {
   "cell_type": "code",
   "execution_count": 12,
   "metadata": {
    "collapsed": false
   },
   "outputs": [
    {
     "data": {
      "text/html": [
       "0.496331725766502"
      ],
      "text/latex": [
       "0.496331725766502"
      ],
      "text/markdown": [
       "0.496331725766502"
      ],
      "text/plain": [
       "[1] 0.4963317"
      ]
     },
     "metadata": {},
     "output_type": "display_data"
    }
   ],
   "source": [
    "pgamma(q=5.0, shape=a, rate=b) # true value of Pr( theta < 5 )"
   ]
  },
  {
   "cell_type": "code",
   "execution_count": 13,
   "metadata": {
    "collapsed": false
   },
   "outputs": [
    {
     "data": {
      "text/html": [
       "<strong>90%:</strong> 11.7433775606538"
      ],
      "text/latex": [
       "\\textbf{90\\textbackslash{}\\%:} 11.7433775606538"
      ],
      "text/markdown": [
       "**90%:** 11.7433775606538"
      ],
      "text/plain": [
       "     90% \n",
       "11.74338 "
      ]
     },
     "metadata": {},
     "output_type": "display_data"
    }
   ],
   "source": [
    "quantile(x=theta, probs=0.9)"
   ]
  },
  {
   "cell_type": "code",
   "execution_count": 14,
   "metadata": {
    "collapsed": false
   },
   "outputs": [
    {
     "data": {
      "text/html": [
       "11.6691605096023"
      ],
      "text/latex": [
       "11.6691605096023"
      ],
      "text/markdown": [
       "11.6691605096023"
      ],
      "text/plain": [
       "[1] 11.66916"
      ]
     },
     "metadata": {},
     "output_type": "display_data"
    }
   ],
   "source": [
    "qgamma(p=0.9, shape=a, rate=b) # true value of 0.9 quantile"
   ]
  },
  {
   "cell_type": "markdown",
   "metadata": {},
   "source": [
    "### Lesson 3.4\n",
    "### Monte Carlo error\n",
    "\n",
    "- We can use the CLT to approximate how accurate our Monte Carlo estimates are. For example, if we seek E(θ)E(θ), then the sample mean θ¯∗θ¯∗ approximately follows a normal distribution with mean E(θ)E(θ) and variance Var(θ)/mVar(θ)/m. \n",
    "\n",
    "- We will use the sample standard deviation divided by the square root of mm to approximate the Monte Carlo standard deviation."
   ]
  },
  {
   "cell_type": "code",
   "execution_count": 15,
   "metadata": {
    "collapsed": false
   },
   "outputs": [
    {
     "data": {
      "text/html": [
       "0.0849545360955675"
      ],
      "text/latex": [
       "0.0849545360955675"
      ],
      "text/markdown": [
       "0.0849545360955675"
      ],
      "text/plain": [
       "[1] 0.08495454"
      ]
     },
     "metadata": {},
     "output_type": "display_data"
    }
   ],
   "source": [
    "se = sd(theta) / sqrt(m)\n",
    "2.0 * se # we are reasonably confident that the Monte Carlo estimate is no more than this far from the truth"
   ]
  },
  {
   "cell_type": "code",
   "execution_count": 16,
   "metadata": {
    "collapsed": false
   },
   "outputs": [
    {
     "data": {
      "text/html": [
       "0.0100003200268823"
      ],
      "text/latex": [
       "0.0100003200268823"
      ],
      "text/markdown": [
       "0.0100003200268823"
      ],
      "text/plain": [
       "[1] 0.01000032"
      ]
     },
     "metadata": {},
     "output_type": "display_data"
    }
   ],
   "source": [
    "ind = theta < 5.0\n",
    "se = sd(ind) / sqrt(m)\n",
    "2.0 * se # we are reasonably confident that the Monte Carlo estimate is no more than this far from the truth"
   ]
  },
  {
   "cell_type": "markdown",
   "metadata": {},
   "source": [
    "#### Marginalization\n",
    "- Let’s also do the second example of simulating a hierarchical model. In our example from the previous segment, we had a binomial random variable where y∣ϕ∼iidBin(10,ϕ)y∣ϕ∼iidBin(10,ϕ), and ϕ∼Beta(2,2)ϕ∼Beta(2,2). To simulate from this joint distribution, repeat these steps for a large number mm:\n",
    "\n",
    "- Simulate ϕiϕi from its Beta(2,2)Beta(2,2) distribution.\n",
    "- Given the drawn ϕiϕi, simulate yiyi from Bin(10,ϕi)Bin(10,ϕi)."
   ]
  },
  {
   "cell_type": "code",
   "execution_count": 17,
   "metadata": {
    "collapsed": true
   },
   "outputs": [],
   "source": [
    "m = 10e4\n",
    "\n",
    "y = numeric(m) # create the vectors we will fill in with simulations\n",
    "phi = numeric(m)\n",
    "\n",
    "for (i in 1:m) {\n",
    "  phi[i] = rbeta(n=1, shape1=2.0, shape2=2.0)\n",
    "  y[i] = rbinom(n=1, size=10, prob=phi[i])\n",
    "}\n",
    "# which is equivalent to the following 'vectorized' code\n",
    "phi = rbeta(n=m, shape1=2.0, shape2=2.0)\n",
    "y = rbinom(n=m, size=10, prob=phi)"
   ]
  },
  {
   "cell_type": "code",
   "execution_count": 18,
   "metadata": {
    "collapsed": false
   },
   "outputs": [
    {
     "data": {
      "text/html": [
       "5.00008"
      ],
      "text/latex": [
       "5.00008"
      ],
      "text/markdown": [
       "5.00008"
      ],
      "text/plain": [
       "[1] 5.00008"
      ]
     },
     "metadata": {},
     "output_type": "display_data"
    }
   ],
   "source": [
    "mean(y)"
   ]
  },
  {
   "cell_type": "code",
   "execution_count": 19,
   "metadata": {
    "collapsed": false
   },
   "outputs": [
    {
     "data": {
      "image/png": "[encoded data removed]",
      "text/plain": [
       "Plot with title “Marginal distribution of y”"
      ]
     },
     "metadata": {},
     "output_type": "display_data"
    }
   ],
   "source": [
    "plot(prop.table(table(y)), ylab=\"P(y)\", main=\"Marginal distribution of y\")"
   ]
  }
 ],
 "metadata": {
  "kernelspec": {
   "display_name": "R",
   "language": "R",
   "name": "ir"
  },
  "language_info": {
   "codemirror_mode": "r",
   "file_extension": ".r",
   "mimetype": "text/x-r-source",
   "name": "R",
   "pygments_lexer": "r",
   "version": "3.3.3"
  }
 },
 "nbformat": 4,
 "nbformat_minor": 2
}
